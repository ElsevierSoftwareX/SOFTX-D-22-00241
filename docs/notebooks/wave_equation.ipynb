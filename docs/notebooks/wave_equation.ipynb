{
 "cells": [
  {
   "cell_type": "code",
   "execution_count": 1,
   "id": "2151b1a7-771d-4241-9156-b54197b169f4",
   "metadata": {},
   "outputs": [],
   "source": [
    "%load_ext autoreload\n",
    "%autoreload 2"
   ]
  },
  {
   "cell_type": "code",
   "execution_count": 2,
   "id": "119a738b-8ec6-487c-94ca-f1abca24fef7",
   "metadata": {},
   "outputs": [],
   "source": [
    "from jwave.geometry import Domain\n",
    "\n",
    "# Simulation parameters\n",
    "dt = 0.01\n",
    "c_ref = 1.\n",
    "dx = 1.\n",
    "\n",
    "# Domain\n",
    "domain = Domain((128,128), (dx,dx))"
   ]
  },
  {
   "cell_type": "markdown",
   "id": "9a6ab02f-2264-4cbb-974f-babf22d71d63",
   "metadata": {
    "tags": []
   },
   "source": [
    "# k-Wave equations\n",
    "\n",
    "With don't consider absorption for the moment. The equations are\n",
    "\n",
    "$$\n",
    "\\begin{align}\n",
    "\\partial_t \\mathbf{u} &= -\\frac{1}{\\rho_0}\\nabla p \\\\\n",
    "\\partial_t \\rho &= -\\rho_0\\nabla \\cdot \\mathbf{u} - \\mathbf{u} \\cdot \\nabla \\rho_0 \\\\\n",
    "\\partial_t \\mathbf{d} &= \\mathbf{u} \\\\\n",
    "\\\\\n",
    "p &= c_0^2 \\rho\n",
    "\\end{align}\n",
    "$$\n",
    "\n",
    "We are now going to reproduce k-Wave by building up the required numerical operators one by one, and then joining them up using an ODE integrator."
   ]
  },
  {
   "cell_type": "markdown",
   "id": "5c23ce4f-364d-4c8e-9c0a-3795383fbac3",
   "metadata": {},
   "source": [
    "### Staggered derivative operators\n",
    "For stability reasons, we want to modify the derivative operators such that they work on staggered grids for Spectral and Finite Difference methods. We want also to modify the Spectral operator to include an extra k-space operator to improve the accuracy of the simulation\n",
    "\n",
    "The easiest way to do this is to extend the base classes with new ones, that have a common operator that computes such modified derivatives."
   ]
  },
  {
   "cell_type": "code",
   "execution_count": 3,
   "id": "242c49b5-66e2-4225-96f4-907a4dc2138d",
   "metadata": {
    "tags": []
   },
   "outputs": [],
   "source": [
    "from jwave.primitives import Primitive\n",
    "from jax import numpy as jnp\n",
    "from jax.tree_util import tree_map\n",
    "from enum import IntEnum\n",
    "\n",
    "class Staggered(IntEnum):\n",
    "    NONE = 0\n",
    "    FORWARD = 1\n",
    "    BACKWARD = -1\n",
    "\n",
    "class FFTStaggeredGrad(Primitive):\n",
    "    def __init__(\n",
    "        self, \n",
    "        name=\"FFTStaggeredGrad\",\n",
    "        c_ref=1.,\n",
    "        dt = 1.,\n",
    "        direction=Staggered.NONE,\n",
    "        independent_params=False\n",
    "    ):\n",
    "        super().__init__(name, independent_params)\n",
    "        self.direction = direction\n",
    "        self.c_ref = c_ref\n",
    "        self.dt = dt\n",
    "        \n",
    "    def setup(self, field):\n",
    "        def f(N, dx):\n",
    "            return jnp.fft.fftfreq(N, dx) * 2 * jnp.pi\n",
    "        domain = field.discretization.domain\n",
    "        k_vec = [f(n, delta) for n, delta in zip(domain.N, domain.dx)]\n",
    "        \n",
    "        new_discretization = field.discretization\n",
    "        dx = field.discretization.domain.dx\n",
    "        \n",
    "        K = jnp.stack(jnp.meshgrid(*k_vec, indexing=\"ij\"))\n",
    "        k_magnitude = jnp.sqrt(jnp.sum(K ** 2, 0))\n",
    "        k_space_op = jnp.expand_dims(jnp.sinc(self.c_ref * k_magnitude * self.dt / (2 * jnp.pi)), -1)\n",
    "        \n",
    "        parameters = {\n",
    "            \"k_vec\": k_vec,\n",
    "            \"dx\": dx,\n",
    "            \"k_space_op\": k_space_op\n",
    "        }\n",
    "        return parameters, new_discretization\n",
    "    \n",
    "    def discrete_transform(self):\n",
    "        def f(op_params, field_params):\n",
    "            # Extract parameters for convenience\n",
    "            k_vec = op_params[\"k_vec\"]\n",
    "            dx = op_params[\"dx\"]\n",
    "            kspaceop = op_params[\"k_space_op\"]\n",
    "            \n",
    "            # Make the modified k-vectors\n",
    "            k_vec = [1j*k*jnp.exp(1j*k*self.direction*delta/2) for k, delta in zip(k_vec,dx)]\n",
    "            \n",
    "            # Perform directional gradients with a single Forward FFT\n",
    "            # NOTE: This could have done better with are real FFT\n",
    "            P = jnp.fft.fftn(field_params)\n",
    "            \n",
    "            def make_dx(FP, axis):\n",
    "                FdP = jnp.moveaxis(jnp.moveaxis(FP, axis, -1)*k_vec[axis], -1, axis)\n",
    "                return jnp.fft.ifftn(FdP*kspaceop).real\n",
    "                    \n",
    "            ndim = len(field_params.shape) - 1 \n",
    "            dp = jnp.concatenate([make_dx(P,ax) for ax in range(ndim)], axis=-1)\n",
    "            \n",
    "            return dp\n",
    "        f.__name__ = self.name\n",
    "        return f\n",
    "\n",
    "# We only need to overload the discrete transformation\n",
    "# all the rest is the same\n",
    "class FFTStaggeredDiagJacobian(FFTStaggeredGrad):\n",
    "    def __init__(\n",
    "        self, \n",
    "        name=\"FFTStaggeredDiagJacobian\",\n",
    "        c_ref=1.,\n",
    "        dt = 1.,\n",
    "        direction=Staggered.NONE,\n",
    "        independent_params=False\n",
    "    ):\n",
    "        super().__init__(name, independent_params)\n",
    "        self.direction = direction\n",
    "        self.c_ref = c_ref\n",
    "        self.dt = dt\n",
    "        \n",
    "    def discrete_transform(self):\n",
    "        def f(op_params, field_params):\n",
    "            # Extract parameters for convenience\n",
    "            k_vec = op_params[\"k_vec\"]\n",
    "            dx = op_params[\"dx\"]\n",
    "            kspaceop = op_params[\"k_space_op\"]\n",
    "            \n",
    "            # Make the modified k-vectors\n",
    "            k_vec = [1j*k*jnp.exp(1j*k*self.direction*delta/2) for k, delta in zip(k_vec,dx)]\n",
    "            \n",
    "            # Perform directional gradients with a single Forward FFT\n",
    "            # NOTE: This could have done better with are real FFT\n",
    "            def make_dx(P, axis):\n",
    "                FP = jnp.fft.fftn(p)\n",
    "                FdP = jnp.moveaxis(jnp.moveaxis(FP, axis, -1)*k_vec[axis], -1, axis)\n",
    "                output = jnp.fft.ifftn(FdP*kspaceop).real\n",
    "                return output\n",
    "            \n",
    "            ndim = len(field_params.shape) - 1 \n",
    "            dp = jnp.concatenate([make_dx(field_params[...,ax],ax) for ax in range(ndim)], axis=-1)\n",
    "            return dp\n",
    "        f.__name__ = self.name\n",
    "        return f"
   ]
  },
  {
   "cell_type": "markdown",
   "id": "f5f0289d-4a9d-4fed-815f-def3814943c5",
   "metadata": {},
   "source": [
    "Now that we have defined the primitives, we just have to bind them to a method of the new discretization"
   ]
  },
  {
   "cell_type": "code",
   "execution_count": 4,
   "id": "b3898891-0839-4720-97b9-a9d6c8125102",
   "metadata": {},
   "outputs": [],
   "source": [
    "from jwave.discretization import RealFourierSeries\n",
    "import jwave.operators as jops\n",
    "\n",
    "fwd_staggered_grad = jops.OperatorWithArgs(\n",
    "    \"staggered_grad\", \n",
    "    c_ref = 1.,\n",
    "    dt = .01,\n",
    "    direction = Staggered.FORWARD\n",
    ")\n",
    "\n",
    "bwd_staggered_diag_jacobian = jops.OperatorWithArgs(\n",
    "    \"staggered_diag_jacobian\", \n",
    "    c_ref = 1.,\n",
    "    dt = .01,\n",
    "    direction = Staggered.BACKWARD\n",
    ")\n",
    "\n",
    "class CustomFourier(RealFourierSeries):\n",
    "    def __init__(self, *args, **kwargs):\n",
    "        super().__init__(*args, **kwargs)\n",
    "    \n",
    "    @staticmethod\n",
    "    def staggered_grad(u, c_ref, dt, direction):\n",
    "        return FFTStaggeredGrad(c_ref=c_ref,dt=dt,direction=direction)(u)\n",
    "    \n",
    "    @staticmethod\n",
    "    def staggered_diag_jacobian(u, c_ref, dt, direction):\n",
    "        return FFTStaggeredDiagJacobian(c_ref=c_ref,dt=dt,direction=direction)(u)"
   ]
  },
  {
   "cell_type": "markdown",
   "id": "793f7ac9-2b9d-46ff-9496-99caab32313b",
   "metadata": {},
   "source": [
    "The next step is to define the mathematical operators required for the time-stepping scheme. We'll then discretize them"
   ]
  },
  {
   "cell_type": "code",
   "execution_count": 5,
   "id": "7cc4d803-15e9-448a-b84f-5fbfa619446e",
   "metadata": {},
   "outputs": [],
   "source": [
    "from jwave.core import operator\n",
    "\n",
    "@operator()\n",
    "def du(rho0, p, Source_f):\n",
    "    dp = fwd_staggered_grad(p)\n",
    "    return (-1.)*dp/rho0 + Source_f\n",
    "\n",
    "@operator()\n",
    "def drho(u, rho0, tau, Source_m):\n",
    "    du = bwd_staggered_diag_jacobian(u)\n",
    "    return (-1.)*rho0*du + Source_m\n",
    "\n",
    "@operator()\n",
    "def p_new(c, rho):\n",
    "    return (c**2.)*jops.sum_over_dims(rho)"
   ]
  },
  {
   "cell_type": "code",
   "execution_count": 6,
   "id": "ddbced95-24f5-49c9-9660-b467f02aa7d0",
   "metadata": {},
   "outputs": [
    {
     "data": {
      "text/plain": [
       "<matplotlib.image.AxesImage at 0x7fcb6c141970>"
      ]
     },
     "execution_count": 6,
     "metadata": {},
     "output_type": "execute_result"
    },
    {
     "data": {
      "image/png": "[encoded data removed]",
      "text/plain": [
       "<Figure size 360x864 with 2 Axes>"
      ]
     },
     "metadata": {
      "needs_background": "light"
     },
     "output_type": "display_data"
    }
   ],
   "source": [
    "from jwave.discretization import Coordinate\n",
    "from jwave.core import Field\n",
    "from matplotlib import pyplot as plt\n",
    "\n",
    "# Construct the PML field\n",
    "coordinate_discr = Coordinate(domain)\n",
    "X = Field(coordinate_discr, params={}, name=\"X\")\n",
    "\n",
    "delta_pml = 54.\n",
    "\n",
    "@operator()\n",
    "def pml_fun(X):\n",
    "    on_pml = jops.elementwise(\n",
    "        lambda x: jnp.where(\n",
    "            jnp.abs(x) > delta_pml,\n",
    "            (jnp.abs(jnp.abs(x)-delta_pml)/(64. - delta_pml)), \n",
    "            0.)\n",
    "    )\n",
    "    alpha = 4.*on_pml(X)**4\n",
    "    return jops.elementwise(jnp.exp)((-1)*alpha*dt/2)\n",
    "\n",
    "# Discretize it on the grid\n",
    "pml_field = pml_fun(X=X)\n",
    "global_params = pml_field.get_global_params()\n",
    "pml_on_grid = pml_field.get_field_on_grid(0)(global_params, {'X': {}})\n",
    "\n",
    "# Show field example\n",
    "fig, ax = plt.subplots(1,2,figsize=(5,12))\n",
    "ax[0].imshow(pml_on_grid[...,0])\n",
    "ax[1].imshow(pml_on_grid[...,1])"
   ]
  },
  {
   "cell_type": "code",
   "execution_count": 7,
   "id": "36a8473f-aec2-4cf5-bf78-ef4b73671f43",
   "metadata": {},
   "outputs": [],
   "source": [
    "from jwave.discretization import RealFourierSeries\n",
    "from jax import random\n",
    "\n",
    "seeds = random.split(random.PRNGKey(42), 20)\n",
    "\n",
    "# Defining discretization\n",
    "fourier_discr = CustomFourier(domain)\n",
    "fourier_discr_2D = CustomFourier(domain, dims=2)\n",
    "\n",
    "# Defining the field parameters needed for simulation \n",
    "# and the corresponding objects\n",
    "c, c_f = fourier_discr.random_field(seeds[0],name=\"c\")\n",
    "p, p_f = fourier_discr.random_field(seeds[1],name=\"p\")\n",
    "rho, rho_f = fourier_discr.random_field(seeds[2],name=\"rho\")\n",
    "rho0, rho0_f = fourier_discr_2D.random_field(seeds[3],name=\"rho0\")\n",
    "Source_f, SF_f = fourier_discr_2D.random_field(seeds[4],name=\"Source_f\")\n",
    "Source_m, SM_f = fourier_discr_2D.random_field(seeds[5],name=\"Source_m\")\n",
    "tau, tau_f = fourier_discr.random_field(seeds[6],name=\"tau\")\n",
    "u, u_f = fourier_discr_2D.random_field(seeds[7],name=\"u\")\n",
    "\n",
    "# Numerical functions\n",
    "_du = du(rho0=rho0_f, p=p_f, Source_f=SF_f)\n",
    "gp_du = _du.get_global_params()\n",
    "def du_f(gp, rho0, p, Sf):\n",
    "    return _du.get_field_on_grid(0)(gp,{\"rho0\": rho0, \"p\": p, \"Source_f\": Sf})\n",
    "\n",
    "_drho = drho(u=u_f, rho0=rho0_f, tau=tau_f, Source_m=SM_f)\n",
    "gp_drho = _du.get_global_params()\n",
    "def drho_f(gp, u, rho0, tau, Sm):\n",
    "    return _drho.get_field_on_grid(0)(gp,{\"u\":u,\"rho0\":rho0,\"tau\":tau,\"Source_m\":Sm})\n",
    "\n",
    "_p_new = p_new(c=c_f, rho=rho_f)\n",
    "gp_pnew = _p_new.get_global_params()\n",
    "def p_new_f(gp, c, rho):\n",
    "    return _p_new.get_field_on_grid(0)(gp, {\"c\":c, \"rho\":rho})"
   ]
  },
  {
   "cell_type": "code",
   "execution_count": 8,
   "id": "879a915d-46c0-43ad-bf70-c45e206a9297",
   "metadata": {},
   "outputs": [
    {
     "data": {
      "text/plain": [
       "(128, 128, 2)"
      ]
     },
     "execution_count": 8,
     "metadata": {},
     "output_type": "execute_result"
    }
   ],
   "source": [
    "drho_f(gp_drho, u, rho0, tau, Source_m).shape"
   ]
  },
  {
   "cell_type": "code",
   "execution_count": 9,
   "id": "eb39e186-42c5-4fe9-9654-3f5bffb669a1",
   "metadata": {},
   "outputs": [
    {
     "data": {
      "text/plain": [
       "(128, 128, 2)"
      ]
     },
     "execution_count": 9,
     "metadata": {},
     "output_type": "execute_result"
    }
   ],
   "source": [
    "du_f(gp_du, rho0, p, Source_f).shape"
   ]
  },
  {
   "cell_type": "code",
   "execution_count": 10,
   "id": "9a133c67-27f2-4512-9b8f-2916012186a0",
   "metadata": {},
   "outputs": [
    {
     "data": {
      "text/plain": [
       "(128, 128, 1)"
      ]
     },
     "execution_count": 10,
     "metadata": {},
     "output_type": "execute_result"
    }
   ],
   "source": [
    "p_new_f(gp_pnew, c, rho).shape"
   ]
  },
  {
   "cell_type": "code",
   "execution_count": null,
   "id": "649eb13a-a2be-448f-9516-b28ef0996736",
   "metadata": {},
   "outputs": [],
   "source": []
  },
  {
   "cell_type": "code",
   "execution_count": null,
   "id": "d0d6f2d9-e16f-4df5-8432-ac0bc3d3399b",
   "metadata": {},
   "outputs": [],
   "source": []
  },
  {
   "cell_type": "code",
   "execution_count": null,
   "id": "ba87d68a-8952-46eb-92e8-361af68052f6",
   "metadata": {},
   "outputs": [],
   "source": []
  },
  {
   "cell_type": "code",
   "execution_count": null,
   "id": "e0dcc239-e1b5-46f3-a1fb-f9ea91e41eb5",
   "metadata": {},
   "outputs": [],
   "source": []
  },
  {
   "cell_type": "code",
   "execution_count": null,
   "id": "945dc995-0a92-4927-aa8c-fd840352f606",
   "metadata": {},
   "outputs": [],
   "source": []
  },
  {
   "cell_type": "code",
   "execution_count": 12,
   "id": "0c894a82-1fee-4ed6-a22c-0e3f31a967da",
   "metadata": {},
   "outputs": [
    {
     "data": {
      "text/plain": [
       "Field :: CustomFourier, [[[-0.64510894 -0.37119263]\n",
       "  [ 1.0143577  -0.7761091 ]\n",
       "  [ 1.3669407  -0.64136314]\n",
       "  ...\n",
       "  [-0.7599168   0.84769416]\n",
       "  [ 1.1967567   0.10120466]\n",
       "  [ 0.10812864 -1.1539396 ]]\n",
       "\n",
       " [[-0.5165     -1.0231291 ]\n",
       "  [-0.6648872  -0.19004029]\n",
       "  [-1.3338366  -2.6127114 ]\n",
       "  ...\n",
       "  [ 1.6957669   1.1184759 ]\n",
       "  [-0.98199683 -0.06940181]\n",
       "  [-0.7863541   0.4976504 ]]\n",
       "\n",
       " [[ 0.20917772 -1.0799445 ]\n",
       "  [-0.707841    1.0429755 ]\n",
       "  [ 0.4812198   0.3291315 ]\n",
       "  ...\n",
       "  [ 0.9142207   2.5905943 ]\n",
       "  [ 0.23728026  0.937987  ]\n",
       "  [-1.2130866   0.04217006]]\n",
       "\n",
       " ...\n",
       "\n",
       " [[-1.9971613  -1.1707602 ]\n",
       "  [ 0.00934171 -0.15025818]\n",
       "  [-0.08032867 -0.680741  ]\n",
       "  ...\n",
       "  [ 1.469074    0.7240181 ]\n",
       "  [-0.0103779   0.82080567]\n",
       "  [ 1.5164819   0.11834317]]\n",
       "\n",
       " [[-1.7500764  -0.69036216]\n",
       "  [-1.1011686  -2.4007707 ]\n",
       "  [ 0.8133764   0.1826685 ]\n",
       "  ...\n",
       "  [-1.451048    0.40904683]\n",
       "  [ 0.95020497 -1.3083527 ]\n",
       "  [ 0.8421445  -0.01388683]]\n",
       "\n",
       " [[ 0.44669998 -1.1268443 ]\n",
       "  [-0.02136551  0.08117243]\n",
       "  [ 0.76285416  1.1798182 ]\n",
       "  ...\n",
       "  [ 0.15725872 -0.948301  ]\n",
       "  [-0.04208945 -0.3670246 ]\n",
       "  [ 0.11898894  0.7662879 ]]]"
      ]
     },
     "execution_count": 12,
     "metadata": {},
     "output_type": "execute_result"
    }
   ],
   "source": [
    "u_f"
   ]
  },
  {
   "cell_type": "code",
   "execution_count": null,
   "id": "ce2beb9c-fb0d-464c-8145-efa154a73c1f",
   "metadata": {},
   "outputs": [],
   "source": []
  },
  {
   "cell_type": "code",
   "execution_count": null,
   "id": "5a38a164-21ef-46db-b178-39de51ba7219",
   "metadata": {
    "tags": []
   },
   "outputs": [],
   "source": []
  }
 ],
 "metadata": {
  "kernelspec": {
   "display_name": "Python 3 (ipykernel)",
   "language": "python",
   "name": "python3"
  },
  "language_info": {
   "codemirror_mode": {
    "name": "ipython",
    "version": 3
   },
   "file_extension": ".py",
   "mimetype": "text/x-python",
   "name": "python",
   "nbconvert_exporter": "python",
   "pygments_lexer": "ipython3",
   "version": "3.8.10"
  }
 },
 "nbformat": 4,
 "nbformat_minor": 5
}
