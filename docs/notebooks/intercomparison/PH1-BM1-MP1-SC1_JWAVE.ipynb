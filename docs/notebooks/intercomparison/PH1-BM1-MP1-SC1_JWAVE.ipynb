{
 "cells": [
  {
   "cell_type": "code",
   "execution_count": 1,
   "id": "1f5780a5-7626-43ea-8f3f-0c48f348d1e4",
   "metadata": {},
   "outputs": [],
   "source": [
    "%load_ext autoreload\n",
    "%autoreload 2"
   ]
  },
  {
   "cell_type": "code",
   "execution_count": 2,
   "id": "0d3e11bd-0c7d-4b0a-abc1-c4e719334098",
   "metadata": {},
   "outputs": [],
   "source": [
    "import os\n",
    "os.environ[\"CUDA_VISIBLE_DEVICES\"]=\"0\""
   ]
  },
  {
   "cell_type": "code",
   "execution_count": 3,
   "id": "0d66b727-dfab-46d7-b92f-7b6d650b2476",
   "metadata": {},
   "outputs": [],
   "source": [
    "import numpy as np\n",
    "from matplotlib import pyplot as plt"
   ]
  },
  {
   "cell_type": "code",
   "execution_count": 4,
   "id": "f000cfff-9ca7-4c47-a8ad-17bb4310b0e6",
   "metadata": {},
   "outputs": [],
   "source": [
    "from jwave.extras.engine import Matlab"
   ]
  },
  {
   "cell_type": "code",
   "execution_count": 5,
   "id": "36dd2b7b-5f83-4afe-8c4f-dd1374f9f4fa",
   "metadata": {},
   "outputs": [
    {
     "name": "stdout",
     "output_type": "stream",
     "text": [
      "Connecting to Matlab session MATLAB_142842\n"
     ]
    }
   ],
   "source": [
    "mlb = Matlab(\"/home/antonio/repos/k-wave-matlab\", \"/home/antonio/repos/off-grid-sources\")\n",
    "mlb.start()"
   ]
  },
  {
   "cell_type": "code",
   "execution_count": 6,
   "id": "5ce4f3c8-7454-4a8b-9312-d1713d772182",
   "metadata": {},
   "outputs": [
    {
     "name": "stdout",
     "output_type": "stream",
     "text": [
      "/home/antonio/repos/jwave/docs/notebooks/intercomparison\n"
     ]
    }
   ],
   "source": [
    "!pwd"
   ]
  },
  {
   "cell_type": "code",
   "execution_count": 7,
   "id": "a3ffca45-fc0a-4340-8ce1-da6157913fbd",
   "metadata": {},
   "outputs": [],
   "source": [
    "mlb.run_script(\"/home/antonio/repos/jwave/docs/notebooks/intercomparison/PH1_BM1_MP1_SC1_JWAVE.m\")"
   ]
  },
  {
   "cell_type": "code",
   "execution_count": 8,
   "id": "6d53c5e3-7c69-4fd6-a94c-b6e64aafd135",
   "metadata": {},
   "outputs": [],
   "source": [
    "src_field = mlb.get(\"src_field\")"
   ]
  },
  {
   "cell_type": "code",
   "execution_count": 9,
   "id": "dd77d38a-af5c-4d92-85ce-4c4444360da2",
   "metadata": {},
   "outputs": [],
   "source": [
    "src_field = np.array(src_field).astype(np.complex64)"
   ]
  },
  {
   "cell_type": "code",
   "execution_count": 10,
   "id": "367331c9-e0a2-4620-84fd-f29a28f433af",
   "metadata": {},
   "outputs": [
    {
     "data": {
      "text/plain": [
       "(256, 196, 196)"
      ]
     },
     "execution_count": 10,
     "metadata": {},
     "output_type": "execute_result"
    }
   ],
   "source": [
    "src_field.shape"
   ]
  },
  {
   "cell_type": "code",
   "execution_count": 11,
   "id": "5cb8c499-7609-4849-a7cc-b920aeef31fe",
   "metadata": {},
   "outputs": [
    {
     "data": {
      "text/plain": [
       "<matplotlib.image.AxesImage at 0x7f6f157ee760>"
      ]
     },
     "execution_count": 11,
     "metadata": {},
     "output_type": "execute_result"
    },
    {
     "data": {
      "image/png": "[encoded data removed]",
      "text/plain": [
       "<Figure size 576x576 with 1 Axes>"
      ]
     },
     "metadata": {
      "needs_background": "light"
     },
     "output_type": "display_data"
    }
   ],
   "source": [
    "plt.figure(figsize=(8,8))\n",
    "plt.imshow(src_field[:,:,98].real)"
   ]
  },
  {
   "cell_type": "code",
   "execution_count": 12,
   "id": "98683473-8f46-48af-ad99-b1d8c4c21d94",
   "metadata": {},
   "outputs": [
    {
     "data": {
      "text/plain": [
       "dtype('complex64')"
      ]
     },
     "execution_count": 12,
     "metadata": {},
     "output_type": "execute_result"
    }
   ],
   "source": [
    "src_field.dtype"
   ]
  },
  {
   "cell_type": "code",
   "execution_count": 13,
   "id": "01977062-a53d-4087-b52c-22a65cb640ac",
   "metadata": {},
   "outputs": [],
   "source": [
    "# Getting properties\n",
    "N = src_field.shape\n",
    "dx = tuple([mlb.get(\"dx\")]*3)\n",
    "omega = 2*np.pi*mlb.get(\"source_f0\")"
   ]
  },
  {
   "cell_type": "code",
   "execution_count": 14,
   "id": "6940cb3f-8692-471c-928e-363065d74881",
   "metadata": {},
   "outputs": [],
   "source": [
    "from jwave.acoustics.time_harmonic import ongrid_helmholtz_solver_verbose\n",
    "from jwave.geometry import Domain, Medium, _circ_mask\n",
    "from jax import numpy as jnp"
   ]
  },
  {
   "cell_type": "code",
   "execution_count": 15,
   "id": "e4778f5b-26ca-4f52-a411-4cde70bf2463",
   "metadata": {},
   "outputs": [],
   "source": [
    "# Making geometry\n",
    "domain = Domain(N, dx)\n",
    "\n",
    "# Setup medium \n",
    "sound_speed = np.ones(N)*1500.\n",
    "\n",
    "medium = Medium(\n",
    "    domain=domain,\n",
    "    sound_speed=sound_speed,\n",
    "    density=1.,\n",
    "    attenuation=None,\n",
    "    pml_size=10\n",
    ")"
   ]
  },
  {
   "cell_type": "code",
   "execution_count": 16,
   "id": "5a9f45e0-0d07-4e8a-b024-b924dd62afc2",
   "metadata": {},
   "outputs": [],
   "source": [
    "def setup_simulation(medium, solver=\"gmres\"):\n",
    "    params, solver = ongrid_helmholtz_solver_verbose(\n",
    "        medium, \n",
    "        omega=omega,\n",
    "        tol=0.001, \n",
    "        restart=2,\n",
    "        method=solver,\n",
    "        maxiter=100,\n",
    "        source = src_field,\n",
    "    )\n",
    "    return params, solver"
   ]
  },
  {
   "cell_type": "code",
   "execution_count": 17,
   "id": "0af6dd5e-4109-48b3-abcf-e18ab022cfcc",
   "metadata": {},
   "outputs": [
    {
     "name": "stderr",
     "output_type": "stream",
     "text": [
      "2022-01-10 09:52:39.465853: E external/org_tensorflow/tensorflow/compiler/xla/pjrt/pjrt_stream_executor_client.cc:2085] Execution of replica 0 failed: INTERNAL: Failed to load in-memory CUBIN: CUDA_ERROR_OUT_OF_MEMORY: out of memory\n"
     ]
    },
    {
     "ename": "RuntimeError",
     "evalue": "INTERNAL: Failed to load in-memory CUBIN: CUDA_ERROR_OUT_OF_MEMORY: out of memory",
     "output_type": "error",
     "traceback": [
      "\u001b[0;31m---------------------------------------------------------------------------\u001b[0m",
      "\u001b[0;31mRuntimeError\u001b[0m                              Traceback (most recent call last)",
      "\u001b[0;32m/tmp/ipykernel_151887/1010881279.py\u001b[0m in \u001b[0;36m<module>\u001b[0;34m\u001b[0m\n\u001b[1;32m      1\u001b[0m \u001b[0mparams\u001b[0m\u001b[0;34m,\u001b[0m \u001b[0msolver\u001b[0m \u001b[0;34m=\u001b[0m \u001b[0msetup_simulation\u001b[0m\u001b[0;34m(\u001b[0m\u001b[0mmedium\u001b[0m\u001b[0;34m,\u001b[0m \u001b[0;34m\"gmres\"\u001b[0m\u001b[0;34m)\u001b[0m\u001b[0;34m\u001b[0m\u001b[0;34m\u001b[0m\u001b[0m\n\u001b[0;32m----> 2\u001b[0;31m \u001b[0mfield\u001b[0m \u001b[0;34m=\u001b[0m \u001b[0msolver\u001b[0m\u001b[0;34m(\u001b[0m\u001b[0mparams\u001b[0m\u001b[0;34m)\u001b[0m\u001b[0;34m\u001b[0m\u001b[0;34m\u001b[0m\u001b[0m\n\u001b[0m",
      "\u001b[0;32m~/repos/jwave/jwave/acoustics/time_harmonic.py\u001b[0m in \u001b[0;36msolver\u001b[0;34m(params)\u001b[0m\n\u001b[1;32m    359\u001b[0m                 )[0]\n\u001b[1;32m    360\u001b[0m \u001b[0;34m\u001b[0m\u001b[0m\n\u001b[0;32m--> 361\u001b[0;31m             \u001b[0mresidual\u001b[0m \u001b[0;34m=\u001b[0m \u001b[0mhelm_func\u001b[0m\u001b[0;34m(\u001b[0m\u001b[0mx0\u001b[0m\u001b[0;34m)\u001b[0m \u001b[0;34m-\u001b[0m \u001b[0mparams\u001b[0m\u001b[0;34m[\u001b[0m\u001b[0;34m\"source\"\u001b[0m\u001b[0;34m]\u001b[0m\u001b[0;34m\u001b[0m\u001b[0;34m\u001b[0m\u001b[0m\n\u001b[0m\u001b[1;32m    362\u001b[0m             \u001b[0mresidual_magnitude\u001b[0m \u001b[0;34m=\u001b[0m \u001b[0mjnp\u001b[0m\u001b[0;34m.\u001b[0m\u001b[0msqrt\u001b[0m\u001b[0;34m(\u001b[0m\u001b[0mjnp\u001b[0m\u001b[0;34m.\u001b[0m\u001b[0msum\u001b[0m\u001b[0;34m(\u001b[0m\u001b[0mjnp\u001b[0m\u001b[0;34m.\u001b[0m\u001b[0mabs\u001b[0m\u001b[0;34m(\u001b[0m\u001b[0mresidual\u001b[0m\u001b[0;34m)\u001b[0m\u001b[0;34m**\u001b[0m\u001b[0;36m2\u001b[0m\u001b[0;34m)\u001b[0m\u001b[0;34m)\u001b[0m\u001b[0;34m\u001b[0m\u001b[0;34m\u001b[0m\u001b[0m\n\u001b[1;32m    363\u001b[0m             \u001b[0miterations\u001b[0m \u001b[0;34m+=\u001b[0m \u001b[0;36m1\u001b[0m\u001b[0;34m\u001b[0m\u001b[0;34m\u001b[0m\u001b[0m\n",
      "    \u001b[0;31m[... skipping hidden 7 frame]\u001b[0m\n",
      "\u001b[0;32m~/anaconda3/envs/jwave/lib/python3.8/site-packages/jax/interpreters/xla.py\u001b[0m in \u001b[0;36m_execute_compiled\u001b[0;34m(name, compiled, output_buffer_counts, handlers, kept_var_idx, *args)\u001b[0m\n\u001b[1;32m   1098\u001b[0m           \u001b[0;32mfor\u001b[0m \u001b[0mi\u001b[0m\u001b[0;34m,\u001b[0m \u001b[0mx\u001b[0m \u001b[0;32min\u001b[0m \u001b[0menumerate\u001b[0m\u001b[0;34m(\u001b[0m\u001b[0margs\u001b[0m\u001b[0;34m)\u001b[0m\u001b[0;34m\u001b[0m\u001b[0;34m\u001b[0m\u001b[0m\n\u001b[1;32m   1099\u001b[0m           if x is not token and i in kept_var_idx))\n\u001b[0;32m-> 1100\u001b[0;31m   \u001b[0mout_bufs\u001b[0m \u001b[0;34m=\u001b[0m \u001b[0mcompiled\u001b[0m\u001b[0;34m.\u001b[0m\u001b[0mexecute\u001b[0m\u001b[0;34m(\u001b[0m\u001b[0minput_bufs\u001b[0m\u001b[0;34m)\u001b[0m\u001b[0;34m\u001b[0m\u001b[0;34m\u001b[0m\u001b[0m\n\u001b[0m\u001b[1;32m   1101\u001b[0m   \u001b[0mcheck_special\u001b[0m\u001b[0;34m(\u001b[0m\u001b[0mname\u001b[0m\u001b[0;34m,\u001b[0m \u001b[0mout_bufs\u001b[0m\u001b[0;34m)\u001b[0m\u001b[0;34m\u001b[0m\u001b[0;34m\u001b[0m\u001b[0m\n\u001b[1;32m   1102\u001b[0m   \u001b[0;32mif\u001b[0m \u001b[0moutput_buffer_counts\u001b[0m \u001b[0;32mis\u001b[0m \u001b[0;32mNone\u001b[0m\u001b[0;34m:\u001b[0m\u001b[0;34m\u001b[0m\u001b[0;34m\u001b[0m\u001b[0m\n",
      "\u001b[0;31mRuntimeError\u001b[0m: INTERNAL: Failed to load in-memory CUBIN: CUDA_ERROR_OUT_OF_MEMORY: out of memory"
     ]
    }
   ],
   "source": [
    "params, solver = setup_simulation(medium, \"gmres\")\n",
    "field = solver(params)"
   ]
  },
  {
   "cell_type": "code",
   "execution_count": null,
   "id": "3eded4e1-79f7-47c2-95d5-aa348755d764",
   "metadata": {},
   "outputs": [],
   "source": []
  }
 ],
 "metadata": {
  "kernelspec": {
   "display_name": "Python 3 (ipykernel)",
   "language": "python",
   "name": "python3"
  },
  "language_info": {
   "codemirror_mode": {
    "name": "ipython",
    "version": 3
   },
   "file_extension": ".py",
   "mimetype": "text/x-python",
   "name": "python",
   "nbconvert_exporter": "python",
   "pygments_lexer": "ipython3",
   "version": "3.8.12"
  }
 },
 "nbformat": 4,
 "nbformat_minor": 5
}
