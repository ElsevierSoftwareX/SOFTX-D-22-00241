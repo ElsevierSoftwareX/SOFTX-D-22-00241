{
 "cells": [
  {
   "cell_type": "markdown",
   "id": "91a17fa6-0c63-48a2-a695-aa0a409039a4",
   "metadata": {},
   "source": [
    "# Prerequisites\n",
    "\n",
    "For using `jwave`, you need to be familiar with `jax` and the package `jaxdf`. This page provides a quick introduction to allow you to get started with running simulations."
   ]
  },
  {
   "cell_type": "markdown",
   "id": "1bdf67c3-d5b0-45b5-9c03-5cf23a01c608",
   "metadata": {},
   "source": [
    "## JAX\n",
    "\n",
    "[jax](https://github.com/google/jax) is a Python library for machine learning and scientific computing, on which `jwave` is based. To learn how to use `jax`, please refer to [this guide](https://jax.readthedocs.io/en/latest/notebooks/quickstart.html). For our purposes, the two main features of `jax` that one needs to keep in mind for using `jwave`:\n",
    "\n",
    "#### 1. `jax` is a drop-in replacement for `numpy`\n",
    "\n",
    "Writing functions that operate on arrays in `jax` is extremely similar to doing it in NumPy. For example, we can write a function that calculates a polynomial function of the input and apply it to an array"
   ]
  },
  {
   "cell_type": "code",
   "execution_count": null,
   "id": "ad009dde-aab2-4dd3-864f-33b6a72d51db",
   "metadata": {},
   "outputs": [
    {
     "name": "stdout",
     "output_type": "stream",
     "text": [
      "(x,y) = [2.0, 3.0]\tf(x,y) = 18.0\n"
     ]
    }
   ],
   "source": [
    "from jax import numpy as jnp\n",
    "\n",
    "def f(x, y, a=1.,b=1.):\n",
    "    return a*(x**2) + b*y\n",
    "\n",
    "# Testing function\n",
    "x = 2.\n",
    "y = 3.\n",
    "\n",
    "z = f(x, y, 3.,2.)\n",
    "\n",
    "print(f\"(x,y) = {[x,y]}\\tf(x,y) = {z}\")"
   ]
  },
  {
   "cell_type": "markdown",
   "id": "5ccd8f91-ef65-4b61-8760-40753312a7cf",
   "metadata": {},
   "source": [
    "However, some operations, like in-place updates of arrays, are not permitted. For more details on this, see the [Sharp Bits](https://jax.readthedocs.io/en/latest/notebooks/Common_Gotchas_in_JAX.html) section of the `jax` documentation."
   ]
  },
  {
   "cell_type": "markdown",
   "id": "3d1fa978-4e84-4f62-a2cf-b13617c4734d",
   "metadata": {},
   "source": [
    "#### 2. `jax` power comes from function transformations.\n",
    "\n",
    "One of the main features of `jax` is function transformations. It is a concept that may be unfamiliar, especially for users coming from MATLAB (a related concept is [function handles](https://uk.mathworks.com/help/matlab/matlab_prog/call-local-functions-using-function-handles.html)). \n",
    "\n",
    "The fundamental idea is to have special functions (from now on called *function transformations* or [high-order functions](https://en.wikipedia.org/wiki/Higher-order_function)) that take a function as input and return a function ad output. They are also related to the concept of [python decorator](https://peps.python.org/pep-0318/). \n",
    "\n",
    "To make things concrete, an example of function transformation (say $\\mathcal{T}$) is one that transform a generic $f(x,y)$ by swapping the $x$ and $y$, yelding the new function $T(f)(x,y) = g(x,y) = f(y,x)$."
   ]
  },
  {
   "cell_type": "code",
   "execution_count": null,
   "id": "4c5f3725-78ea-4e26-bf0c-7794c4fd42cc",
   "metadata": {},
   "outputs": [
    {
     "name": "stdout",
     "output_type": "stream",
     "text": [
      "(x,y) = [2.0, 3.0]\t         f(x,y) = 18.0\n",
      "(x,y) = [2.0, 3.0]\tg(x,y) = f(y,x) = 31.0\n"
     ]
    }
   ],
   "source": [
    "def swap_coordinates(f):\n",
    "    def g(x, y, *args, **kwargs): \n",
    "        return f(y, x, *args, **kwargs)\n",
    "    return g\n",
    "    \n",
    "# Gets the new function\n",
    "f_swapped = swap_coordinates(f)\n",
    "\n",
    "# Evaluates the new function\n",
    "w = f_swapped(x, y, 3., 2.)\n",
    "\n",
    "print(f\"(x,y) = {[x,y]}\\t         f(x,y) = {z}\")\n",
    "print(f\"(x,y) = {[x,y]}\\tg(x,y) = f(y,x) = {w}\")"
   ]
  },
  {
   "cell_type": "markdown",
   "id": "63cddb07-ecda-45e4-a5ec-24a7533810a8",
   "metadata": {},
   "source": [
    "`jax` comes equipped with many transformations that are useful for machine learning research. One of those transformations is `jax.grad`, which [applies the gradient operator](https://jax.readthedocs.io/en/latest/notebooks/autodiff_cookbook.html) to a function with a scalar output."
   ]
  },
  {
   "cell_type": "code",
   "execution_count": null,
   "id": "7345bcd6-b481-4d55-a3fd-56a8d0fbb8c3",
   "metadata": {},
   "outputs": [
    {
     "name": "stderr",
     "output_type": "stream",
     "text": [
      "WARNING:absl:No GPU/TPU found, falling back to CPU. (Set TF_CPP_MIN_LOG_LEVEL=0 and rerun for more info.)\n"
     ]
    },
    {
     "name": "stdout",
     "output_type": "stream",
     "text": [
      "(x,y) = [2.0, 4.0]\tf(x,y) = 20.0   \tf'(x,y) = ['12.0', '2.0']\n"
     ]
    }
   ],
   "source": [
    "import jax\n",
    "\n",
    "# Gets the gradient function\n",
    "grad_f = jax.grad(f, argnums=(0,1))\n",
    "\n",
    "# Evaluates the new function\n",
    "x = 2.\n",
    "y = 4.\n",
    "z = f(x, y, 3., 2.)\n",
    "x_prime, y_prime = grad_f(x, y, 3., 2.)\n",
    "\n",
    "print(f\"(x,y) = {[x,y]}\\tf(x,y) = {z}   \\tf'(x,y) = {[str(x_prime), str(y_prime)]}\")"
   ]
  },
  {
   "cell_type": "markdown",
   "id": "eec6c377-e486-4983-bbd2-eec53ad86b89",
   "metadata": {},
   "source": [
    "Another important function transformation is [`jax.jit`](https://jax.readthedocs.io/en/latest/notebooks/quickstart.html#using-jit-to-speed-up-functions), which returns a version of the function optimized and compiled for the user hardware"
   ]
  },
  {
   "cell_type": "code",
   "execution_count": null,
   "id": "bd777d03-509b-46dc-957e-ce16afde21b7",
   "metadata": {},
   "outputs": [],
   "source": [
    "def complex_fun(x):\n",
    "    y = jnp.sqrt((x+1)**2)\n",
    "    z = jnp.sin(x*3 + x**2 + 1)\n",
    "    return jnp.sum(z*y + y)\n",
    "\n",
    "# Gets the compiled function\n",
    "f_jit = jax.jit(complex_fun)\n",
    "\n",
    "# Evaluates the new function\n",
    "x = jnp.ones((10000,10000));\n",
    "z = complex_fun(x)\n",
    "z_jit = f_jit(x) # The function is compiled at its first call"
   ]
  },
  {
   "cell_type": "code",
   "execution_count": null,
   "id": "4bce93a0-d2af-4747-830f-a2c38c365b76",
   "metadata": {},
   "outputs": [
    {
     "name": "stdout",
     "output_type": "stream",
     "text": [
      "793 ms ± 818 µs per loop (mean ± std. dev. of 7 runs, 1 loop each)\n"
     ]
    }
   ],
   "source": [
    "%timeit complex_fun(x)"
   ]
  },
  {
   "cell_type": "code",
   "execution_count": null,
   "id": "95bf9be1-ea22-4c8a-b4e4-eae770839871",
   "metadata": {},
   "outputs": [
    {
     "name": "stdout",
     "output_type": "stream",
     "text": [
      "242 ms ± 887 µs per loop (mean ± std. dev. of 7 runs, 1 loop each)\n"
     ]
    }
   ],
   "source": [
    "%timeit f_jit(x).block_until_ready()"
   ]
  },
  {
   "cell_type": "markdown",
   "id": "a1d46b13-7450-4111-a4ac-f7c04930315f",
   "metadata": {},
   "source": [
    "## Fields\n",
    "\n",
    "**Objects** are variables that contain the numerical data used during the simulations. They are often defined as classes registered to the JAX compiler as a custom PyTree node, meaning that they can be passed to functions in the same way as `jax.numpy` arrays, and they can be initialized within a function. \n",
    "\n",
    "One example is the `Domain` class from `jwave.geometry`, which defines the domain where the simulation takes place."
   ]
  },
  {
   "cell_type": "code",
   "execution_count": null,
   "id": "0c41f04e-9ef9-40e5-b16f-8ddf007ab9b5",
   "metadata": {},
   "outputs": [
    {
     "name": "stdout",
     "output_type": "stream",
     "text": [
      "Domain(N=(65, 65), dx=(1.0, 1.0))\n"
     ]
    }
   ],
   "source": [
    "from jwave.geometry import Domain\n",
    "\n",
    "domain = Domain(N=(65,65), dx=(1., 1.))\n",
    "print(domain)"
   ]
  },
  {
   "cell_type": "markdown",
   "id": "5e233403-766f-42e4-bd24-efb2957ceb1d",
   "metadata": {},
   "source": [
    "Other objects are defined as `Field` subclasses from [`jaxdf`](https://github.com/ucl-bug/jaxdf). A `Field`, in a nutshell, consists of parameters and a representation (or discretization), associated with a domain. For example, the following defines a truncated Fourier Series, for which the value in $(0,0)$ is 1."
   ]
  },
  {
   "cell_type": "code",
   "execution_count": null,
   "id": "ae21d6e0-2471-4fae-b4e0-2b7a8a2e507b",
   "metadata": {},
   "outputs": [],
   "source": [
    "from jwave.geometry import FourierSeries\n",
    "\n",
    "params = jnp.zeros(domain.N)\n",
    "params = params.at[32,32].set(1.0)\n",
    "u = FourierSeries(params, domain)"
   ]
  },
  {
   "cell_type": "markdown",
   "id": "c13e7949-a2d6-45f7-bdc9-4ba2ebaabb2d",
   "metadata": {},
   "source": [
    "We can visualize this field on the grid"
   ]
  },
  {
   "cell_type": "code",
   "execution_count": null,
   "id": "88c95ae0-e00f-4116-bdb8-29a23b8a2e26",
   "metadata": {},
   "outputs": [
    {
     "data": {
      "image/png": "[encoded data removed]",
      "text/plain": [
       "<Figure size 576x432 with 2 Axes>"
      ]
     },
     "metadata": {
      "needs_background": "light"
     },
     "output_type": "display_data"
    }
   ],
   "source": [
    "from jwave.utils import show_field\n",
    "\n",
    "show_field(u)"
   ]
  },
  {
   "cell_type": "markdown",
   "id": "7ad5a80f-c450-4d93-a820-81a1995adcb8",
   "metadata": {},
   "source": [
    "Or query the field at a specific point in space"
   ]
  },
  {
   "cell_type": "code",
   "execution_count": null,
   "id": "b1b16b4f-ac62-4316-a238-d6a7a8c06641",
   "metadata": {},
   "outputs": [
    {
     "name": "stdout",
     "output_type": "stream",
     "text": [
      "[1.]\n"
     ]
    }
   ],
   "source": [
    "x = jnp.asarray([0., 0.])\n",
    "print(u(x))"
   ]
  },
  {
   "cell_type": "markdown",
   "id": "86537120-e6c3-49ea-80b5-b830034f8e4c",
   "metadata": {},
   "source": [
    "We can also use the latter callable to visualize the underlying discretization, i.e. the bandlimited interpolant, by querying the field at values outside the grid nodes. Here we are usign the [vmap](https://jax.readthedocs.io/en/latest/_autosummary/jax.vmap.html#jax.vmap) function transformation, to efficiently query the field at multiple points. "
   ]
  },
  {
   "cell_type": "code",
   "execution_count": null,
   "id": "a743a088-5654-4ef8-8484-f1295ef47a6a",
   "metadata": {},
   "outputs": [
    {
     "data": {
      "image/png": "[encoded data removed]",
      "text/plain": [
       "<Figure size 576x432 with 2 Axes>"
      ]
     },
     "metadata": {
      "needs_background": "light"
     },
     "output_type": "display_data"
    }
   ],
   "source": [
    "field_on_plane = jax.vmap(jax.vmap(u))\n",
    "\n",
    "x = jnp.linspace(-2, 5, 100)\n",
    "X, Y = jnp.meshgrid(x,x)\n",
    "coords = jnp.stack([X,Y], -1)\n",
    "z = field_on_plane(coords).real[...,0]\n",
    "\n",
    "show_field(z)"
   ]
  },
  {
   "cell_type": "markdown",
   "id": "78d213c2-ea09-4c47-b775-5421c65365e1",
   "metadata": {},
   "source": [
    "Lastly, there are *operators* that can be applied to `Field` objects. Operators are objects that represent some mathematical operator on functions, such as the gradient or the Helmholtz equation, whose numerical implementation depends on the input discretization. They return functions and they can be used inside a function to be transformed using `jax`."
   ]
  },
  {
   "cell_type": "code",
   "execution_count": null,
   "id": "6d7af747-4184-4bf0-8b8a-9fd545182f9f",
   "metadata": {},
   "outputs": [
    {
     "data": {
      "image/png": "[encoded data removed]",
      "text/plain": [
       "<Figure size 576x432 with 2 Axes>"
      ]
     },
     "metadata": {
      "needs_background": "light"
     },
     "output_type": "display_data"
    }
   ],
   "source": [
    "from jaxdf.operators import laplacian\n",
    "\n",
    "params = jnp.zeros(domain.N)\n",
    "params = params.at[32:46,25:58].set(1.0)\n",
    "u = FourierSeries(params, domain)\n",
    "\n",
    "show_field(u)"
   ]
  },
  {
   "cell_type": "code",
   "execution_count": null,
   "id": "a45264f4-f9bc-48cc-a044-3e3931c0ee4c",
   "metadata": {},
   "outputs": [
    {
     "data": {
      "image/png": "[encoded data removed]",
      "text/plain": [
       "<Figure size 576x432 with 2 Axes>"
      ]
     },
     "metadata": {
      "needs_background": "light"
     },
     "output_type": "display_data"
    }
   ],
   "source": [
    "v = laplacian(u)\n",
    "show_field(v)"
   ]
  },
  {
   "cell_type": "code",
   "execution_count": 15,
   "id": "9486076c-41ab-4ab3-b0d1-16b97b75e1e8",
   "metadata": {},
   "outputs": [
    {
     "data": {
      "image/png": "[encoded data removed]",
      "text/plain": [
       "<Figure size 576x432 with 2 Axes>"
      ]
     },
     "metadata": {
      "needs_background": "light"
     },
     "output_type": "display_data"
    }
   ],
   "source": [
    "# It is still a Field, so it can be visualized it at higher resolutions \n",
    "# using the same method as before\n",
    "field_on_plane = jax.vmap(jax.vmap(v))\n",
    "\n",
    "x = jnp.linspace(-32, 32, 200)\n",
    "X, Y = jnp.meshgrid(x,x)\n",
    "coords = jnp.stack([X,Y], -1)\n",
    "z = field_on_plane(coords).real[...,0]\n",
    "z = jnp.fliplr(jnp.fliplr(z).T)\n",
    "\n",
    "show_field(z)"
   ]
  },
  {
   "cell_type": "markdown",
   "id": "460406b8-43b0-4901-9ecb-76389062bab4",
   "metadata": {},
   "source": [
    "## Running a simulation\n",
    "\n",
    "Knowing how to use `jax` and the `jaxdf` objects from `jaxdf`, you can run your first simulation by following the next tutorial."
   ]
  }
 ],
 "metadata": {
  "kernelspec": {
   "display_name": "Python 3 (ipykernel)",
   "language": "python",
   "name": "python3"
  },
  "language_info": {
   "codemirror_mode": {
    "name": "ipython",
    "version": 3
   },
   "file_extension": ".py",
   "mimetype": "text/x-python",
   "name": "python",
   "nbconvert_exporter": "python",
   "pygments_lexer": "ipython3",
   "version": "3.10.5"
  }
 },
 "nbformat": 4,
 "nbformat_minor": 5
}
