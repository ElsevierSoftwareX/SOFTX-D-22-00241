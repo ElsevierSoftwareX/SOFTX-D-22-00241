{
 "cells": [
  {
   "cell_type": "code",
   "execution_count": 1,
   "metadata": {},
   "outputs": [],
   "source": [
    "%load_ext autoreload\n",
    "%autoreload 2"
   ]
  },
  {
   "cell_type": "markdown",
   "metadata": {},
   "source": [
    "The equation we want to simulate is\n",
    "\n",
    "$$\n",
    "\\left(\\nabla^2 - \\frac{\\omega^2}{c^2} \\right)u = - i\\omega S_M\n",
    "$$\n",
    "\n",
    "Furthermore, to enforce the Sommerfield radiation conditions, the components of the spatial differential operators are modified as [[1]](http://oomph-lib.maths.man.ac.uk/doc/pml_helmholtz/scattering/latex/refman.pdf):\n",
    "\n",
    "$$\n",
    "\\partial_{x_j} = \\frac{\\partial_{x_j}}{\\gamma_j}\n",
    "$$\n",
    "\n",
    "where\n",
    "\n",
    "$$\n",
    "\\gamma_j = 1 + \\frac{\\sigma_j(x)}{k_0}, \\qquad \\sigma_j(x) = \\begin{cases}\n",
    "\\frac{\\sigma^*\\|x_j - \\Delta_{PML}\\|^\\alpha}{\\Delta_{PML}}, & \\|x\\| > \\Delta_{PML}\\\\\n",
    "0, & \\text{otherwise} \\\\\n",
    "\\end{cases}$$\n",
    "\n",
    "Let's start by building up the $\\sigma$ function"
   ]
  },
  {
   "cell_type": "markdown",
   "metadata": {},
   "source": [
    "## $\\sigma$ function"
   ]
  },
  {
   "cell_type": "code",
   "execution_count": 1,
   "metadata": {},
   "outputs": [],
   "source": [
    "from matplotlib import pyplot as plt\n",
    "\n",
    "from jwave.geometry import Domain\n",
    "from jwave import operators as jops\n",
    "from jwave.core import operator\n",
    "from jax import numpy as jnp\n",
    "import jax"
   ]
  },
  {
   "cell_type": "code",
   "execution_count": 5,
   "metadata": {},
   "outputs": [],
   "source": [
    "domain = Domain((1024,1024), (1., 1.))"
   ]
  },
  {
   "cell_type": "code",
   "execution_count": 6,
   "metadata": {},
   "outputs": [],
   "source": [
    "from jwave.discretization import Coordinate\n",
    "from jwave.core import Field\n",
    "\n",
    "coordinate_discr = Coordinate(domain)\n",
    "X = Field(coordinate_discr, params={}, name=\"X\")\n",
    "\n",
    "grid = coordinate_discr.get_field_on_grid()({})"
   ]
  },
  {
   "cell_type": "code",
   "execution_count": 7,
   "metadata": {},
   "outputs": [
    {
     "data": {
      "text/plain": [
       "<matplotlib.colorbar.Colorbar at 0x7fa61453c250>"
      ]
     },
     "execution_count": 7,
     "metadata": {},
     "output_type": "execute_result"
    },
    {
     "data": {
      "image/png": "[encoded data removed]",
      "text/plain": [
       "<Figure size 432x288 with 2 Axes>"
      ]
     },
     "metadata": {
      "needs_background": "light"
     },
     "output_type": "display_data"
    }
   ],
   "source": [
    "plt.imshow(grid[...,1])\n",
    "plt.colorbar()"
   ]
  },
  {
   "cell_type": "code",
   "execution_count": 11,
   "metadata": {},
   "outputs": [],
   "source": [
    "delta_pml = 512 - 20.\n",
    "\n",
    "def sigma(X):\n",
    "    on_pml = jops.elementwise(\n",
    "        lambda x: jnp.where(\n",
    "            jnp.abs(x) > delta_pml,\n",
    "            (jnp.abs(jnp.abs(x)-delta_pml)/(64. - delta_pml)), \n",
    "            0.)\n",
    "    )\n",
    "    return 4*on_pml(X)**2"
   ]
  },
  {
   "cell_type": "code",
   "execution_count": 12,
   "metadata": {},
   "outputs": [],
   "source": [
    "s = operator()(sigma)(X=X)\n",
    "global_params = s.get_global_params()\n",
    "\n",
    "# Can use directly this on a GridBased\n",
    "PML = s.get_field_on_grid(0)(global_params, {'X': {}})\n",
    "\n",
    "# Or can use the PML function\n",
    "pml_f = lambda x: s.get_field(0)(global_params, {'X': {}}, x)"
   ]
  },
  {
   "cell_type": "code",
   "execution_count": 13,
   "metadata": {},
   "outputs": [
    {
     "data": {
      "text/plain": [
       "<matplotlib.image.AxesImage at 0x7fa61444b460>"
      ]
     },
     "execution_count": 13,
     "metadata": {},
     "output_type": "execute_result"
    },
    {
     "data": {
      "image/png": "[encoded data removed]",
      "text/plain": [
       "<Figure size 432x288 with 1 Axes>"
      ]
     },
     "metadata": {
      "needs_background": "light"
     },
     "output_type": "display_data"
    }
   ],
   "source": [
    "plt.imshow(PML[...,0])"
   ]
  },
  {
   "cell_type": "markdown",
   "metadata": {},
   "source": [
    "# $\\gamma$ function\n",
    "\n",
    "Showing function composition"
   ]
  },
  {
   "cell_type": "code",
   "execution_count": 14,
   "metadata": {},
   "outputs": [],
   "source": [
    "def grad_factor(X):\n",
    "    return 1./(1 + 1j*sigma(X))"
   ]
  },
  {
   "cell_type": "code",
   "execution_count": 15,
   "metadata": {},
   "outputs": [],
   "source": [
    "s = operator()(grad_factor)(X=X)\n",
    "global_params = s.get_global_params()\n",
    "\n",
    "# Can use directly this on a GridBased\n",
    "PML = s.get_field_on_grid(0)(global_params, {'X': {}})\n",
    "\n",
    "# Or can use the PML function\n",
    "pml_f = lambda x: s.get_field(0)(global_params, {'X': {}}, x)"
   ]
  },
  {
   "cell_type": "code",
   "execution_count": 16,
   "metadata": {},
   "outputs": [
    {
     "data": {
      "text/plain": [
       "DiscretizedOperator :: [Arbitrary], ['_zY'] \n",
       "\n",
       " Input fields: ('X',)\n",
       "\n",
       "Globals: {'shared': {}, 'independent': {'PowerScalar_l5': {'scalar': 2}, 'MultiplyScalar_nR': {'scalar': 4}, 'MultiplyScalar_p2': {'scalar': 1j}, 'AddScalar_rE': {'scalar': 1}, 'MultiplyScalar_y7': {'scalar': 1.0}}}\n",
       "\n",
       "Operations:\n",
       "- _k5: Arbitrary <-- Elementwise ('X',) | (none) Elementwise\n",
       "- _mO: Arbitrary <-- PowerScalar ('_k5',) | (independent) PowerScalar_l5\n",
       "- _oj: Arbitrary <-- MultiplyScalar ('_mO',) | (independent) MultiplyScalar_nR\n",
       "- _q2: Arbitrary <-- MultiplyScalar ('_oj',) | (independent) MultiplyScalar_p2\n",
       "- _vm: Arbitrary <-- AddScalar ('_q2',) | (independent) AddScalar_rE\n",
       "- _x9: Arbitrary <-- Reciprocal ('_vm',) | (none) Reciprocal\n",
       "- _zY: Arbitrary <-- MultiplyScalar ('_x9',) | (independent) MultiplyScalar_y7"
      ]
     },
     "execution_count": 16,
     "metadata": {},
     "output_type": "execute_result"
    }
   ],
   "source": [
    "s"
   ]
  },
  {
   "cell_type": "code",
   "execution_count": 17,
   "metadata": {},
   "outputs": [
    {
     "data": {
      "text/plain": [
       "<matplotlib.colorbar.Colorbar at 0x7fa61437a310>"
      ]
     },
     "execution_count": 17,
     "metadata": {},
     "output_type": "execute_result"
    },
    {
     "data": {
      "image/png": "[encoded data removed]",
      "text/plain": [
       "<Figure size 432x288 with 2 Axes>"
      ]
     },
     "metadata": {
      "needs_background": "light"
     },
     "output_type": "display_data"
    }
   ],
   "source": [
    "plt.imshow(PML[...,0].imag)\n",
    "plt.colorbar()"
   ]
  },
  {
   "cell_type": "markdown",
   "metadata": {},
   "source": [
    "# Modified $\\nabla^2$ operator"
   ]
  },
  {
   "cell_type": "code",
   "execution_count": 18,
   "metadata": {},
   "outputs": [],
   "source": [
    "from jwave.discretization import FourierSeries\n",
    "fourier_discr = FourierSeries(domain)\n",
    "\n",
    "u_fourier_params = fourier_discr.empty_field()\n",
    "\n",
    "u_fourier_params = u_fourier_params.at[64,64].set(1. + 0j)\n",
    "u_fourier = Field(fourier_discr, params=u_fourier_params, name='u')\n",
    "\n",
    "pml = Field(fourier_discr, params=PML, name='pml')"
   ]
  },
  {
   "cell_type": "code",
   "execution_count": 21,
   "metadata": {},
   "outputs": [],
   "source": [
    "grad = jops.gradient\n",
    "diag_jacobian = jops.diag_jacobian\n",
    "\n",
    "@operator()\n",
    "def laplacian(u, pml):\n",
    "    grad_u = jops.gradient(u)\n",
    "    mod_grad_u = grad_u*pml\n",
    "    mod_diag_jacobian = jops.diag_jacobian(mod_grad_u)*pml\n",
    "    return jops.sum_over_dims(mod_diag_jacobian)"
   ]
  },
  {
   "cell_type": "code",
   "execution_count": 22,
   "metadata": {},
   "outputs": [],
   "source": [
    "s = laplacian(u=u_fourier, pml=pml)\n",
    "global_params = s.get_global_params()\n",
    "\n",
    "# Can use directly this on a GridBased\n",
    "from jax import jit\n",
    "f = jit(s.get_field_on_grid(0))\n",
    "field = f(global_params, {'u': u_fourier_params, \"pml\": PML})"
   ]
  },
  {
   "cell_type": "code",
   "execution_count": 23,
   "metadata": {},
   "outputs": [
    {
     "data": {
      "text/plain": [
       "DiscretizedOperator :: [FourierSeries], ['_vm'] \n",
       "\n",
       " Input fields: ('u', 'pml')\n",
       "\n",
       "Globals: {'shared': {'FFTGradient': {'k_vec': [DeviceArray([ 0.        ,  0.00613592,  0.01227185, ..., -0.01840777,\n",
       "             -0.01227185, -0.00613592], dtype=float32), DeviceArray([ 0.        ,  0.00613592,  0.01227185, ..., -0.01840777,\n",
       "             -0.01227185, -0.00613592], dtype=float32)]}, 'FFTDiagJacobian': {'k_vec': [DeviceArray([ 0.        ,  0.00613592,  0.01227185, ..., -0.01840777,\n",
       "             -0.01227185, -0.00613592], dtype=float32), DeviceArray([ 0.        ,  0.00613592,  0.01227185, ..., -0.01840777,\n",
       "             -0.01227185, -0.00613592], dtype=float32)]}}, 'independent': {}}\n",
       "\n",
       "Operations:\n",
       "- _k5: FourierSeries <-- FFTGradient ('u',) | (shared) FFTGradient\n",
       "- _mO: FourierSeries <-- MultiplyOnGrid ('_k5', 'pml') | (none) MultiplyOnGrid\n",
       "- _oj: FourierSeries <-- FFTDiagJacobian ('_mO',) | (shared) FFTDiagJacobian\n",
       "- _q2: FourierSeries <-- MultiplyOnGrid ('_oj', 'pml') | (none) MultiplyOnGrid\n",
       "- _vm: FourierSeries <-- SumOverDimsOnGrid ('_q2',) | (none) SumOverDimsOnGrid"
      ]
     },
     "execution_count": 23,
     "metadata": {},
     "output_type": "execute_result"
    }
   ],
   "source": [
    "s"
   ]
  },
  {
   "cell_type": "code",
   "execution_count": 34,
   "metadata": {},
   "outputs": [
    {
     "name": "stdout",
     "output_type": "stream",
     "text": [
      "1.17 ms ± 397 ns per loop (mean ± std. dev. of 7 runs, 1000 loops each)\n"
     ]
    }
   ],
   "source": [
    "%%timeit\n",
    "field = f(global_params, {'u': u_fourier_params, \"pml\": PML}).block_until_ready()"
   ]
  },
  {
   "cell_type": "code",
   "execution_count": 36,
   "metadata": {},
   "outputs": [
    {
     "name": "stderr",
     "output_type": "stream",
     "text": [
      "/home/antonios/anaconda3/envs/jwave/lib/python3.8/site-packages/jax/interpreters/xla.py:1289: ComplexWarning: Casting complex values to real discards the imaginary part\n",
      "  return np.asarray(self._value, dtype=dtype)\n"
     ]
    },
    {
     "data": {
      "text/plain": [
       "[<matplotlib.lines.Line2D at 0x7fa6141a8e80>]"
      ]
     },
     "execution_count": 36,
     "metadata": {},
     "output_type": "execute_result"
    },
    {
     "data": {
      "image/png": "[encoded data removed]",
      "text/plain": [
       "<Figure size 432x288 with 1 Axes>"
      ]
     },
     "metadata": {
      "needs_background": "light"
     },
     "output_type": "display_data"
    }
   ],
   "source": [
    "plt.plot(field[512])"
   ]
  },
  {
   "cell_type": "code",
   "execution_count": 30,
   "metadata": {},
   "outputs": [
    {
     "data": {
      "text/plain": [
       "DiscretizedOperator :: [FourierSeries], ['_vm'] \n",
       "\n",
       " Input fields: ('u', 'pml')\n",
       "\n",
       "Globals: {'shared': {'FFTGradient': {'k_vec': [DeviceArray([ 0.        ,  0.04908739,  0.09817477,  0.14726216,\n",
       "              0.19634955,  0.24543694,  0.2945243 ,  0.34361172,\n",
       "              0.3926991 ,  0.44178647,  0.49087387,  0.5399613 ,\n",
       "              0.5890486 ,  0.638136  ,  0.68722343,  0.7363108 ,\n",
       "              0.7853982 ,  0.8344856 ,  0.88357294,  0.93266034,\n",
       "              0.98174775,  1.0308352 ,  1.0799226 ,  1.1290098 ,\n",
       "              1.1780972 ,  1.2271847 ,  1.276272  ,  1.3253595 ,\n",
       "              1.3744469 ,  1.4235342 ,  1.4726216 ,  1.521709  ,\n",
       "              1.5707964 ,  1.6198838 ,  1.6689712 ,  1.7180586 ,\n",
       "              1.7671459 ,  1.8162333 ,  1.8653207 ,  1.9144081 ,\n",
       "              1.9634955 ,  2.0125828 ,  2.0616703 ,  2.1107576 ,\n",
       "              2.159845  ,  2.2089324 ,  2.2580197 ,  2.3071072 ,\n",
       "              2.3561945 ,  2.405282  ,  2.4543693 ,  2.5034568 ,\n",
       "              2.552544  ,  2.6016314 ,  2.650719  ,  2.6998062 ,\n",
       "              2.7488937 ,  2.797981  ,  2.8470683 ,  2.8961558 ,\n",
       "              2.9452431 ,  2.9943306 ,  3.043418  ,  3.0925055 ,\n",
       "             -3.1415927 , -3.0925055 , -3.043418  , -2.9943306 ,\n",
       "             -2.9452431 , -2.8961558 , -2.8470683 , -2.797981  ,\n",
       "             -2.7488937 , -2.6998062 , -2.650719  , -2.6016314 ,\n",
       "             -2.552544  , -2.5034568 , -2.4543693 , -2.405282  ,\n",
       "             -2.3561945 , -2.3071072 , -2.2580197 , -2.2089324 ,\n",
       "             -2.159845  , -2.1107576 , -2.0616703 , -2.0125828 ,\n",
       "             -1.9634955 , -1.9144081 , -1.8653207 , -1.8162333 ,\n",
       "             -1.7671459 , -1.7180586 , -1.6689712 , -1.6198838 ,\n",
       "             -1.5707964 , -1.521709  , -1.4726216 , -1.4235342 ,\n",
       "             -1.3744469 , -1.3253595 , -1.276272  , -1.2271847 ,\n",
       "             -1.1780972 , -1.1290098 , -1.0799226 , -1.0308352 ,\n",
       "             -0.98174775, -0.93266034, -0.88357294, -0.8344856 ,\n",
       "             -0.7853982 , -0.7363108 , -0.68722343, -0.638136  ,\n",
       "             -0.5890486 , -0.5399613 , -0.49087387, -0.44178647,\n",
       "             -0.3926991 , -0.34361172, -0.2945243 , -0.24543694,\n",
       "             -0.19634955, -0.14726216, -0.09817477, -0.04908739],            dtype=float32), DeviceArray([ 0.        ,  0.04908739,  0.09817477,  0.14726216,\n",
       "              0.19634955,  0.24543694,  0.2945243 ,  0.34361172,\n",
       "              0.3926991 ,  0.44178647,  0.49087387,  0.5399613 ,\n",
       "              0.5890486 ,  0.638136  ,  0.68722343,  0.7363108 ,\n",
       "              0.7853982 ,  0.8344856 ,  0.88357294,  0.93266034,\n",
       "              0.98174775,  1.0308352 ,  1.0799226 ,  1.1290098 ,\n",
       "              1.1780972 ,  1.2271847 ,  1.276272  ,  1.3253595 ,\n",
       "              1.3744469 ,  1.4235342 ,  1.4726216 ,  1.521709  ,\n",
       "              1.5707964 ,  1.6198838 ,  1.6689712 ,  1.7180586 ,\n",
       "              1.7671459 ,  1.8162333 ,  1.8653207 ,  1.9144081 ,\n",
       "              1.9634955 ,  2.0125828 ,  2.0616703 ,  2.1107576 ,\n",
       "              2.159845  ,  2.2089324 ,  2.2580197 ,  2.3071072 ,\n",
       "              2.3561945 ,  2.405282  ,  2.4543693 ,  2.5034568 ,\n",
       "              2.552544  ,  2.6016314 ,  2.650719  ,  2.6998062 ,\n",
       "              2.7488937 ,  2.797981  ,  2.8470683 ,  2.8961558 ,\n",
       "              2.9452431 ,  2.9943306 ,  3.043418  ,  3.0925055 ,\n",
       "             -3.1415927 , -3.0925055 , -3.043418  , -2.9943306 ,\n",
       "             -2.9452431 , -2.8961558 , -2.8470683 , -2.797981  ,\n",
       "             -2.7488937 , -2.6998062 , -2.650719  , -2.6016314 ,\n",
       "             -2.552544  , -2.5034568 , -2.4543693 , -2.405282  ,\n",
       "             -2.3561945 , -2.3071072 , -2.2580197 , -2.2089324 ,\n",
       "             -2.159845  , -2.1107576 , -2.0616703 , -2.0125828 ,\n",
       "             -1.9634955 , -1.9144081 , -1.8653207 , -1.8162333 ,\n",
       "             -1.7671459 , -1.7180586 , -1.6689712 , -1.6198838 ,\n",
       "             -1.5707964 , -1.521709  , -1.4726216 , -1.4235342 ,\n",
       "             -1.3744469 , -1.3253595 , -1.276272  , -1.2271847 ,\n",
       "             -1.1780972 , -1.1290098 , -1.0799226 , -1.0308352 ,\n",
       "             -0.98174775, -0.93266034, -0.88357294, -0.8344856 ,\n",
       "             -0.7853982 , -0.7363108 , -0.68722343, -0.638136  ,\n",
       "             -0.5890486 , -0.5399613 , -0.49087387, -0.44178647,\n",
       "             -0.3926991 , -0.34361172, -0.2945243 , -0.24543694,\n",
       "             -0.19634955, -0.14726216, -0.09817477, -0.04908739],            dtype=float32)]}, 'FFTDiagJacobian': {'k_vec': [DeviceArray([ 0.        ,  0.04908739,  0.09817477,  0.14726216,\n",
       "              0.19634955,  0.24543694,  0.2945243 ,  0.34361172,\n",
       "              0.3926991 ,  0.44178647,  0.49087387,  0.5399613 ,\n",
       "              0.5890486 ,  0.638136  ,  0.68722343,  0.7363108 ,\n",
       "              0.7853982 ,  0.8344856 ,  0.88357294,  0.93266034,\n",
       "              0.98174775,  1.0308352 ,  1.0799226 ,  1.1290098 ,\n",
       "              1.1780972 ,  1.2271847 ,  1.276272  ,  1.3253595 ,\n",
       "              1.3744469 ,  1.4235342 ,  1.4726216 ,  1.521709  ,\n",
       "              1.5707964 ,  1.6198838 ,  1.6689712 ,  1.7180586 ,\n",
       "              1.7671459 ,  1.8162333 ,  1.8653207 ,  1.9144081 ,\n",
       "              1.9634955 ,  2.0125828 ,  2.0616703 ,  2.1107576 ,\n",
       "              2.159845  ,  2.2089324 ,  2.2580197 ,  2.3071072 ,\n",
       "              2.3561945 ,  2.405282  ,  2.4543693 ,  2.5034568 ,\n",
       "              2.552544  ,  2.6016314 ,  2.650719  ,  2.6998062 ,\n",
       "              2.7488937 ,  2.797981  ,  2.8470683 ,  2.8961558 ,\n",
       "              2.9452431 ,  2.9943306 ,  3.043418  ,  3.0925055 ,\n",
       "             -3.1415927 , -3.0925055 , -3.043418  , -2.9943306 ,\n",
       "             -2.9452431 , -2.8961558 , -2.8470683 , -2.797981  ,\n",
       "             -2.7488937 , -2.6998062 , -2.650719  , -2.6016314 ,\n",
       "             -2.552544  , -2.5034568 , -2.4543693 , -2.405282  ,\n",
       "             -2.3561945 , -2.3071072 , -2.2580197 , -2.2089324 ,\n",
       "             -2.159845  , -2.1107576 , -2.0616703 , -2.0125828 ,\n",
       "             -1.9634955 , -1.9144081 , -1.8653207 , -1.8162333 ,\n",
       "             -1.7671459 , -1.7180586 , -1.6689712 , -1.6198838 ,\n",
       "             -1.5707964 , -1.521709  , -1.4726216 , -1.4235342 ,\n",
       "             -1.3744469 , -1.3253595 , -1.276272  , -1.2271847 ,\n",
       "             -1.1780972 , -1.1290098 , -1.0799226 , -1.0308352 ,\n",
       "             -0.98174775, -0.93266034, -0.88357294, -0.8344856 ,\n",
       "             -0.7853982 , -0.7363108 , -0.68722343, -0.638136  ,\n",
       "             -0.5890486 , -0.5399613 , -0.49087387, -0.44178647,\n",
       "             -0.3926991 , -0.34361172, -0.2945243 , -0.24543694,\n",
       "             -0.19634955, -0.14726216, -0.09817477, -0.04908739],            dtype=float32), DeviceArray([ 0.        ,  0.04908739,  0.09817477,  0.14726216,\n",
       "              0.19634955,  0.24543694,  0.2945243 ,  0.34361172,\n",
       "              0.3926991 ,  0.44178647,  0.49087387,  0.5399613 ,\n",
       "              0.5890486 ,  0.638136  ,  0.68722343,  0.7363108 ,\n",
       "              0.7853982 ,  0.8344856 ,  0.88357294,  0.93266034,\n",
       "              0.98174775,  1.0308352 ,  1.0799226 ,  1.1290098 ,\n",
       "              1.1780972 ,  1.2271847 ,  1.276272  ,  1.3253595 ,\n",
       "              1.3744469 ,  1.4235342 ,  1.4726216 ,  1.521709  ,\n",
       "              1.5707964 ,  1.6198838 ,  1.6689712 ,  1.7180586 ,\n",
       "              1.7671459 ,  1.8162333 ,  1.8653207 ,  1.9144081 ,\n",
       "              1.9634955 ,  2.0125828 ,  2.0616703 ,  2.1107576 ,\n",
       "              2.159845  ,  2.2089324 ,  2.2580197 ,  2.3071072 ,\n",
       "              2.3561945 ,  2.405282  ,  2.4543693 ,  2.5034568 ,\n",
       "              2.552544  ,  2.6016314 ,  2.650719  ,  2.6998062 ,\n",
       "              2.7488937 ,  2.797981  ,  2.8470683 ,  2.8961558 ,\n",
       "              2.9452431 ,  2.9943306 ,  3.043418  ,  3.0925055 ,\n",
       "             -3.1415927 , -3.0925055 , -3.043418  , -2.9943306 ,\n",
       "             -2.9452431 , -2.8961558 , -2.8470683 , -2.797981  ,\n",
       "             -2.7488937 , -2.6998062 , -2.650719  , -2.6016314 ,\n",
       "             -2.552544  , -2.5034568 , -2.4543693 , -2.405282  ,\n",
       "             -2.3561945 , -2.3071072 , -2.2580197 , -2.2089324 ,\n",
       "             -2.159845  , -2.1107576 , -2.0616703 , -2.0125828 ,\n",
       "             -1.9634955 , -1.9144081 , -1.8653207 , -1.8162333 ,\n",
       "             -1.7671459 , -1.7180586 , -1.6689712 , -1.6198838 ,\n",
       "             -1.5707964 , -1.521709  , -1.4726216 , -1.4235342 ,\n",
       "             -1.3744469 , -1.3253595 , -1.276272  , -1.2271847 ,\n",
       "             -1.1780972 , -1.1290098 , -1.0799226 , -1.0308352 ,\n",
       "             -0.98174775, -0.93266034, -0.88357294, -0.8344856 ,\n",
       "             -0.7853982 , -0.7363108 , -0.68722343, -0.638136  ,\n",
       "             -0.5890486 , -0.5399613 , -0.49087387, -0.44178647,\n",
       "             -0.3926991 , -0.34361172, -0.2945243 , -0.24543694,\n",
       "             -0.19634955, -0.14726216, -0.09817477, -0.04908739],            dtype=float32)]}}, 'independent': {}}\n",
       "\n",
       "Operations:\n",
       "- _k5: FourierSeries <-- FFTGradient ('u',) | (shared) FFTGradient\n",
       "- _mO: FourierSeries <-- MultiplyOnGrid ('_k5', 'pml') | (none) MultiplyOnGrid\n",
       "- _oj: FourierSeries <-- FFTDiagJacobian ('_mO',) | (shared) FFTDiagJacobian\n",
       "- _q2: FourierSeries <-- MultiplyOnGrid ('_oj', 'pml') | (none) MultiplyOnGrid\n",
       "- _vm: FourierSeries <-- SumOverDimsOnGrid ('_q2',) | (none) SumOverDimsOnGrid"
      ]
     },
     "execution_count": 30,
     "metadata": {},
     "output_type": "execute_result"
    }
   ],
   "source": [
    "s"
   ]
  },
  {
   "cell_type": "code",
   "execution_count": null,
   "metadata": {},
   "outputs": [],
   "source": []
  }
 ],
 "metadata": {
  "kernelspec": {
   "display_name": "Python 3 (ipykernel)",
   "language": "python",
   "name": "python3"
  },
  "language_info": {
   "codemirror_mode": {
    "name": "ipython",
    "version": 3
   },
   "file_extension": ".py",
   "mimetype": "text/x-python",
   "name": "python",
   "nbconvert_exporter": "python",
   "pygments_lexer": "ipython3",
   "version": "3.8.10"
  }
 },
 "nbformat": 4,
 "nbformat_minor": 4
}
