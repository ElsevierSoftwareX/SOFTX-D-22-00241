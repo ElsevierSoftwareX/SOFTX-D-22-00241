{
 "cells": [
  {
   "cell_type": "code",
   "execution_count": 1,
   "id": "e16cdc3b-d69c-45c5-9976-44474bcedfde",
   "metadata": {},
   "outputs": [],
   "source": [
    "import matplotlib \n",
    "\n",
    "matplotlib.use(\"pgf\")\n",
    "matplotlib.rcParams.update({\n",
    "    \"pgf.texsystem\": \"pdflatex\",\n",
    "    'font.family': 'serif',\n",
    "    'text.usetex': True,\n",
    "    'pgf.rcfonts': False,\n",
    "})"
   ]
  },
  {
   "cell_type": "code",
   "execution_count": 2,
   "id": "89c9c6dd-2a6d-44c3-995a-f7346638d63f",
   "metadata": {},
   "outputs": [
    {
     "name": "stdout",
     "output_type": "stream",
     "text": [
      "Sensors parameters:\n"
     ]
    },
    {
     "name": "stderr",
     "output_type": "stream",
     "text": [
      "/tmp/ipykernel_228745/2456891094.py:6: UserWarning: Matplotlib is currently using pgf, which is a non-GUI backend, so cannot show the figure.\n",
      "  plt.show()\n"
     ]
    }
   ],
   "source": [
    "%run ./homogeneous_medium_sensors.ipynb"
   ]
  },
  {
   "cell_type": "markdown",
   "id": "c6908742-3df6-4c81-918d-378074c087a0",
   "metadata": {},
   "source": [
    "In this notebooks, we will work on simulated measurements. To make things (a tiny bit) more realistic, we'll add some coloured noise to each sensor trace"
   ]
  },
  {
   "cell_type": "code",
   "execution_count": 3,
   "id": "f1ed1693-bf20-4760-b1c3-bba41c6618e1",
   "metadata": {},
   "outputs": [
    {
     "name": "stderr",
     "output_type": "stream",
     "text": [
      "/tmp/ipykernel_228745/1280918191.py:19: UserWarning: Matplotlib is currently using pgf, which is a non-GUI backend, so cannot show the figure.\n",
      "  plt.show()\n"
     ]
    }
   ],
   "source": [
    "import numpy as np\n",
    "from jax import grad, random\n",
    "\n",
    "from jwave.signal_processing import smooth\n",
    "\n",
    "# Add colored noise\n",
    "noise = random.normal(random.PRNGKey(42), sensors_data.shape)\n",
    "for i in range(noise.shape[1]):\n",
    "    noise = noise.at[:, i].set(smooth(noise[:, i]))\n",
    "\n",
    "noisy_data = sensors_data + 0.2 * noise\n",
    "\n",
    "# Show noisy traces\n",
    "_field = FourierSeries(noisy_data.T, domain)\n",
    "show_field(_field, \"Noisy acoustic signals\")\n",
    "plt.xlabel(\"Time step\")\n",
    "plt.ylabel(\"Sensor position\")\n",
    "plt.axis(\"on\")\n",
    "plt.show()"
   ]
  },
  {
   "cell_type": "markdown",
   "id": "bfcfa8a8-e86b-419f-8363-b04065b83664",
   "metadata": {},
   "source": [
    "## Automatic differentiation\n",
    "\n",
    "In `jwave`, it is possible to take the gradient with respect to any scalar loss, as shown in the following example. The gradients will have the same datatypes as the inputs of to the function, so `Field` gradients will be mapped to `Field` objects.\n",
    "\n",
    "Here, we write a simple time reversal algorithm using autodiff. Note that time-reversal is proportional to the derivative operator of the `MSE` loss with respect to the measurement data, applied with zero initial conditions."
   ]
  },
  {
   "cell_type": "code",
   "execution_count": 4,
   "id": "a3c8b2c1-efac-4248-96c9-0f14d7efdb1f",
   "metadata": {},
   "outputs": [],
   "source": [
    "# The following uses the reciprocity of the wave equation to generate\n",
    "# a time reversal imaging algorithm\n",
    "\n",
    "\n",
    "def solver(p0):\n",
    "    return simulate_wave_propagation(medium, time_axis, p0=p0, sensors=sensors)\n",
    "\n",
    "\n",
    "@jit  # Compile the whole algorithm\n",
    "def lazy_time_reversal(measurements):\n",
    "\n",
    "    # Mask out elements outside the sensors ring\n",
    "    mask = _circ_mask(N, 39, (64, 64))\n",
    "    mask = np.expand_dims(mask, -1)\n",
    "\n",
    "    def mse_loss(p0, measurements):\n",
    "        p0 = p0.replace_params(p0.params * mask)\n",
    "        p_pred = solver(p0)[..., 0]\n",
    "        return 0.5 * jnp.sum(jnp.abs(p_pred - measurements) ** 2)\n",
    "\n",
    "    # Start from an empty field\n",
    "    p0 = FourierSeries.empty(domain)\n",
    "\n",
    "    # Take the gradient of the MSE loss w.r.t. the\n",
    "    # measured data\n",
    "    p_grad = grad(mse_loss)(p0, measurements)\n",
    "\n",
    "    return -p_grad\n",
    "\n",
    "\n",
    "# Reconstruct initial pressure distribution\n",
    "recon_image = lazy_time_reversal(noisy_data)\n",
    "\n",
    "# Show reconstructed field\n",
    "show_field(recon_image, \"Reconstructed initial pressure using autograd\")"
   ]
  },
  {
   "cell_type": "code",
   "execution_count": 5,
   "id": "20d69ab3-35c0-4237-aa0e-7fc2ff75f8da",
   "metadata": {},
   "outputs": [
    {
     "name": "stdout",
     "output_type": "stream",
     "text": [
      "86.9 ms ± 2.17 ms per loop (mean ± std. dev. of 7 runs, 10 loops each)\n"
     ]
    }
   ],
   "source": [
    "# Timings for the reconstruction algorithm, should be\n",
    "# ~ 2x the forward function.\n",
    "%timeit lazy_time_reversal(noisy_data).params.block_until_ready()"
   ]
  },
  {
   "cell_type": "code",
   "execution_count": 8,
   "id": "a38927f9-7b36-4aa0-a656-98f0fd1f2f2d",
   "metadata": {},
   "outputs": [],
   "source": [
    "# Save for paper\n",
    "fig, ax = plt.subplots(1,3, figsize=(13,3), dpi=100)\n",
    "\n",
    "im1 = ax[0].imshow(p0.on_grid, cmap=\"RdBu_r\", vmin=-2, vmax=2)\n",
    "cbar = fig.colorbar(im1, ax=ax[0])\n",
    "ax[0].axis('off')\n",
    "ax[0].set_title('Initial pressure')\n",
    "ax[0].scatter(x, y, label=\"sensors\")\n",
    "ax[0].legend()\n",
    "\n",
    "im2 = ax[1].imshow(noisy_data.T, cmap=\"RdBu_r\", vmin=-2, vmax=2, aspect='auto')\n",
    "cbar = fig.colorbar(im2, ax=ax[1])\n",
    "ax[1].set_title('Noisy traces')\n",
    "ax[1].set_ylabel(\"Sensor num.\")\n",
    "ax[1].set_xlabel(\"Time-step\")\n",
    "\n",
    "im1 = ax[2].imshow(recon_image.on_grid, cmap=\"RdBu_r\", vmin=-0.6, vmax=0.6)\n",
    "cbar = fig.colorbar(im1, ax=ax[2])\n",
    "ax[2].axis('off')\n",
    "ax[2].set_title('Recovered initial pressure')\n",
    "\n",
    "plt.savefig(\"initial_pressure_recon.pgf\", bbox_inches=\"tight\")"
   ]
  },
  {
   "cell_type": "code",
   "execution_count": null,
   "id": "ef1bd2c2-a657-41f5-b2c4-16347760452b",
   "metadata": {},
   "outputs": [],
   "source": []
  }
 ],
 "metadata": {
  "jupytext": {
   "formats": "ipynb,auto:light"
  },
  "kernelspec": {
   "display_name": "Python 3 (ipykernel)",
   "language": "python",
   "name": "python3"
  },
  "language_info": {
   "codemirror_mode": {
    "name": "ipython",
    "version": 3
   },
   "file_extension": ".py",
   "mimetype": "text/x-python",
   "name": "python",
   "nbconvert_exporter": "python",
   "pygments_lexer": "ipython3",
   "version": "3.10.4"
  }
 },
 "nbformat": 4,
 "nbformat_minor": 5
}
