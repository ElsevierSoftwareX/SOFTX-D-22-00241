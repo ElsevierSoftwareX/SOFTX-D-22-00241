{
 "cells": [
  {
   "cell_type": "code",
   "execution_count": 1,
   "id": "fc8855f0-430f-4d5f-823d-2f0f528f6a76",
   "metadata": {},
   "outputs": [],
   "source": [
    "from jwave.geometry import Domain, Medium, TimeAxis, _circ_mask\n",
    "from jwave.acoustics.time_varying import simulate_wave_propagation\n",
    "from jwave import FiniteDifferences, FourierSeries\n",
    "from jwave.signal_processing import smooth\n",
    "\n",
    "from jax import numpy as jnp\n",
    "from matplotlib import pyplot as plt\n",
    "import numpy as np\n",
    "import jax\n",
    "import matplotlib"
   ]
  },
  {
   "cell_type": "code",
   "execution_count": 2,
   "id": "e5324789-f97c-406c-876e-a66d7deae6fa",
   "metadata": {},
   "outputs": [],
   "source": [
    "matplotlib.use(\"pgf\")\n",
    "matplotlib.rcParams.update({\n",
    "    \"pgf.texsystem\": \"pdflatex\",\n",
    "    'font.family': 'serif',\n",
    "    'text.usetex': True,\n",
    "    'pgf.rcfonts': False,\n",
    "})"
   ]
  },
  {
   "cell_type": "code",
   "execution_count": 3,
   "id": "8e83ec98-52e3-481d-aecf-0d465845dba1",
   "metadata": {},
   "outputs": [],
   "source": [
    "domain = Domain((128,128), (0.1e-3,0.1e-3))\n",
    "\n",
    "# Heterogeneous sound speed\n",
    "sound_speed = np.ones(domain.N) * 1500.0\n",
    "sound_speed[50:90, 32:100] = 2300.0\n",
    "\n",
    "# Smoothed initial pressure distribution\n",
    "Nx = domain.N\n",
    "p0 = 5.0 * _circ_mask(Nx, 5, (40, 40))\n",
    "\n",
    "# Getting time axis\n",
    "medium = Medium(domain, sound_speed, pml_size=16)\n",
    "time_axis = TimeAxis.from_medium(medium, cfl=0.1, t_end=4e-6)"
   ]
  },
  {
   "cell_type": "code",
   "execution_count": 4,
   "id": "f45c4426-486f-415d-88b4-fb34424615e4",
   "metadata": {},
   "outputs": [],
   "source": [
    "@jax.jit\n",
    "def run_simulation(p0, sound_speed):\n",
    "    medium = Medium(domain, sound_speed, pml_size=16)\n",
    "    return simulate_wave_propagation(\n",
    "      medium,\n",
    "      time_axis,\n",
    "      p0=p0,\n",
    "      smooth_initial=True\n",
    "    )"
   ]
  },
  {
   "cell_type": "code",
   "execution_count": 5,
   "id": "cda4d790-c1bf-4f8e-931d-85bfafb07ed5",
   "metadata": {},
   "outputs": [],
   "source": [
    "p0_fd = FiniteDifferences(np.expand_dims(p0, -1), domain, accuracy=8)\n",
    "sos_fd = FiniteDifferences(np.expand_dims(sound_speed, -1), domain, accuracy=8)\n",
    "\n",
    "pred_fields_fd = run_simulation(p0_fd, sos_fd)"
   ]
  },
  {
   "cell_type": "code",
   "execution_count": 6,
   "id": "b0759b07-1f22-4176-aa9b-6b58a1c04f8a",
   "metadata": {},
   "outputs": [],
   "source": [
    "p0_fd = FourierSeries(np.expand_dims(p0, -1), domain)\n",
    "sos_fd = FourierSeries(np.expand_dims(sound_speed, -1), domain)\n",
    "\n",
    "pred_fields_fourier = run_simulation(p0_fd, sos_fd)"
   ]
  },
  {
   "cell_type": "code",
   "execution_count": 9,
   "id": "6abfcf65-105e-491a-ac29-dc271654efd1",
   "metadata": {},
   "outputs": [],
   "source": [
    "fig, ax = plt.subplots(1,2,figsize=(12,4), dpi=200)\n",
    "\n",
    "im1 = ax[0].imshow(pred_fields_fd[-1].on_grid, cmap=\"RdBu_r\", vmin=-0.7, vmax=0.7)\n",
    "cbar = fig.colorbar(im1, ax=ax[0])\n",
    "cbar.ax.get_yaxis().labelpad = 15\n",
    "cbar.ax.set_ylabel('A.U.', rotation=270)\n",
    "ax[0].axis('off')\n",
    "ax[0].set_title('FiniteDifferences')\n",
    "\n",
    "im2 = ax[1].imshow(pred_fields_fourier[-1].on_grid, cmap=\"RdBu_r\", vmin=-0.7, vmax=0.7)\n",
    "cbar = fig.colorbar(im2, ax=ax[1])\n",
    "cbar.ax.get_yaxis().labelpad = 15\n",
    "cbar.ax.set_ylabel('A.U.', rotation=270)\n",
    "ax[1].axis('off')\n",
    "ax[1].set_title('FourierSeries')\n",
    "\n",
    "plt.savefig(\"fourier_fd_comparison.pgf\")"
   ]
  },
  {
   "cell_type": "code",
   "execution_count": null,
   "id": "401857cb-b250-4894-90bf-c6ab63865285",
   "metadata": {},
   "outputs": [],
   "source": []
  }
 ],
 "metadata": {
  "kernelspec": {
   "display_name": "Python 3 (ipykernel)",
   "language": "python",
   "name": "python3"
  },
  "language_info": {
   "codemirror_mode": {
    "name": "ipython",
    "version": 3
   },
   "file_extension": ".py",
   "mimetype": "text/x-python",
   "name": "python",
   "nbconvert_exporter": "python",
   "pygments_lexer": "ipython3",
   "version": "3.10.4"
  }
 },
 "nbformat": 4,
 "nbformat_minor": 5
}
