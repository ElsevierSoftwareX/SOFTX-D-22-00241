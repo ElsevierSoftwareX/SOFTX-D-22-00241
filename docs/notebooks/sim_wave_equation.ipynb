{
 "cells": [
  {
   "cell_type": "code",
   "execution_count": 1,
   "id": "90acc1f2-2fe9-49e3-9c27-463404252dc8",
   "metadata": {},
   "outputs": [],
   "source": [
    "%load_ext autoreload\n",
    "%autoreload 2"
   ]
  },
  {
   "cell_type": "code",
   "execution_count": 11,
   "id": "4f5b82d9-a96a-41a2-b26e-0013d3bc1336",
   "metadata": {},
   "outputs": [],
   "source": [
    "from jwave.geometry import Domain, Medium, TimeAxis\n",
    "from jax import numpy as jnp\n",
    "from matplotlib import pyplot as plt"
   ]
  },
  {
   "cell_type": "code",
   "execution_count": 76,
   "id": "dea67de5-d709-491d-88d1-2579e1e491e9",
   "metadata": {},
   "outputs": [],
   "source": [
    "domain = Domain( (128,128), (1.,1.))\n",
    "medium = Medium(\n",
    "    domain=domain,\n",
    "    sound_speed = jnp.ones((128,128)),\n",
    "    density = jnp.ones((128,128)),\n",
    "    attenuation = 0,\n",
    "    pml_size = 10.\n",
    ")"
   ]
  },
  {
   "cell_type": "markdown",
   "id": "a843320b-ab30-4d41-ab95-0bb151f48fa8",
   "metadata": {},
   "source": [
    "Testing pml"
   ]
  },
  {
   "cell_type": "code",
   "execution_count": 77,
   "id": "a542356f-c068-40c0-ba18-23d224d58273",
   "metadata": {},
   "outputs": [
    {
     "name": "stdout",
     "output_type": "stream",
     "text": [
      "[54.0, 54.0]\n"
     ]
    }
   ],
   "source": [
    "from jwave.physics import pml_on_grid\n",
    "\n",
    "pml = pml_on_grid(medium, dt=0.1)"
   ]
  },
  {
   "cell_type": "code",
   "execution_count": 78,
   "id": "d91610f2-e99b-40bf-ab1d-78169bc913c2",
   "metadata": {},
   "outputs": [
    {
     "data": {
      "text/plain": [
       "<matplotlib.colorbar.Colorbar at 0x7fea80112250>"
      ]
     },
     "execution_count": 78,
     "metadata": {},
     "output_type": "execute_result"
    },
    {
     "data": {
      "image/png": "[encoded data removed]",
      "text/plain": [
       "<Figure size 432x288 with 2 Axes>"
      ]
     },
     "metadata": {
      "needs_background": "light"
     },
     "output_type": "display_data"
    }
   ],
   "source": [
    "plt.imshow(pml[...,1])\n",
    "plt.colorbar()"
   ]
  },
  {
   "cell_type": "code",
   "execution_count": null,
   "id": "a1ee45b9-7b9c-468a-8faf-46b3a9c97a03",
   "metadata": {},
   "outputs": [],
   "source": []
  }
 ],
 "metadata": {
  "kernelspec": {
   "display_name": "Python 3 (ipykernel)",
   "language": "python",
   "name": "python3"
  },
  "language_info": {
   "codemirror_mode": {
    "name": "ipython",
    "version": 3
   },
   "file_extension": ".py",
   "mimetype": "text/x-python",
   "name": "python",
   "nbconvert_exporter": "python",
   "pygments_lexer": "ipython3",
   "version": "3.8.10"
  }
 },
 "nbformat": 4,
 "nbformat_minor": 5
}
