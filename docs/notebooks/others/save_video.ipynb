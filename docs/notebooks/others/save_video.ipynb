{
 "cells": [
  {
   "cell_type": "markdown",
   "id": "808b895b-375d-4a64-b7d3-329c2e72d0bf",
   "metadata": {},
   "source": [
    "# Save video\n",
    "\n",
    "Note that the `save_video` funcion requires [`imageio`](https://imageio.readthedocs.io/en/stable/) and [`tqdm`](https://tqdm.github.io/), which are not installed by default. \n",
    "\n",
    ":warning: Note that his function also **deletes** and uses the temporary folder `/tmp/jwave_video`."
   ]
  },
  {
   "cell_type": "markdown",
   "id": "51cb654b-3517-434e-ad67-1a459c08854e",
   "metadata": {},
   "source": [
    "⚠️ Run the next cell only if you don't have `imageio-ffmpeg` installed, otherwise it will be reinstalled"
   ]
  },
  {
   "cell_type": "code",
   "execution_count": 1,
   "id": "7bb6d056-f7f7-4372-97fe-29ec292ead0b",
   "metadata": {},
   "outputs": [
    {
     "name": "stdout",
     "output_type": "stream",
     "text": [
      "Collecting imageio-ffmpeg\n",
      "  Using cached imageio_ffmpeg-0.4.7-py3-none-manylinux2010_x86_64.whl (26.9 MB)\n",
      "Installing collected packages: imageio-ffmpeg\n",
      "Successfully installed imageio-ffmpeg-0.4.7\n"
     ]
    }
   ],
   "source": [
    "!pip install imageio-ffmpeg"
   ]
  },
  {
   "cell_type": "code",
   "execution_count": 2,
   "id": "52df5536-f518-4b65-aaa7-6f99327bce93",
   "metadata": {},
   "outputs": [],
   "source": [
    "import numpy as np\n",
    "from jax import jit\n",
    "from jax import numpy as jnp\n",
    "from jaxdf import FourierSeries\n",
    "from matplotlib import pyplot as plt\n",
    "\n",
    "from jwave import FourierSeries\n",
    "from jwave.acoustics import simulate_wave_propagation\n",
    "from jwave.geometry import *\n",
    "from jwave.geometry import _circ_mask\n",
    "from jwave.utils import show_field, show_positive_field\n",
    "\n",
    "domain = Domain((128, 128), (0.1e-3, 0.1e-3))"
   ]
  },
  {
   "cell_type": "code",
   "execution_count": 3,
   "id": "8bbe4e23-f7d6-4c50-97df-44a437069445",
   "metadata": {},
   "outputs": [],
   "source": [
    "density = np.ones(domain.N) * 1000\n",
    "density[50:90, 65:100] = 2300\n",
    "density = FourierSeries(np.expand_dims(density, -1), domain)\n",
    "\n",
    "medium = Medium(domain=domain, sound_speed=1500.0, density=density)\n",
    "time_axis = TimeAxis.from_medium(medium, cfl=0.3)\n",
    "\n",
    "# Defining the initial pressure\n",
    "N = domain.N\n",
    "p0 = _circ_mask(N, 3, (64, 30))\n",
    "p0 = 1.0 * jnp.expand_dims(p0, -1)\n",
    "p0 = FourierSeries(p0, domain)"
   ]
  },
  {
   "cell_type": "code",
   "execution_count": 13,
   "id": "e5386fc6-cbe7-43c8-a5ec-e6a150c6fed9",
   "metadata": {},
   "outputs": [],
   "source": [
    "medium = Medium(domain=domain, sound_speed=1500.0, density=density)\n",
    "pressure = simulate_wave_propagation(medium, time_axis, p0=p0)"
   ]
  },
  {
   "cell_type": "code",
   "execution_count": 14,
   "id": "513ae3ad-8ae0-4d7f-8e65-71b89eff7abf",
   "metadata": {},
   "outputs": [
    {
     "name": "stderr",
     "output_type": "stream",
     "text": [
      "100%|█████████████████████████████████████████████████████████████████████████████████████| 600/600 [01:02<00:00,  9.62it/s]\n"
     ]
    }
   ],
   "source": [
    "from jwave.extras.export import save_video\n",
    "\n",
    "save_video(pressure, './sample_video.mp4', vmax=0.1, vmin=-0.1, fps=50)"
   ]
  },
  {
   "cell_type": "markdown",
   "id": "de9580f7-3460-49bc-9fea-aef4af8bfc33",
   "metadata": {},
   "source": [
    "<video src=\"./sample_video.mp4\" controls=\"controls\"></video>"
   ]
  }
 ],
 "metadata": {
  "kernelspec": {
   "display_name": "Python 3 (ipykernel)",
   "language": "python",
   "name": "python3"
  },
  "language_info": {
   "codemirror_mode": {
    "name": "ipython",
    "version": 3
   },
   "file_extension": ".py",
   "mimetype": "text/x-python",
   "name": "python",
   "nbconvert_exporter": "python",
   "pygments_lexer": "ipython3",
   "version": "3.10.5"
  }
 },
 "nbformat": 4,
 "nbformat_minor": 5
}
