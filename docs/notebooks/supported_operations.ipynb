{
 "cells": [
  {
   "cell_type": "code",
   "execution_count": null,
   "id": "b18c7e3c-20f8-4771-afa6-7a8bd0d9a1b8",
   "metadata": {},
   "outputs": [],
   "source": [
    "%load_ext autoreload\n",
    "%autoreload 2"
   ]
  },
  {
   "cell_type": "code",
   "execution_count": null,
   "id": "f4ffde96-74c3-49dd-b0fc-abc2ee6168a8",
   "metadata": {},
   "outputs": [],
   "source": [
    "from jax import random\n",
    "from jwave.geometry import Domain\n",
    "import jax\n",
    "from jax import numpy as jnp\n",
    "\n",
    "seeds = random.split(random.PRNGKey(42), 20)\n",
    "\n",
    "domain = Domain((32,35), (.5,.6))\n",
    "x = jnp.array([1., 2.])"
   ]
  },
  {
   "cell_type": "code",
   "execution_count": null,
   "id": "9e045857-87e5-4573-b0bf-f2e94cd6ca8e",
   "metadata": {},
   "outputs": [],
   "source": [
    "from jwave.core import operator, Field"
   ]
  },
  {
   "cell_type": "code",
   "execution_count": null,
   "id": "30aca2ff-3285-455c-9f15-5dbb28ba8435",
   "metadata": {},
   "outputs": [],
   "source": [
    "from jwave.discretization import Arbitrary\n",
    "from jax import numpy as jnp\n",
    "from jax.experimental import stax\n",
    "\n",
    "init_random_params, predict = stax.serial(\n",
    "    stax.Dense(32), stax.Relu,\n",
    "    stax.Dense(32), stax.Relu,\n",
    "    stax.Dense(1))\n",
    "\n",
    "init_params = lambda seed, domain: init_random_params(seed, (len(domain.N),))[1]\n",
    "\n",
    "def get_fun(params, x):\n",
    "    return predict(params, x)\n",
    "\n",
    "arbitrary_discr = Arbitrary(domain, get_fun, init_params)\n",
    "\n",
    "u_arb_params = arbitrary_discr.random_field(seeds[0])\n",
    "u_arbitrary = Field(arbitrary_discr, params=u_arb_params, name='u')\n",
    "\n",
    "v_arb_params = arbitrary_discr.random_field(seeds[1])\n",
    "v_arbitrary = Field(arbitrary_discr, params=v_arb_params, name='v')"
   ]
  },
  {
   "cell_type": "code",
   "execution_count": null,
   "id": "45ed24f9-833c-422f-8fa8-50c28ceeab0d",
   "metadata": {},
   "outputs": [],
   "source": [
    "from jwave.discretization import RealFourierSeries\n",
    "fourier_discr = RealFourierSeries(domain)\n",
    "\n",
    "u_fourier_params = fourier_discr.random_field(seeds[0])\n",
    "u_fourier = Field(fourier_discr, params=u_fourier_params, name='u')\n",
    "\n",
    "v_fourier_params = fourier_discr.random_field(seeds[1])\n",
    "v_fourier = Field(fourier_discr, params=v_fourier_params, name='v')"
   ]
  },
  {
   "cell_type": "markdown",
   "id": "2153e336-f7cc-48f8-ae05-1196d65fd0a3",
   "metadata": {},
   "source": [
    "# `__call__` (non-jittable)"
   ]
  },
  {
   "cell_type": "code",
   "execution_count": null,
   "id": "45c9f6a7-f767-4554-9f9d-25bffcddc1f1",
   "metadata": {},
   "outputs": [],
   "source": [
    "u_arbitrary(x)"
   ]
  },
  {
   "cell_type": "code",
   "execution_count": null,
   "id": "3784aab4-272f-40ed-b04f-df2c10ab8f3d",
   "metadata": {},
   "outputs": [],
   "source": [
    "u_fourier(x)"
   ]
  },
  {
   "cell_type": "markdown",
   "id": "425a7a63-0484-42cd-b7b4-6642628836fd",
   "metadata": {},
   "source": [
    "# `get_field` (jittable)"
   ]
  },
  {
   "cell_type": "code",
   "execution_count": 10,
   "id": "3cc37aa7-5d10-4d13-815e-e1d09f3f3fa3",
   "metadata": {},
   "outputs": [
    {
     "data": {
      "text/plain": [
       "DeviceArray([-0.11763091], dtype=float32)"
      ]
     },
     "execution_count": 10,
     "metadata": {},
     "output_type": "execute_result"
    }
   ],
   "source": [
    "u_arbitrary.get_field()(u_arb_params, x)"
   ]
  },
  {
   "cell_type": "code",
   "execution_count": 11,
   "id": "d63ce3d1-68b8-41e2-a500-c9ff73d8417b",
   "metadata": {},
   "outputs": [
    {
     "data": {
      "text/plain": [
       "DeviceArray([-0.2871864], dtype=float32)"
      ]
     },
     "execution_count": 11,
     "metadata": {},
     "output_type": "execute_result"
    }
   ],
   "source": [
    "u_fourier.get_field()(u_fourier_params, x)"
   ]
  },
  {
   "cell_type": "markdown",
   "id": "b7f3f4f2-e8b0-4f2d-afc0-5dad1e65534d",
   "metadata": {},
   "source": [
    "# `add`"
   ]
  },
  {
   "cell_type": "code",
   "execution_count": 13,
   "id": "5cb67f4b-ded4-4b8a-93ef-e2abf2ff4d16",
   "metadata": {},
   "outputs": [],
   "source": [
    "@operator()\n",
    "def new_op(u, v):\n",
    "    return u + v"
   ]
  },
  {
   "cell_type": "code",
   "execution_count": null,
   "id": "7a4ba068-45b9-4eda-bc4a-9ef94e2473ce",
   "metadata": {},
   "outputs": [],
   "source": [
    "out_field = new_op(u=u_arbitrary)\n",
    "global_params = out_field.get_global_params()\n",
    "out_field.get_field(0)(global_params, {\"u\": arbitrary_field}, x)"
   ]
  },
  {
   "cell_type": "code",
   "execution_count": null,
   "id": "e6d8bfe7-5f96-41d7-90d0-1280df9f876d",
   "metadata": {},
   "outputs": [],
   "source": []
  },
  {
   "cell_type": "markdown",
   "id": "5b29647f-8cfc-4208-bd6e-a29af59b9c5b",
   "metadata": {},
   "source": [
    "# `add_scalar`"
   ]
  },
  {
   "cell_type": "code",
   "execution_count": 11,
   "id": "34b345b6-28f2-43a2-b273-2062f07338d2",
   "metadata": {},
   "outputs": [],
   "source": [
    "from jwave.operators import Dx\n",
    "\n",
    "@operator()\n",
    "def get_gradient(u):\n",
    "    return Dx(u)"
   ]
  },
  {
   "cell_type": "code",
   "execution_count": 17,
   "id": "b6bb8903-bc7e-467f-bab0-c6110e65f995",
   "metadata": {},
   "outputs": [
    {
     "data": {
      "text/plain": [
       "DeviceArray([1.882369], dtype=float32)"
      ]
     },
     "execution_count": 17,
     "metadata": {},
     "output_type": "execute_result"
    }
   ],
   "source": [
    "out_field = add_two(u=u_arbitrary)\n",
    "global_params = out_field.get_global_params()\n",
    "out_field.get_field(0)(global_params, {\"u\": u_arb_params}, x)"
   ]
  },
  {
   "cell_type": "code",
   "execution_count": 13,
   "id": "7dc2a7ab-9f20-486b-9b6c-59e447eefdbf",
   "metadata": {},
   "outputs": [],
   "source": [
    "out_field = add_two(u=u_arbitrary)"
   ]
  },
  {
   "cell_type": "code",
   "execution_count": 14,
   "id": "99a7cf89-4beb-481b-9331-a7497010a93c",
   "metadata": {},
   "outputs": [
    {
     "name": "stdout",
     "output_type": "stream",
     "text": [
      "DiscretizedOperator :: [Arbitrary], ['_k5'] \n",
      "\n",
      " Input fields: ('u',)\n",
      "\n",
      "Globals: {'shared': {}, 'independent': {'AddScalar_jR': {'scalar': 2.0}}}\n",
      "\n",
      "Operations:\n",
      "- _k5: Arbitrary <-- AddScalar ('u',) | (independent) AddScalar_jR\n",
      "\n"
     ]
    }
   ],
   "source": [
    "print(out_field)"
   ]
  },
  {
   "cell_type": "code",
   "execution_count": 18,
   "id": "14270f2d-2f57-4a07-a2f5-a762d32104b2",
   "metadata": {},
   "outputs": [
    {
     "data": {
      "text/plain": [
       "DeviceArray([1.882369], dtype=float32)"
      ]
     },
     "execution_count": 18,
     "metadata": {},
     "output_type": "execute_result"
    }
   ],
   "source": [
    "f = out_field.get_field(0)\n",
    "global_params = out_field.get_global_params()\n",
    "\n",
    "f(global_params, {\"u\": u_arb_params}, x)"
   ]
  },
  {
   "cell_type": "code",
   "execution_count": 19,
   "id": "7715c16c-5fb8-4a06-a68d-8d279e831ead",
   "metadata": {},
   "outputs": [
    {
     "name": "stdout",
     "output_type": "stream",
     "text": [
      "{ lambda  ; a b c d e f g h.\n",
      "  let i = dot_general[ dimension_numbers=(((0,), (0,)), ((), ()))\n",
      "                       precision=None\n",
      "                       preferred_element_type=None ] h b\n",
      "      j = add i c\n",
      "      k = custom_jvp_call_jaxpr[ fun_jaxpr={ lambda  ; a.\n",
      "                                             let b = max a 0.0\n",
      "                                             in (b,) }\n",
      "                                 jvp_jaxpr_thunk=<function _memoize.<locals>.memoized at 0x7f5528497170>\n",
      "                                 num_consts=0 ] j\n",
      "      l = dot_general[ dimension_numbers=(((0,), (0,)), ((), ()))\n",
      "                       precision=None\n",
      "                       preferred_element_type=None ] k d\n",
      "      m = add l e\n",
      "      n = custom_jvp_call_jaxpr[ fun_jaxpr={ lambda  ; a.\n",
      "                                             let b = max a 0.0\n",
      "                                             in (b,) }\n",
      "                                 jvp_jaxpr_thunk=<function _memoize.<locals>.memoized at 0x7f5528497290>\n",
      "                                 num_consts=0 ] m\n",
      "      o = dot_general[ dimension_numbers=(((0,), (0,)), ((), ()))\n",
      "                       precision=None\n",
      "                       preferred_element_type=None ] n f\n",
      "      p = add o g\n",
      "      q = convert_element_type[ new_dtype=float32\n",
      "                                weak_type=False ] a\n",
      "      r = add p q\n",
      "  in (r,) }\n"
     ]
    }
   ],
   "source": [
    "from jax import make_jaxpr\n",
    "\n",
    "print(make_jaxpr(f)(global_params, {\"u\": u_arb_params}, x))"
   ]
  },
  {
   "cell_type": "code",
   "execution_count": 20,
   "id": "ac63cce0-9f37-4c10-aebe-ad4cdb5b0ea4",
   "metadata": {},
   "outputs": [
    {
     "data": {
      "text/plain": [
       "DeviceArray([1.712813], dtype=float32)"
      ]
     },
     "execution_count": 20,
     "metadata": {},
     "output_type": "execute_result"
    }
   ],
   "source": [
    "out_field = add_two(u=u_fourier)\n",
    "\n",
    "global_params = out_field.get_global_params()\n",
    "out_field.get_field(0)(global_params, {\"u\": u_fourier_params}, x)"
   ]
  },
  {
   "cell_type": "code",
   "execution_count": 22,
   "id": "1b007186-b89e-4c7a-acca-f8adb18209d4",
   "metadata": {},
   "outputs": [
    {
     "data": {
      "text/plain": [
       "DeviceArray([1.712813], dtype=float32)"
      ]
     },
     "execution_count": 22,
     "metadata": {},
     "output_type": "execute_result"
    }
   ],
   "source": [
    "f = out_field.get_field(0)\n",
    "global_params = out_field.get_global_params()\n",
    "\n",
    "f(global_params, {\"u\": u_fourier_params}, x)"
   ]
  },
  {
   "cell_type": "code",
   "execution_count": 24,
   "id": "ec23ed07-4e3a-4776-9527-043b244ed44b",
   "metadata": {},
   "outputs": [
    {
     "name": "stdout",
     "output_type": "stream",
     "text": [
      "{ lambda a b c d e ; f g h.\n",
      "  let i = convert_element_type[ new_dtype=float32\n",
      "                                weak_type=False ] f\n",
      "      j = add g i\n",
      "      k = broadcast_in_dim[ broadcast_dimensions=(  )\n",
      "                            shape=(32,) ] 0.0\n",
      "      l = convert_element_type[ new_dtype=float32\n",
      "                                weak_type=False ] a\n",
      "      m = broadcast_in_dim[ broadcast_dimensions=(  )\n",
      "                            shape=(1,) ] 0\n",
      "      n = scatter[ dimension_numbers=ScatterDimensionNumbers(update_window_dims=(0,), inserted_window_dims=(), scatter_dims_to_operand_dims=(0,))\n",
      "                   indices_are_sorted=False\n",
      "                   unique_indices=False\n",
      "                   update_consts=(  )\n",
      "                   update_jaxpr={ lambda  ; a b.\n",
      "                                  let \n",
      "                                  in (b,) } ] k m l\n",
      "      o = convert_element_type[ new_dtype=float32\n",
      "                                weak_type=False ] b\n",
      "      p = broadcast_in_dim[ broadcast_dimensions=(  )\n",
      "                            shape=(1,) ] 16\n",
      "      q = scatter[ dimension_numbers=ScatterDimensionNumbers(update_window_dims=(0,), inserted_window_dims=(), scatter_dims_to_operand_dims=(0,))\n",
      "                   indices_are_sorted=False\n",
      "                   unique_indices=False\n",
      "                   update_consts=(  )\n",
      "                   update_jaxpr={ lambda  ; a b.\n",
      "                                  let \n",
      "                                  in (b,) } ] n p o\n",
      "      r = div q 16.0\n",
      "      s = mul r 2.0\n",
      "      t = mul s 3.1415927410125732\n",
      "      u = broadcast_in_dim[ broadcast_dimensions=(  )\n",
      "                            shape=(35,) ] 0.0\n",
      "      v = convert_element_type[ new_dtype=float32\n",
      "                                weak_type=False ] c\n",
      "      w = broadcast_in_dim[ broadcast_dimensions=(  )\n",
      "                            shape=(1,) ] 0\n",
      "      x = scatter[ dimension_numbers=ScatterDimensionNumbers(update_window_dims=(0,), inserted_window_dims=(), scatter_dims_to_operand_dims=(0,))\n",
      "                   indices_are_sorted=False\n",
      "                   unique_indices=False\n",
      "                   update_consts=(  )\n",
      "                   update_jaxpr={ lambda  ; a b.\n",
      "                                  let \n",
      "                                  in (b,) } ] u w v\n",
      "      y = convert_element_type[ new_dtype=float32\n",
      "                                weak_type=False ] d\n",
      "      z = broadcast_in_dim[ broadcast_dimensions=(  )\n",
      "                            shape=(1,) ] 18\n",
      "      ba = scatter[ dimension_numbers=ScatterDimensionNumbers(update_window_dims=(0,), inserted_window_dims=(), scatter_dims_to_operand_dims=(0,))\n",
      "                    indices_are_sorted=False\n",
      "                    unique_indices=False\n",
      "                    update_consts=(  )\n",
      "                    update_jaxpr={ lambda  ; a b.\n",
      "                                   let \n",
      "                                   in (b,) } ] x z y\n",
      "      bb = div ba 21.0\n",
      "      bc = mul bb 2.0\n",
      "      _ = mul bc 3.1415927410125732\n",
      "      bd = convert_element_type[ new_dtype=float32\n",
      "                                 weak_type=True ] e\n",
      "      be = div bd 21.0\n",
      "      bf = mul be 2.0\n",
      "      bg = mul bf 3.1415927410125732\n",
      "      bh = broadcast_in_dim[ broadcast_dimensions=(0,)\n",
      "                             shape=(32, 18) ] t\n",
      "      bi = broadcast_in_dim[ broadcast_dimensions=(1,)\n",
      "                             shape=(32, 18) ] bg\n",
      "      bj = broadcast_in_dim[ broadcast_dimensions=(0, 1)\n",
      "                             shape=(32, 18, 1) ] bh\n",
      "      bk = broadcast_in_dim[ broadcast_dimensions=(0, 1)\n",
      "                             shape=(32, 18, 1) ] bi\n",
      "      bl = convert_element_type[ new_dtype=float32\n",
      "                                 weak_type=False ] bk\n",
      "      bm = concatenate[ dimension=2 ] bj bl\n",
      "      bn = fft[ fft_lengths=(32, 35)\n",
      "                fft_type=FftType.RFFT ] j\n",
      "      bo = broadcast_in_dim[ broadcast_dimensions=(2,)\n",
      "                             shape=(1, 1, 2) ] h\n",
      "      bp = mul bm bo\n",
      "      bq = reduce_sum[ axes=(2,) ] bp\n",
      "      br = convert_element_type[ new_dtype=complex64\n",
      "                                 weak_type=False ] bq\n",
      "      bs = mul br 1j\n",
      "      bt = exp bs\n",
      "      bu = mul bn bt\n",
      "      bv = reduce_sum[ axes=(0, 1) ] bu\n",
      "      _ = broadcast_in_dim[ broadcast_dimensions=(  )\n",
      "                            shape=(1,) ] 0\n",
      "      bw = broadcast_in_dim[ broadcast_dimensions=(  )\n",
      "                             shape=(32, 0, 2) ] 0.0\n",
      "      _ = broadcast_in_dim[ broadcast_dimensions=(  )\n",
      "                            shape=(1,) ] 0\n",
      "      bx = broadcast_in_dim[ broadcast_dimensions=(  )\n",
      "                             shape=(32, 0) ] 0j\n",
      "      by = conj[ input_dtype=complex64 ] bx\n",
      "      bz = broadcast_in_dim[ broadcast_dimensions=(2,)\n",
      "                             shape=(1, 1, 2) ] h\n",
      "      ca = mul bw bz\n",
      "      cb = reduce_sum[ axes=(2,) ] ca\n",
      "      cc = convert_element_type[ new_dtype=complex64\n",
      "                                 weak_type=False ] cb\n",
      "      cd = mul cc (-0-1j)\n",
      "      ce = exp cd\n",
      "      cf = mul by ce\n",
      "      cg = reduce_sum[ axes=(0, 1) ] cf\n",
      "      ch = add bv cg\n",
      "      ci = real ch\n",
      "      cj = reshape[ dimensions=None\n",
      "                    new_sizes=(1,) ] ci\n",
      "      ck = div cj 1120.0\n",
      "  in (ck,) }\n"
     ]
    }
   ],
   "source": [
    "print(make_jaxpr(f)(global_params, {\"u\": u_fourier_params}, x))"
   ]
  },
  {
   "cell_type": "code",
   "execution_count": null,
   "id": "5601e8c6-fabe-4da4-a4b4-e16e2b495c94",
   "metadata": {},
   "outputs": [],
   "source": []
  },
  {
   "cell_type": "code",
   "execution_count": null,
   "id": "6476a6eb-e637-4d8d-922b-72958b054624",
   "metadata": {},
   "outputs": [],
   "source": []
  },
  {
   "cell_type": "code",
   "execution_count": null,
   "id": "2a6c7b41-818a-4fc8-98e8-346bf8038779",
   "metadata": {},
   "outputs": [],
   "source": []
  }
 ],
 "metadata": {
  "kernelspec": {
   "display_name": "Python 3",
   "language": "python",
   "name": "python3"
  },
  "language_info": {
   "codemirror_mode": {
    "name": "ipython",
    "version": 3
   },
   "file_extension": ".py",
   "mimetype": "text/x-python",
   "name": "python",
   "nbconvert_exporter": "python",
   "pygments_lexer": "ipython3",
   "version": "3.7.10"
  }
 },
 "nbformat": 4,
 "nbformat_minor": 5
}
