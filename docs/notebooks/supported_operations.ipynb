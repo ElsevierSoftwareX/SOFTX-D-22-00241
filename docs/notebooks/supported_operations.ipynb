{
 "cells": [
  {
   "cell_type": "code",
   "execution_count": 1,
   "id": "b18c7e3c-20f8-4771-afa6-7a8bd0d9a1b8",
   "metadata": {},
   "outputs": [],
   "source": [
    "%load_ext autoreload\n",
    "%autoreload 2"
   ]
  },
  {
   "cell_type": "code",
   "execution_count": 2,
   "id": "f4ffde96-74c3-49dd-b0fc-abc2ee6168a8",
   "metadata": {},
   "outputs": [
    {
     "name": "stderr",
     "output_type": "stream",
     "text": [
      "WARNING:absl:No GPU/TPU found, falling back to CPU. (Set TF_CPP_MIN_LOG_LEVEL=0 and rerun for more info.)\n",
      "2021-07-28 11:12:59.088972: E external/org_tensorflow/tensorflow/stream_executor/cuda/cuda_driver.cc:271] failed call to cuInit: CUDA_ERROR_SYSTEM_DRIVER_MISMATCH: system has unsupported display driver / cuda driver combination\n",
      "2021-07-28 11:12:59.089044: E external/org_tensorflow/tensorflow/stream_executor/cuda/cuda_diagnostics.cc:313] kernel version 465.31.0 does not match DSO version 470.57.2 -- cannot find working devices in this configuration\n"
     ]
    }
   ],
   "source": [
    "from jax import random\n",
    "from jwave.geometry import Domain\n",
    "import jax\n",
    "from jax import numpy as jnp\n",
    "\n",
    "seeds = random.split(random.PRNGKey(42), 20)\n",
    "\n",
    "domain = Domain((32,35), (.5,.6))\n",
    "x = jnp.array([1., 2.])"
   ]
  },
  {
   "cell_type": "code",
   "execution_count": 3,
   "id": "9e045857-87e5-4573-b0bf-f2e94cd6ca8e",
   "metadata": {},
   "outputs": [],
   "source": [
    "from jwave.core import operator, Field"
   ]
  },
  {
   "cell_type": "code",
   "execution_count": 4,
   "id": "30aca2ff-3285-455c-9f15-5dbb28ba8435",
   "metadata": {},
   "outputs": [],
   "source": [
    "from jwave.discretization import Arbitrary\n",
    "from jax import numpy as jnp\n",
    "from jax.experimental import stax\n",
    "\n",
    "init_random_params, predict = stax.serial(\n",
    "    stax.Dense(32), stax.Relu,\n",
    "    stax.Dense(1))\n",
    "\n",
    "init_params = lambda seed, domain: init_random_params(seed, (len(domain.N),))[1]\n",
    "\n",
    "def get_fun(params, x):\n",
    "    return predict(params, x)\n",
    "\n",
    "arbitrary_discr = Arbitrary(domain, get_fun, init_params)\n",
    "\n",
    "u_arb_params = arbitrary_discr.random_field(seeds[0])\n",
    "u_arbitrary = Field(arbitrary_discr, params=u_arb_params, name='u')\n",
    "\n",
    "v_arb_params = arbitrary_discr.random_field(seeds[1])\n",
    "v_arbitrary = Field(arbitrary_discr, params=v_arb_params, name='v')"
   ]
  },
  {
   "cell_type": "code",
   "execution_count": 5,
   "id": "45ed24f9-833c-422f-8fa8-50c28ceeab0d",
   "metadata": {},
   "outputs": [],
   "source": [
    "from jwave.discretization import RealFourierSeries\n",
    "fourier_discr = RealFourierSeries(domain)\n",
    "\n",
    "u_fourier_params = fourier_discr.random_field(seeds[0])\n",
    "u_fourier = Field(fourier_discr, params=u_fourier_params, name='u')\n",
    "\n",
    "v_fourier_params = fourier_discr.random_field(seeds[1])\n",
    "v_fourier = Field(fourier_discr, params=v_fourier_params, name='v')"
   ]
  },
  {
   "cell_type": "markdown",
   "id": "2153e336-f7cc-48f8-ae05-1196d65fd0a3",
   "metadata": {},
   "source": [
    "# `__call__` (non-jittable)"
   ]
  },
  {
   "cell_type": "code",
   "execution_count": 6,
   "id": "45c9f6a7-f767-4554-9f9d-25bffcddc1f1",
   "metadata": {},
   "outputs": [
    {
     "data": {
      "text/plain": [
       "DeviceArray([-0.9176236], dtype=float32)"
      ]
     },
     "execution_count": 6,
     "metadata": {},
     "output_type": "execute_result"
    }
   ],
   "source": [
    "u_arbitrary(x)"
   ]
  },
  {
   "cell_type": "code",
   "execution_count": 7,
   "id": "3784aab4-272f-40ed-b04f-df2c10ab8f3d",
   "metadata": {},
   "outputs": [
    {
     "data": {
      "text/plain": [
       "DeviceArray([-0.28718653], dtype=float32)"
      ]
     },
     "execution_count": 7,
     "metadata": {},
     "output_type": "execute_result"
    }
   ],
   "source": [
    "u_fourier(x)"
   ]
  },
  {
   "cell_type": "markdown",
   "id": "425a7a63-0484-42cd-b7b4-6642628836fd",
   "metadata": {},
   "source": [
    "# `get_field` (jittable)"
   ]
  },
  {
   "cell_type": "code",
   "execution_count": 8,
   "id": "3cc37aa7-5d10-4d13-815e-e1d09f3f3fa3",
   "metadata": {},
   "outputs": [
    {
     "data": {
      "text/plain": [
       "DeviceArray([-0.9176236], dtype=float32)"
      ]
     },
     "execution_count": 8,
     "metadata": {},
     "output_type": "execute_result"
    }
   ],
   "source": [
    "u_arbitrary.get_field()(u_arb_params, x)"
   ]
  },
  {
   "cell_type": "code",
   "execution_count": 9,
   "id": "d63ce3d1-68b8-41e2-a500-c9ff73d8417b",
   "metadata": {},
   "outputs": [
    {
     "data": {
      "text/plain": [
       "DeviceArray([-0.28718653], dtype=float32)"
      ]
     },
     "execution_count": 9,
     "metadata": {},
     "output_type": "execute_result"
    }
   ],
   "source": [
    "u_fourier.get_field()(u_fourier_params, x)"
   ]
  },
  {
   "cell_type": "markdown",
   "id": "b7f3f4f2-e8b0-4f2d-afc0-5dad1e65534d",
   "metadata": {},
   "source": [
    "# `add`"
   ]
  },
  {
   "cell_type": "code",
   "execution_count": 10,
   "id": "9e8569c5-c496-457a-9ca5-5eb607f65c49",
   "metadata": {},
   "outputs": [
    {
     "data": {
      "text/plain": [
       "DeviceArray([-0.3396133], dtype=float32)"
      ]
     },
     "execution_count": 10,
     "metadata": {},
     "output_type": "execute_result"
    }
   ],
   "source": [
    "v_arbitrary.get_field()(v_arb_params, x)"
   ]
  },
  {
   "cell_type": "code",
   "execution_count": 11,
   "id": "5cb67f4b-ded4-4b8a-93ef-e2abf2ff4d16",
   "metadata": {},
   "outputs": [],
   "source": [
    "@operator()\n",
    "def new_op(u, v):\n",
    "    return u + v"
   ]
  },
  {
   "cell_type": "code",
   "execution_count": 12,
   "id": "7a4ba068-45b9-4eda-bc4a-9ef94e2473ce",
   "metadata": {},
   "outputs": [
    {
     "data": {
      "text/plain": [
       "DeviceArray([-1.2572368], dtype=float32)"
      ]
     },
     "execution_count": 12,
     "metadata": {},
     "output_type": "execute_result"
    }
   ],
   "source": [
    "out_field = new_op(u=u_arbitrary, v=v_arbitrary)\n",
    "global_params = out_field.get_global_params()\n",
    "out_field.get_field(0)(\n",
    "    global_params, \n",
    "    {\"u\": u_arb_params, \"v\": v_arb_params}, \n",
    "    x\n",
    ")"
   ]
  },
  {
   "cell_type": "code",
   "execution_count": 13,
   "id": "e6d8bfe7-5f96-41d7-90d0-1280df9f876d",
   "metadata": {},
   "outputs": [
    {
     "data": {
      "text/plain": [
       "{ lambda  ; a b c d e f g h i.\n",
       "  let j = dot_general[ dimension_numbers=(((0,), (0,)), ((), ()))\n",
       "                       precision=None\n",
       "                       preferred_element_type=None ] i a\n",
       "      k = add j b\n",
       "      l = custom_jvp_call_jaxpr[ fun_jaxpr={ lambda  ; a.\n",
       "                                             let b = max a 0.0\n",
       "                                             in (b,) }\n",
       "                                 jvp_jaxpr_thunk=<function _memoize.<locals>.memoized at 0x7f68145d8af0>\n",
       "                                 num_consts=0 ] k\n",
       "      m = dot_general[ dimension_numbers=(((0,), (0,)), ((), ()))\n",
       "                       precision=None\n",
       "                       preferred_element_type=None ] l c\n",
       "      n = add m d\n",
       "      o = dot_general[ dimension_numbers=(((0,), (0,)), ((), ()))\n",
       "                       precision=None\n",
       "                       preferred_element_type=None ] i e\n",
       "      p = add o f\n",
       "      q = custom_jvp_call_jaxpr[ fun_jaxpr={ lambda  ; a.\n",
       "                                             let b = max a 0.0\n",
       "                                             in (b,) }\n",
       "                                 jvp_jaxpr_thunk=<function _memoize.<locals>.memoized at 0x7f68145d8c10>\n",
       "                                 num_consts=0 ] p\n",
       "      r = dot_general[ dimension_numbers=(((0,), (0,)), ((), ()))\n",
       "                       precision=None\n",
       "                       preferred_element_type=None ] q g\n",
       "      s = add r h\n",
       "      t = add n s\n",
       "  in (t,) }"
      ]
     },
     "execution_count": 13,
     "metadata": {},
     "output_type": "execute_result"
    }
   ],
   "source": [
    "f = out_field.get_field(0)\n",
    "jax.make_jaxpr(f)(\n",
    "    global_params, \n",
    "    {\"u\": u_arb_params, \"v\": v_arb_params}, \n",
    "    x\n",
    ")"
   ]
  },
  {
   "cell_type": "code",
   "execution_count": 14,
   "id": "914f547e-f31b-4187-b129-5d2c9bb0fc22",
   "metadata": {},
   "outputs": [
    {
     "data": {
      "text/plain": [
       "DeviceArray([0.25046518], dtype=float32)"
      ]
     },
     "execution_count": 14,
     "metadata": {},
     "output_type": "execute_result"
    }
   ],
   "source": [
    "out_field = new_op(u=u_fourier, v=u_fourier)\n",
    "global_params = out_field.get_global_params()\n",
    "out_field.get_field(0)(\n",
    "    global_params, \n",
    "    {\"u\": u_fourier_params, \"v\": v_fourier_params}, \n",
    "    x\n",
    ")"
   ]
  },
  {
   "cell_type": "code",
   "execution_count": 15,
   "id": "a62df3a0-a10d-43d1-8d36-4c42abe088a7",
   "metadata": {},
   "outputs": [
    {
     "data": {
      "text/plain": [
       "{ lambda  ; a b.\n",
       "  let c = add a b\n",
       "  in (c,) }"
      ]
     },
     "execution_count": 15,
     "metadata": {},
     "output_type": "execute_result"
    }
   ],
   "source": [
    "f = out_field.get_field_on_grid(0)\n",
    "jax.make_jaxpr(f)(\n",
    "    global_params, \n",
    "    {\"u\": u_fourier_params, \"v\": v_fourier_params}\n",
    ")"
   ]
  },
  {
   "cell_type": "code",
   "execution_count": 16,
   "id": "1cacf74b-f1dd-4a9f-bbd2-1d88779f00c5",
   "metadata": {},
   "outputs": [
    {
     "data": {
      "text/plain": [
       "{ lambda a b c d e ; f g h.\n",
       "  let i = add f g\n",
       "      j = broadcast_in_dim[ broadcast_dimensions=(  )\n",
       "                            shape=(32,) ] 0.0\n",
       "      k = convert_element_type[ new_dtype=float32\n",
       "                                weak_type=False ] a\n",
       "      l = broadcast_in_dim[ broadcast_dimensions=(  )\n",
       "                            shape=(1,) ] 0\n",
       "      m = scatter[ dimension_numbers=ScatterDimensionNumbers(update_window_dims=(0,), inserted_window_dims=(), scatter_dims_to_operand_dims=(0,))\n",
       "                   indices_are_sorted=True\n",
       "                   unique_indices=True\n",
       "                   update_consts=(  )\n",
       "                   update_jaxpr={ lambda  ; a b.\n",
       "                                  let \n",
       "                                  in (b,) } ] j l k\n",
       "      n = convert_element_type[ new_dtype=float32\n",
       "                                weak_type=False ] b\n",
       "      o = broadcast_in_dim[ broadcast_dimensions=(  )\n",
       "                            shape=(1,) ] 16\n",
       "      p = scatter[ dimension_numbers=ScatterDimensionNumbers(update_window_dims=(0,), inserted_window_dims=(), scatter_dims_to_operand_dims=(0,))\n",
       "                   indices_are_sorted=True\n",
       "                   unique_indices=True\n",
       "                   update_consts=(  )\n",
       "                   update_jaxpr={ lambda  ; a b.\n",
       "                                  let \n",
       "                                  in (b,) } ] m o n\n",
       "      q = div p 16.0\n",
       "      r = mul q 2.0\n",
       "      s = mul r 3.1415927410125732\n",
       "      t = broadcast_in_dim[ broadcast_dimensions=(  )\n",
       "                            shape=(35,) ] 0.0\n",
       "      u = convert_element_type[ new_dtype=float32\n",
       "                                weak_type=False ] c\n",
       "      v = broadcast_in_dim[ broadcast_dimensions=(  )\n",
       "                            shape=(1,) ] 0\n",
       "      w = scatter[ dimension_numbers=ScatterDimensionNumbers(update_window_dims=(0,), inserted_window_dims=(), scatter_dims_to_operand_dims=(0,))\n",
       "                   indices_are_sorted=True\n",
       "                   unique_indices=True\n",
       "                   update_consts=(  )\n",
       "                   update_jaxpr={ lambda  ; a b.\n",
       "                                  let \n",
       "                                  in (b,) } ] t v u\n",
       "      x = convert_element_type[ new_dtype=float32\n",
       "                                weak_type=False ] d\n",
       "      y = broadcast_in_dim[ broadcast_dimensions=(  )\n",
       "                            shape=(1,) ] 18\n",
       "      z = scatter[ dimension_numbers=ScatterDimensionNumbers(update_window_dims=(0,), inserted_window_dims=(), scatter_dims_to_operand_dims=(0,))\n",
       "                   indices_are_sorted=True\n",
       "                   unique_indices=True\n",
       "                   update_consts=(  )\n",
       "                   update_jaxpr={ lambda  ; a b.\n",
       "                                  let \n",
       "                                  in (b,) } ] w y x\n",
       "      ba = div z 21.0\n",
       "      bb = mul ba 2.0\n",
       "      _ = mul bb 3.1415927410125732\n",
       "      bc = convert_element_type[ new_dtype=float32\n",
       "                                 weak_type=True ] e\n",
       "      bd = div bc 21.0\n",
       "      be = mul bd 2.0\n",
       "      bf = mul be 3.1415927410125732\n",
       "      bg = broadcast_in_dim[ broadcast_dimensions=(0,)\n",
       "                             shape=(32, 18) ] s\n",
       "      bh = broadcast_in_dim[ broadcast_dimensions=(1,)\n",
       "                             shape=(32, 18) ] bf\n",
       "      bi = broadcast_in_dim[ broadcast_dimensions=(0, 1)\n",
       "                             shape=(32, 18, 1) ] bg\n",
       "      bj = broadcast_in_dim[ broadcast_dimensions=(0, 1)\n",
       "                             shape=(32, 18, 1) ] bh\n",
       "      bk = convert_element_type[ new_dtype=float32\n",
       "                                 weak_type=False ] bj\n",
       "      bl = concatenate[ dimension=2 ] bi bk\n",
       "      bm = fft[ fft_lengths=(32, 35)\n",
       "                fft_type=FftType.RFFT ] i\n",
       "      bn = broadcast_in_dim[ broadcast_dimensions=(2,)\n",
       "                             shape=(1, 1, 2) ] h\n",
       "      bo = mul bl bn\n",
       "      bp = reduce_sum[ axes=(2,) ] bo\n",
       "      bq = convert_element_type[ new_dtype=complex64\n",
       "                                 weak_type=False ] bp\n",
       "      br = mul bq 1j\n",
       "      bs = exp br\n",
       "      bt = mul bm bs\n",
       "      bu = reduce_sum[ axes=(0, 1) ] bt\n",
       "      _ = broadcast_in_dim[ broadcast_dimensions=(  )\n",
       "                            shape=(1,) ] 0\n",
       "      bv = broadcast_in_dim[ broadcast_dimensions=(  )\n",
       "                             shape=(32, 0, 2) ] 0.0\n",
       "      _ = broadcast_in_dim[ broadcast_dimensions=(  )\n",
       "                            shape=(1,) ] 0\n",
       "      bw = broadcast_in_dim[ broadcast_dimensions=(  )\n",
       "                             shape=(32, 0) ] 0j\n",
       "      bx = conj[ input_dtype=complex64 ] bw\n",
       "      by = broadcast_in_dim[ broadcast_dimensions=(2,)\n",
       "                             shape=(1, 1, 2) ] h\n",
       "      bz = mul bv by\n",
       "      ca = reduce_sum[ axes=(2,) ] bz\n",
       "      cb = convert_element_type[ new_dtype=complex64\n",
       "                                 weak_type=False ] ca\n",
       "      cc = mul cb (-0-1j)\n",
       "      cd = exp cc\n",
       "      ce = mul bx cd\n",
       "      cf = reduce_sum[ axes=(0, 1) ] ce\n",
       "      cg = add bu cf\n",
       "      ch = real cg\n",
       "      ci = reshape[ dimensions=None\n",
       "                    new_sizes=(1,) ] ch\n",
       "      cj = div ci 1120.0\n",
       "  in (cj,) }"
      ]
     },
     "execution_count": 16,
     "metadata": {},
     "output_type": "execute_result"
    }
   ],
   "source": [
    "f = out_field.get_field(0)\n",
    "jax.make_jaxpr(f)(\n",
    "    global_params, \n",
    "    {\"u\": u_fourier_params, \"v\": v_fourier_params},\n",
    "    x\n",
    ")"
   ]
  },
  {
   "cell_type": "markdown",
   "id": "5b29647f-8cfc-4208-bd6e-a29af59b9c5b",
   "metadata": {},
   "source": [
    "# `add_scalar`"
   ]
  },
  {
   "cell_type": "code",
   "execution_count": 18,
   "id": "14270f2d-2f57-4a07-a2f5-a762d32104b2",
   "metadata": {},
   "outputs": [
    {
     "data": {
      "text/plain": [
       "DeviceArray([1.882369], dtype=float32)"
      ]
     },
     "execution_count": 18,
     "metadata": {},
     "output_type": "execute_result"
    }
   ],
   "source": [
    "f = out_field.get_field(0)\n",
    "global_params = out_field.get_global_params()\n",
    "\n",
    "f(global_params, {\"u\": u_arb_params}, x)"
   ]
  },
  {
   "cell_type": "code",
   "execution_count": 19,
   "id": "7715c16c-5fb8-4a06-a68d-8d279e831ead",
   "metadata": {},
   "outputs": [
    {
     "name": "stdout",
     "output_type": "stream",
     "text": [
      "{ lambda  ; a b c d e f g h.\n",
      "  let i = dot_general[ dimension_numbers=(((0,), (0,)), ((), ()))\n",
      "                       precision=None\n",
      "                       preferred_element_type=None ] h b\n",
      "      j = add i c\n",
      "      k = custom_jvp_call_jaxpr[ fun_jaxpr={ lambda  ; a.\n",
      "                                             let b = max a 0.0\n",
      "                                             in (b,) }\n",
      "                                 jvp_jaxpr_thunk=<function _memoize.<locals>.memoized at 0x7f5528497170>\n",
      "                                 num_consts=0 ] j\n",
      "      l = dot_general[ dimension_numbers=(((0,), (0,)), ((), ()))\n",
      "                       precision=None\n",
      "                       preferred_element_type=None ] k d\n",
      "      m = add l e\n",
      "      n = custom_jvp_call_jaxpr[ fun_jaxpr={ lambda  ; a.\n",
      "                                             let b = max a 0.0\n",
      "                                             in (b,) }\n",
      "                                 jvp_jaxpr_thunk=<function _memoize.<locals>.memoized at 0x7f5528497290>\n",
      "                                 num_consts=0 ] m\n",
      "      o = dot_general[ dimension_numbers=(((0,), (0,)), ((), ()))\n",
      "                       precision=None\n",
      "                       preferred_element_type=None ] n f\n",
      "      p = add o g\n",
      "      q = convert_element_type[ new_dtype=float32\n",
      "                                weak_type=False ] a\n",
      "      r = add p q\n",
      "  in (r,) }\n"
     ]
    }
   ],
   "source": [
    "from jax import make_jaxpr\n",
    "\n",
    "print(make_jaxpr(f)(global_params, {\"u\": u_arb_params}, x))"
   ]
  },
  {
   "cell_type": "code",
   "execution_count": 20,
   "id": "ac63cce0-9f37-4c10-aebe-ad4cdb5b0ea4",
   "metadata": {},
   "outputs": [
    {
     "data": {
      "text/plain": [
       "DeviceArray([1.712813], dtype=float32)"
      ]
     },
     "execution_count": 20,
     "metadata": {},
     "output_type": "execute_result"
    }
   ],
   "source": [
    "out_field = add_two(u=u_fourier)\n",
    "\n",
    "global_params = out_field.get_global_params()\n",
    "out_field.get_field(0)(global_params, {\"u\": u_fourier_params}, x)"
   ]
  },
  {
   "cell_type": "code",
   "execution_count": 22,
   "id": "1b007186-b89e-4c7a-acca-f8adb18209d4",
   "metadata": {},
   "outputs": [
    {
     "data": {
      "text/plain": [
       "DeviceArray([1.712813], dtype=float32)"
      ]
     },
     "execution_count": 22,
     "metadata": {},
     "output_type": "execute_result"
    }
   ],
   "source": [
    "f = out_field.get_field(0)\n",
    "global_params = out_field.get_global_params()\n",
    "\n",
    "f(global_params, {\"u\": u_fourier_params}, x)"
   ]
  },
  {
   "cell_type": "code",
   "execution_count": 24,
   "id": "ec23ed07-4e3a-4776-9527-043b244ed44b",
   "metadata": {},
   "outputs": [
    {
     "name": "stdout",
     "output_type": "stream",
     "text": [
      "{ lambda a b c d e ; f g h.\n",
      "  let i = convert_element_type[ new_dtype=float32\n",
      "                                weak_type=False ] f\n",
      "      j = add g i\n",
      "      k = broadcast_in_dim[ broadcast_dimensions=(  )\n",
      "                            shape=(32,) ] 0.0\n",
      "      l = convert_element_type[ new_dtype=float32\n",
      "                                weak_type=False ] a\n",
      "      m = broadcast_in_dim[ broadcast_dimensions=(  )\n",
      "                            shape=(1,) ] 0\n",
      "      n = scatter[ dimension_numbers=ScatterDimensionNumbers(update_window_dims=(0,), inserted_window_dims=(), scatter_dims_to_operand_dims=(0,))\n",
      "                   indices_are_sorted=False\n",
      "                   unique_indices=False\n",
      "                   update_consts=(  )\n",
      "                   update_jaxpr={ lambda  ; a b.\n",
      "                                  let \n",
      "                                  in (b,) } ] k m l\n",
      "      o = convert_element_type[ new_dtype=float32\n",
      "                                weak_type=False ] b\n",
      "      p = broadcast_in_dim[ broadcast_dimensions=(  )\n",
      "                            shape=(1,) ] 16\n",
      "      q = scatter[ dimension_numbers=ScatterDimensionNumbers(update_window_dims=(0,), inserted_window_dims=(), scatter_dims_to_operand_dims=(0,))\n",
      "                   indices_are_sorted=False\n",
      "                   unique_indices=False\n",
      "                   update_consts=(  )\n",
      "                   update_jaxpr={ lambda  ; a b.\n",
      "                                  let \n",
      "                                  in (b,) } ] n p o\n",
      "      r = div q 16.0\n",
      "      s = mul r 2.0\n",
      "      t = mul s 3.1415927410125732\n",
      "      u = broadcast_in_dim[ broadcast_dimensions=(  )\n",
      "                            shape=(35,) ] 0.0\n",
      "      v = convert_element_type[ new_dtype=float32\n",
      "                                weak_type=False ] c\n",
      "      w = broadcast_in_dim[ broadcast_dimensions=(  )\n",
      "                            shape=(1,) ] 0\n",
      "      x = scatter[ dimension_numbers=ScatterDimensionNumbers(update_window_dims=(0,), inserted_window_dims=(), scatter_dims_to_operand_dims=(0,))\n",
      "                   indices_are_sorted=False\n",
      "                   unique_indices=False\n",
      "                   update_consts=(  )\n",
      "                   update_jaxpr={ lambda  ; a b.\n",
      "                                  let \n",
      "                                  in (b,) } ] u w v\n",
      "      y = convert_element_type[ new_dtype=float32\n",
      "                                weak_type=False ] d\n",
      "      z = broadcast_in_dim[ broadcast_dimensions=(  )\n",
      "                            shape=(1,) ] 18\n",
      "      ba = scatter[ dimension_numbers=ScatterDimensionNumbers(update_window_dims=(0,), inserted_window_dims=(), scatter_dims_to_operand_dims=(0,))\n",
      "                    indices_are_sorted=False\n",
      "                    unique_indices=False\n",
      "                    update_consts=(  )\n",
      "                    update_jaxpr={ lambda  ; a b.\n",
      "                                   let \n",
      "                                   in (b,) } ] x z y\n",
      "      bb = div ba 21.0\n",
      "      bc = mul bb 2.0\n",
      "      _ = mul bc 3.1415927410125732\n",
      "      bd = convert_element_type[ new_dtype=float32\n",
      "                                 weak_type=True ] e\n",
      "      be = div bd 21.0\n",
      "      bf = mul be 2.0\n",
      "      bg = mul bf 3.1415927410125732\n",
      "      bh = broadcast_in_dim[ broadcast_dimensions=(0,)\n",
      "                             shape=(32, 18) ] t\n",
      "      bi = broadcast_in_dim[ broadcast_dimensions=(1,)\n",
      "                             shape=(32, 18) ] bg\n",
      "      bj = broadcast_in_dim[ broadcast_dimensions=(0, 1)\n",
      "                             shape=(32, 18, 1) ] bh\n",
      "      bk = broadcast_in_dim[ broadcast_dimensions=(0, 1)\n",
      "                             shape=(32, 18, 1) ] bi\n",
      "      bl = convert_element_type[ new_dtype=float32\n",
      "                                 weak_type=False ] bk\n",
      "      bm = concatenate[ dimension=2 ] bj bl\n",
      "      bn = fft[ fft_lengths=(32, 35)\n",
      "                fft_type=FftType.RFFT ] j\n",
      "      bo = broadcast_in_dim[ broadcast_dimensions=(2,)\n",
      "                             shape=(1, 1, 2) ] h\n",
      "      bp = mul bm bo\n",
      "      bq = reduce_sum[ axes=(2,) ] bp\n",
      "      br = convert_element_type[ new_dtype=complex64\n",
      "                                 weak_type=False ] bq\n",
      "      bs = mul br 1j\n",
      "      bt = exp bs\n",
      "      bu = mul bn bt\n",
      "      bv = reduce_sum[ axes=(0, 1) ] bu\n",
      "      _ = broadcast_in_dim[ broadcast_dimensions=(  )\n",
      "                            shape=(1,) ] 0\n",
      "      bw = broadcast_in_dim[ broadcast_dimensions=(  )\n",
      "                             shape=(32, 0, 2) ] 0.0\n",
      "      _ = broadcast_in_dim[ broadcast_dimensions=(  )\n",
      "                            shape=(1,) ] 0\n",
      "      bx = broadcast_in_dim[ broadcast_dimensions=(  )\n",
      "                             shape=(32, 0) ] 0j\n",
      "      by = conj[ input_dtype=complex64 ] bx\n",
      "      bz = broadcast_in_dim[ broadcast_dimensions=(2,)\n",
      "                             shape=(1, 1, 2) ] h\n",
      "      ca = mul bw bz\n",
      "      cb = reduce_sum[ axes=(2,) ] ca\n",
      "      cc = convert_element_type[ new_dtype=complex64\n",
      "                                 weak_type=False ] cb\n",
      "      cd = mul cc (-0-1j)\n",
      "      ce = exp cd\n",
      "      cf = mul by ce\n",
      "      cg = reduce_sum[ axes=(0, 1) ] cf\n",
      "      ch = add bv cg\n",
      "      ci = real ch\n",
      "      cj = reshape[ dimensions=None\n",
      "                    new_sizes=(1,) ] ci\n",
      "      ck = div cj 1120.0\n",
      "  in (ck,) }\n"
     ]
    }
   ],
   "source": [
    "print(make_jaxpr(f)(global_params, {\"u\": u_fourier_params}, x))"
   ]
  },
  {
   "cell_type": "code",
   "execution_count": null,
   "id": "5601e8c6-fabe-4da4-a4b4-e16e2b495c94",
   "metadata": {},
   "outputs": [],
   "source": []
  },
  {
   "cell_type": "code",
   "execution_count": 34,
   "id": "6476a6eb-e637-4d8d-922b-72958b054624",
   "metadata": {},
   "outputs": [],
   "source": [
    "from jwave.operators import elementwise\n",
    "from jax import numpy as jnp\n",
    "\n",
    "Tanh = elementwise(jnp.tanh)\n",
    "\n",
    "@operator()\n",
    "def custom(u):\n",
    "    return Tanh(u) + 2"
   ]
  },
  {
   "cell_type": "code",
   "execution_count": 35,
   "id": "2a6c7b41-818a-4fc8-98e8-346bf8038779",
   "metadata": {},
   "outputs": [
    {
     "data": {
      "text/plain": [
       "DeviceArray([1.2752287], dtype=float32)"
      ]
     },
     "execution_count": 35,
     "metadata": {},
     "output_type": "execute_result"
    }
   ],
   "source": [
    "out_field = custom(u=u_arbitrary)\n",
    "global_params = out_field.get_global_params()\n",
    "out_field.get_field(0)(global_params, {\"u\": u_arb_params}, x)"
   ]
  },
  {
   "cell_type": "code",
   "execution_count": 36,
   "id": "bf974a71-4a97-45fa-90cc-13bdf532377b",
   "metadata": {},
   "outputs": [
    {
     "name": "stdout",
     "output_type": "stream",
     "text": [
      "DiscretizedOperator :: [Arbitrary], ['_mO'] \n",
      "\n",
      " Input fields: ('u',)\n",
      "\n",
      "Globals: {'shared': {}, 'independent': {'AddScalar_l5': {'scalar': 2}}}\n",
      "\n",
      "Operations:\n",
      "- _k5: Arbitrary <-- Elementwise ('u',) | (none) Elementwise\n",
      "- _mO: Arbitrary <-- AddScalar ('_k5',) | (independent) AddScalar_l5\n",
      "\n"
     ]
    }
   ],
   "source": [
    "print(out_field)"
   ]
  },
  {
   "cell_type": "code",
   "execution_count": 30,
   "id": "abe4129f-71d9-4549-bc64-7d8269fc8c8c",
   "metadata": {},
   "outputs": [
    {
     "name": "stdout",
     "output_type": "stream",
     "text": [
      "{ lambda  ; a b c d e f.\n",
      "  let g = dot_general[ dimension_numbers=(((0,), (0,)), ((), ()))\n",
      "                       precision=None\n",
      "                       preferred_element_type=None ] f b\n",
      "      h = add g c\n",
      "      i = custom_jvp_call_jaxpr[ fun_jaxpr={ lambda  ; a.\n",
      "                                             let b = max a 0.0\n",
      "                                             in (b,) }\n",
      "                                 jvp_jaxpr_thunk=<function _memoize.<locals>.memoized at 0x7f681446b040>\n",
      "                                 num_consts=0 ] h\n",
      "      j = dot_general[ dimension_numbers=(((0,), (0,)), ((), ()))\n",
      "                       precision=None\n",
      "                       preferred_element_type=None ] i d\n",
      "      k = add j e\n",
      "      l = tanh k\n",
      "      m = convert_element_type[ new_dtype=float32\n",
      "                                weak_type=False ] a\n",
      "      n = add l m\n",
      "  in (n,) }\n"
     ]
    }
   ],
   "source": [
    "from jax import make_jaxpr\n",
    "\n",
    "f = out_field.get_field(0)\n",
    "print(make_jaxpr(f)(global_params, {\"u\": u_arb_params}, x))"
   ]
  },
  {
   "cell_type": "code",
   "execution_count": 31,
   "id": "fec96db6-c922-46b4-b7b3-c68650de53db",
   "metadata": {},
   "outputs": [
    {
     "data": {
      "text/plain": [
       "DeviceArray([1.718648], dtype=float32)"
      ]
     },
     "execution_count": 31,
     "metadata": {},
     "output_type": "execute_result"
    }
   ],
   "source": [
    "out_field = custom(u=u_fourier)\n",
    "global_params = out_field.get_global_params()\n",
    "out_field.get_field(0)(global_params, {\"u\": u_fourier_params}, x)"
   ]
  },
  {
   "cell_type": "code",
   "execution_count": 32,
   "id": "5001a2f0-66a2-4ac3-ac55-df182d98110b",
   "metadata": {},
   "outputs": [
    {
     "name": "stdout",
     "output_type": "stream",
     "text": [
      "{ lambda a b c d e ; f g h.\n",
      "  let i = tanh g\n",
      "      j = convert_element_type[ new_dtype=float32\n",
      "                                weak_type=False ] f\n",
      "      k = add i j\n",
      "      l = broadcast_in_dim[ broadcast_dimensions=(  )\n",
      "                            shape=(32,) ] 0.0\n",
      "      m = convert_element_type[ new_dtype=float32\n",
      "                                weak_type=False ] a\n",
      "      n = broadcast_in_dim[ broadcast_dimensions=(  )\n",
      "                            shape=(1,) ] 0\n",
      "      o = scatter[ dimension_numbers=ScatterDimensionNumbers(update_window_dims=(0,), inserted_window_dims=(), scatter_dims_to_operand_dims=(0,))\n",
      "                   indices_are_sorted=True\n",
      "                   unique_indices=True\n",
      "                   update_consts=(  )\n",
      "                   update_jaxpr={ lambda  ; a b.\n",
      "                                  let \n",
      "                                  in (b,) } ] l n m\n",
      "      p = convert_element_type[ new_dtype=float32\n",
      "                                weak_type=False ] b\n",
      "      q = broadcast_in_dim[ broadcast_dimensions=(  )\n",
      "                            shape=(1,) ] 16\n",
      "      r = scatter[ dimension_numbers=ScatterDimensionNumbers(update_window_dims=(0,), inserted_window_dims=(), scatter_dims_to_operand_dims=(0,))\n",
      "                   indices_are_sorted=True\n",
      "                   unique_indices=True\n",
      "                   update_consts=(  )\n",
      "                   update_jaxpr={ lambda  ; a b.\n",
      "                                  let \n",
      "                                  in (b,) } ] o q p\n",
      "      s = div r 16.0\n",
      "      t = mul s 2.0\n",
      "      u = mul t 3.1415927410125732\n",
      "      v = broadcast_in_dim[ broadcast_dimensions=(  )\n",
      "                            shape=(35,) ] 0.0\n",
      "      w = convert_element_type[ new_dtype=float32\n",
      "                                weak_type=False ] c\n",
      "      x = broadcast_in_dim[ broadcast_dimensions=(  )\n",
      "                            shape=(1,) ] 0\n",
      "      y = scatter[ dimension_numbers=ScatterDimensionNumbers(update_window_dims=(0,), inserted_window_dims=(), scatter_dims_to_operand_dims=(0,))\n",
      "                   indices_are_sorted=True\n",
      "                   unique_indices=True\n",
      "                   update_consts=(  )\n",
      "                   update_jaxpr={ lambda  ; a b.\n",
      "                                  let \n",
      "                                  in (b,) } ] v x w\n",
      "      z = convert_element_type[ new_dtype=float32\n",
      "                                weak_type=False ] d\n",
      "      ba = broadcast_in_dim[ broadcast_dimensions=(  )\n",
      "                             shape=(1,) ] 18\n",
      "      bb = scatter[ dimension_numbers=ScatterDimensionNumbers(update_window_dims=(0,), inserted_window_dims=(), scatter_dims_to_operand_dims=(0,))\n",
      "                    indices_are_sorted=True\n",
      "                    unique_indices=True\n",
      "                    update_consts=(  )\n",
      "                    update_jaxpr={ lambda  ; a b.\n",
      "                                   let \n",
      "                                   in (b,) } ] y ba z\n",
      "      bc = div bb 21.0\n",
      "      bd = mul bc 2.0\n",
      "      _ = mul bd 3.1415927410125732\n",
      "      be = convert_element_type[ new_dtype=float32\n",
      "                                 weak_type=True ] e\n",
      "      bf = div be 21.0\n",
      "      bg = mul bf 2.0\n",
      "      bh = mul bg 3.1415927410125732\n",
      "      bi = broadcast_in_dim[ broadcast_dimensions=(0,)\n",
      "                             shape=(32, 18) ] u\n",
      "      bj = broadcast_in_dim[ broadcast_dimensions=(1,)\n",
      "                             shape=(32, 18) ] bh\n",
      "      bk = broadcast_in_dim[ broadcast_dimensions=(0, 1)\n",
      "                             shape=(32, 18, 1) ] bi\n",
      "      bl = broadcast_in_dim[ broadcast_dimensions=(0, 1)\n",
      "                             shape=(32, 18, 1) ] bj\n",
      "      bm = convert_element_type[ new_dtype=float32\n",
      "                                 weak_type=False ] bl\n",
      "      bn = concatenate[ dimension=2 ] bk bm\n",
      "      bo = fft[ fft_lengths=(32, 35)\n",
      "                fft_type=FftType.RFFT ] k\n",
      "      bp = broadcast_in_dim[ broadcast_dimensions=(2,)\n",
      "                             shape=(1, 1, 2) ] h\n",
      "      bq = mul bn bp\n",
      "      br = reduce_sum[ axes=(2,) ] bq\n",
      "      bs = convert_element_type[ new_dtype=complex64\n",
      "                                 weak_type=False ] br\n",
      "      bt = mul bs 1j\n",
      "      bu = exp bt\n",
      "      bv = mul bo bu\n",
      "      bw = reduce_sum[ axes=(0, 1) ] bv\n",
      "      _ = broadcast_in_dim[ broadcast_dimensions=(  )\n",
      "                            shape=(1,) ] 0\n",
      "      bx = broadcast_in_dim[ broadcast_dimensions=(  )\n",
      "                             shape=(32, 0, 2) ] 0.0\n",
      "      _ = broadcast_in_dim[ broadcast_dimensions=(  )\n",
      "                            shape=(1,) ] 0\n",
      "      by = broadcast_in_dim[ broadcast_dimensions=(  )\n",
      "                             shape=(32, 0) ] 0j\n",
      "      bz = conj[ input_dtype=complex64 ] by\n",
      "      ca = broadcast_in_dim[ broadcast_dimensions=(2,)\n",
      "                             shape=(1, 1, 2) ] h\n",
      "      cb = mul bx ca\n",
      "      cc = reduce_sum[ axes=(2,) ] cb\n",
      "      cd = convert_element_type[ new_dtype=complex64\n",
      "                                 weak_type=False ] cc\n",
      "      ce = mul cd (-0-1j)\n",
      "      cf = exp ce\n",
      "      cg = mul bz cf\n",
      "      ch = reduce_sum[ axes=(0, 1) ] cg\n",
      "      ci = add bw ch\n",
      "      cj = real ci\n",
      "      ck = reshape[ dimensions=None\n",
      "                    new_sizes=(1,) ] cj\n",
      "      cl = div ck 1120.0\n",
      "  in (cl,) }\n"
     ]
    }
   ],
   "source": [
    "from jax import make_jaxpr\n",
    "\n",
    "f = out_field.get_field(0)\n",
    "print(make_jaxpr(f)(global_params, {\"u\": u_fourier_params}, x))"
   ]
  },
  {
   "cell_type": "code",
   "execution_count": 33,
   "id": "02426d94-2e75-4afc-8440-04ec1a587a5d",
   "metadata": {},
   "outputs": [
    {
     "name": "stdout",
     "output_type": "stream",
     "text": [
      "{ lambda  ; a b.\n",
      "  let c = tanh b\n",
      "      d = convert_element_type[ new_dtype=float32\n",
      "                                weak_type=False ] a\n",
      "      e = add c d\n",
      "  in (e,) }\n"
     ]
    }
   ],
   "source": [
    "from jax import make_jaxpr\n",
    "\n",
    "f = out_field.get_field_on_grid(0)\n",
    "print(make_jaxpr(f)(global_params, {\"u\": u_fourier_params}))"
   ]
  },
  {
   "cell_type": "code",
   "execution_count": null,
   "id": "0b028f0d-436b-40bc-a3f2-f8d82e4874b6",
   "metadata": {},
   "outputs": [],
   "source": []
  }
 ],
 "metadata": {
  "kernelspec": {
   "display_name": "Python 3 (ipykernel)",
   "language": "python",
   "name": "python3"
  },
  "language_info": {
   "codemirror_mode": {
    "name": "ipython",
    "version": 3
   },
   "file_extension": ".py",
   "mimetype": "text/x-python",
   "name": "python",
   "nbconvert_exporter": "python",
   "pygments_lexer": "ipython3",
   "version": "3.8.10"
  }
 },
 "nbformat": 4,
 "nbformat_minor": 5
}
