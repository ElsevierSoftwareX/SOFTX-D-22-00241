{
 "cells": [
  {
   "cell_type": "code",
   "execution_count": 1,
   "id": "b18c7e3c-20f8-4771-afa6-7a8bd0d9a1b8",
   "metadata": {},
   "outputs": [],
   "source": [
    "%load_ext autoreload\n",
    "%autoreload 2"
   ]
  },
  {
   "cell_type": "code",
   "execution_count": 2,
   "id": "f4ffde96-74c3-49dd-b0fc-abc2ee6168a8",
   "metadata": {},
   "outputs": [],
   "source": [
    "from jax import random\n",
    "from jwave.geometry import Domain\n",
    "import jax\n",
    "from jax import numpy as jnp\n",
    "\n",
    "seed = random.PRNGKey(42)\n",
    "\n",
    "domain = Domain((32,35), (.5,.6))\n",
    "x = jnp.array([1., 2.])"
   ]
  },
  {
   "cell_type": "code",
   "execution_count": 3,
   "id": "9e045857-87e5-4573-b0bf-f2e94cd6ca8e",
   "metadata": {},
   "outputs": [],
   "source": [
    "from jwave.core import operator, Field"
   ]
  },
  {
   "cell_type": "code",
   "execution_count": 4,
   "id": "30aca2ff-3285-455c-9f15-5dbb28ba8435",
   "metadata": {},
   "outputs": [],
   "source": [
    "from jwave.discretization import Arbitrary\n",
    "from jax import numpy as jnp\n",
    "from jax.experimental import stax\n",
    "\n",
    "init_random_params, predict = stax.serial(\n",
    "    stax.Dense(1024), stax.Relu,\n",
    "    stax.Dense(1024), stax.Relu,\n",
    "    stax.Dense(1))\n",
    "\n",
    "init_params = lambda seed, domain: init_random_params(seed, (len(domain.N),))[1]\n",
    "\n",
    "def get_fun(params, x):\n",
    "    return predict(params, x)\n",
    "\n",
    "arbitrary_discr = Arbitrary(domain, get_fun, init_params)\n",
    "arbitrary_field = arbitrary_discr.random_field(seed)\n",
    "u_arbitrary = Field(arbitrary_discr, params=arbitrary_field, name='u')"
   ]
  },
  {
   "cell_type": "code",
   "execution_count": 5,
   "id": "45ed24f9-833c-422f-8fa8-50c28ceeab0d",
   "metadata": {},
   "outputs": [],
   "source": [
    "from jwave.discretization import RealFourierSeries\n",
    "fourier_discr = RealFourierSeries(domain)\n",
    "fourier_field = fourier_discr.random_field(seed)\n",
    "u_fourier = Field(fourier_discr, params=fourier_field, name='u')"
   ]
  },
  {
   "cell_type": "markdown",
   "id": "2153e336-f7cc-48f8-ae05-1196d65fd0a3",
   "metadata": {},
   "source": [
    "# `__call__` (non-jittable)"
   ]
  },
  {
   "cell_type": "code",
   "execution_count": 6,
   "id": "45c9f6a7-f767-4554-9f9d-25bffcddc1f1",
   "metadata": {},
   "outputs": [
    {
     "data": {
      "text/plain": [
       "DeviceArray([0.04352659], dtype=float32)"
      ]
     },
     "execution_count": 6,
     "metadata": {},
     "output_type": "execute_result"
    }
   ],
   "source": [
    "u_arbitrary(x)"
   ]
  },
  {
   "cell_type": "code",
   "execution_count": 7,
   "id": "3784aab4-272f-40ed-b04f-df2c10ab8f3d",
   "metadata": {},
   "outputs": [
    {
     "data": {
      "text/plain": [
       "DeviceArray([-0.89064735], dtype=float32)"
      ]
     },
     "execution_count": 7,
     "metadata": {},
     "output_type": "execute_result"
    }
   ],
   "source": [
    "u_fourier(x)"
   ]
  },
  {
   "cell_type": "markdown",
   "id": "425a7a63-0484-42cd-b7b4-6642628836fd",
   "metadata": {},
   "source": [
    "# `get_field` (jittable)"
   ]
  },
  {
   "cell_type": "code",
   "execution_count": 8,
   "id": "3cc37aa7-5d10-4d13-815e-e1d09f3f3fa3",
   "metadata": {},
   "outputs": [
    {
     "data": {
      "text/plain": [
       "DeviceArray([0.04352659], dtype=float32)"
      ]
     },
     "execution_count": 8,
     "metadata": {},
     "output_type": "execute_result"
    }
   ],
   "source": [
    "u_arbitrary.get_field()(arbitrary_field, x)"
   ]
  },
  {
   "cell_type": "code",
   "execution_count": 9,
   "id": "d63ce3d1-68b8-41e2-a500-c9ff73d8417b",
   "metadata": {},
   "outputs": [
    {
     "data": {
      "text/plain": [
       "DeviceArray([-0.89064735], dtype=float32)"
      ]
     },
     "execution_count": 9,
     "metadata": {},
     "output_type": "execute_result"
    }
   ],
   "source": [
    "u_fourier.get_field()(fourier_field, x)"
   ]
  },
  {
   "cell_type": "markdown",
   "id": "5b29647f-8cfc-4208-bd6e-a29af59b9c5b",
   "metadata": {},
   "source": [
    "# `add_scalar`"
   ]
  },
  {
   "cell_type": "code",
   "execution_count": 13,
   "id": "34b345b6-28f2-43a2-b273-2062f07338d2",
   "metadata": {},
   "outputs": [],
   "source": [
    "@operator()\n",
    "def new_op(u):\n",
    "    return u + 2."
   ]
  },
  {
   "cell_type": "code",
   "execution_count": 14,
   "id": "b6bb8903-bc7e-467f-bab0-c6110e65f995",
   "metadata": {},
   "outputs": [
    {
     "data": {
      "text/plain": [
       "DeviceArray([2.0435266], dtype=float32)"
      ]
     },
     "execution_count": 14,
     "metadata": {},
     "output_type": "execute_result"
    }
   ],
   "source": [
    "out_field = new_op(u=u_arbitrary)\n",
    "global_params = out_field.get_global_params()\n",
    "out_field.get_field(0)(global_params, {\"u\": arbitrary_field}, x)"
   ]
  },
  {
   "cell_type": "code",
   "execution_count": 16,
   "id": "ac63cce0-9f37-4c10-aebe-ad4cdb5b0ea4",
   "metadata": {},
   "outputs": [
    {
     "data": {
      "text/plain": [
       "DeviceArray([1.1093526], dtype=float32)"
      ]
     },
     "execution_count": 16,
     "metadata": {},
     "output_type": "execute_result"
    }
   ],
   "source": [
    "out_field = new_op(u=u_fourier)\n",
    "global_params = out_field.get_global_params()\n",
    "out_field.get_field(0)(global_params, {\"u\": fourier_field}, x)"
   ]
  },
  {
   "cell_type": "code",
   "execution_count": null,
   "id": "1b007186-b89e-4c7a-acca-f8adb18209d4",
   "metadata": {},
   "outputs": [],
   "source": []
  },
  {
   "cell_type": "code",
   "execution_count": null,
   "id": "ec23ed07-4e3a-4776-9527-043b244ed44b",
   "metadata": {},
   "outputs": [],
   "source": []
  },
  {
   "cell_type": "code",
   "execution_count": null,
   "id": "5601e8c6-fabe-4da4-a4b4-e16e2b495c94",
   "metadata": {},
   "outputs": [],
   "source": []
  },
  {
   "cell_type": "code",
   "execution_count": null,
   "id": "6476a6eb-e637-4d8d-922b-72958b054624",
   "metadata": {},
   "outputs": [],
   "source": []
  },
  {
   "cell_type": "code",
   "execution_count": null,
   "id": "2a6c7b41-818a-4fc8-98e8-346bf8038779",
   "metadata": {},
   "outputs": [],
   "source": []
  }
 ],
 "metadata": {
  "kernelspec": {
   "display_name": "Python 3",
   "language": "python",
   "name": "python3"
  },
  "language_info": {
   "codemirror_mode": {
    "name": "ipython",
    "version": 3
   },
   "file_extension": ".py",
   "mimetype": "text/x-python",
   "name": "python",
   "nbconvert_exporter": "python",
   "pygments_lexer": "ipython3",
   "version": "3.7.10"
  }
 },
 "nbformat": 4,
 "nbformat_minor": 5
}
