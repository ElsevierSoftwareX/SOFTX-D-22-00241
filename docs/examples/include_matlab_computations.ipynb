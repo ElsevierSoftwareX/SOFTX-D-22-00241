{
 "cells": [
  {
   "cell_type": "markdown",
   "id": "generic-lender",
   "metadata": {},
   "source": [
    "# Setup \n",
    "\n",
    "To control matlab via Python, you'll need to have installed the MATLAB engine for Python, which is available since `Matlab 2019a`. On kinsler, this is done via:\n",
    "\n",
    "\n",
    "```bash\n",
    "module load Matlab/2019a\n",
    "cd /apps/software/Matlab/R2019a/extern/engines/python/\n",
    "python setup.py build --build-base=$(mktemp -d) install\n",
    "```\n",
    "\n",
    "\n",
    "👉 [Click here for general install instructions](https://uk.mathworks.com/help/matlab/matlab_external/install-the-matlab-engine-for-python.html)\n",
    "\n",
    "To visualize 3D volumes (only via Google Chrome), install [k3d-jupyter](https://github.com/K3D-tools/K3D-jupyter)\n",
    "\n",
    "\n",
    "```bash\n",
    "pip install k3d\n",
    "```"
   ]
  },
  {
   "cell_type": "markdown",
   "id": "spiritual-dollar",
   "metadata": {},
   "source": [
    "# Calling MATLAB and kWave functions"
   ]
  },
  {
   "cell_type": "code",
   "execution_count": 2,
   "id": "loving-charlotte",
   "metadata": {},
   "outputs": [],
   "source": [
    "import jwave\n",
    "from jwave.geometry import kGrid, Medium\n",
    "from jwave.matlab import Matlab\n",
    "from jwave.physics import solve_helmholtz\n",
    "from jax import numpy as jnp\n",
    "import numpy as np\n",
    "import k3d"
   ]
  },
  {
   "cell_type": "markdown",
   "id": "elect-coating",
   "metadata": {},
   "source": [
    "## Opening a Matlab Instance\n",
    "\n",
    "The MATLAB engine can be started via the `start()` method of `jwave.matlab.Matlab`. It requires the paths for `k-Wave` and `off-grid-sources`. There are two ways to pass such information. \n",
    "\n",
    "The most direct method gives them as arguments to the construction of the `Matlab` object. \n",
    "\n",
    "```python\n",
    "mlb=jwave.matlab.Matlab(kwave_path=\"kwave/path\", offgrid_path=\"offgrid/path2\")\n",
    "```\n",
    "\n",
    "However, it is often tedious to write the paths every time a MATLAB instance is needed. Because the location of the `k-Wave` packages depends from the system, setting the paths by hand also makes notebooks and scripts non portable between different machines.\n",
    "\n",
    "Alternatively, if no paths are explicitly given during the constructor call, the method automatically looks for the OS environment variables `KWAVE_CORE_PATH` and `KWAVE_OFFGRID_PATH`. Such variables can be manually set each time a new shell/bash is opened, or automatically set by appending the following lines to the `.bashrc` file:\n",
    "```bash\n",
    "KWAVE_CORE_PATH=\"/home/antonio/repos/k-wave-matlab/k-Wave\"\n",
    "KWAVE_OFFGRID_PATH=\"/home/antonio/repos/off-grid-sources\"\n",
    "export KWAVE_CORE_PATH\n",
    "export KWAVE_OFFGRID_PATH\n",
    "```\n",
    "Alternatively, they can be directly set in notebook/scripts using the `os` package by running the following cell"
   ]
  },
  {
   "cell_type": "code",
   "execution_count": 3,
   "id": "military-analyst",
   "metadata": {},
   "outputs": [],
   "source": [
    "import os\n",
    "os.environ[\"KWAVE_CORE_PATH\"]=\"/mnt/Software/k-Wave\"\n",
    "os.environ[\"KWAVE_OFFGRID_PATH\"]=\"/mnt/Software/off-grid-sources\""
   ]
  },
  {
   "cell_type": "code",
   "execution_count": 4,
   "id": "together-engineering",
   "metadata": {},
   "outputs": [],
   "source": [
    "mlb = Matlab()"
   ]
  },
  {
   "cell_type": "markdown",
   "id": "turkish-earthquake",
   "metadata": {},
   "source": [
    "Note that you can join opened MATLAB sessions using `mlb.start(join_session=True)`. This hooks python to the matlab engine of a currently open istance, which provides additional feedback trough the MATLAB desktop interface. \n",
    "\n",
    "⚠️ **This doesn't work in remote sessions**, in that case a new MATLAB session will be opened"
   ]
  },
  {
   "cell_type": "code",
   "execution_count": 5,
   "id": "general-basis",
   "metadata": {},
   "outputs": [
    {
     "name": "stdout",
     "output_type": "stream",
     "text": [
      "Opening new matlab session\n"
     ]
    }
   ],
   "source": [
    "mlb.start()"
   ]
  },
  {
   "cell_type": "markdown",
   "id": "herbal-amount",
   "metadata": {},
   "source": [
    "## Running MATLAB commands from python"
   ]
  },
  {
   "cell_type": "code",
   "execution_count": 6,
   "id": "voluntary-disposition",
   "metadata": {},
   "outputs": [],
   "source": [
    "### Settings\n",
    "ppw = 4.     #number of points per wavelength at c0\n",
    "pml_size = 20\n",
    "\n",
    "# source parameters\n",
    "source_f0       = 500e3    # source frequency [Hz]\n",
    "source_mag      = 60e3     # source pressure [Pa]\n",
    "bowl_roc        = 64e-3    # bowl radius of curvature [m]\n",
    "bowl_diameter   = 64e-3    # bowl aperture diameter [m]\n",
    "\n",
    "# grid parameters\n",
    "axial_size      = 120e-3   # total grid size in the axial dimension [m]\n",
    "lateral_size    = 70e-3    # total grid size in the lateral dimension [m]\n",
    "source_x_offset = 41\n",
    "source_y_offset = 41\n",
    "\n",
    "# off grid source parameters\n",
    "bli_tolerance   = 0.02\n",
    "upsampling_rate = 10\n",
    "\n",
    "# medium properties\n",
    "c0 = 1500;       # reference sound speed used for calculations\n",
    "rho0 = 1000;     # reference density used for calculations\n",
    "     \n",
    "# calculate the grid spacing based on PPW and F0\n",
    "dx = c0 / (ppw * source_f0);   # [m]"
   ]
  },
  {
   "cell_type": "markdown",
   "id": "caroline-guatemala",
   "metadata": {},
   "source": [
    "To add variables to the MATLAB workspace, use the `add()` method, specifying value and the variable name to be used in the MATLAB workspace"
   ]
  },
  {
   "cell_type": "code",
   "execution_count": 7,
   "id": "rapid-realtor",
   "metadata": {},
   "outputs": [],
   "source": [
    "mlb.add(axial_size, \"axial_size\")\n",
    "mlb.add(lateral_size, \"lateral_size\")\n",
    "mlb.add(dx, \"dx\")"
   ]
  },
  {
   "cell_type": "markdown",
   "id": "subject-cookie",
   "metadata": {},
   "source": [
    "Getting outputs from matlab functions can be done via the `run()` function, using the argument `nargout=1`"
   ]
  },
  {
   "cell_type": "code",
   "execution_count": 8,
   "id": "blessed-outreach",
   "metadata": {},
   "outputs": [],
   "source": [
    "raw_Nx = mlb.run(\"roundEven(axial_size / dx)\", nargout=1) # Note the `nargout=1`\n",
    "\n",
    "Nx = int(raw_Nx) + 1 + source_x_offset\n",
    "Ny = int(mlb.run(\"roundEven(lateral_size / dx)\", nargout=1)) + 1 + source_x_offset"
   ]
  },
  {
   "cell_type": "markdown",
   "id": "major-british",
   "metadata": {},
   "source": [
    "You can also save the output of MATLAB commands by specifying a variable name"
   ]
  },
  {
   "cell_type": "code",
   "execution_count": 9,
   "id": "devoted-immunology",
   "metadata": {},
   "outputs": [],
   "source": [
    "mlb.add(Nx, \"Nx\")\n",
    "mlb.add(Ny, \"Ny\")\n",
    "\n",
    "# The following saves `double(Nx)` back into the `Nx` variable\n",
    "mlb.run(\"double(Nx)\",to=\"Nx\")\n",
    "\n",
    "mlb.run(\"double(Ny)\",to=\"Ny\")\n",
    "mlb.run(\"kWaveGrid(Nx, dx, Ny, dx, Ny, dx)\", \"kgrid\") # Creates a new kWaveGrid in the variable kgrid"
   ]
  },
  {
   "cell_type": "code",
   "execution_count": 10,
   "id": "accepted-jacob",
   "metadata": {},
   "outputs": [],
   "source": [
    "kgrid = kGrid.make_grid([Nx, Ny, Ny], [dx]*3) # Creates the corresponding jWave kGrid object"
   ]
  },
  {
   "cell_type": "code",
   "execution_count": 11,
   "id": "announced-replacement",
   "metadata": {},
   "outputs": [],
   "source": [
    "# Define source\n",
    "mlb.add(bli_tolerance, \"bli_tolerance\")\n",
    "mlb.add(upsampling_rate, \"upsampling_rate\")\n",
    "mlb.run(\"double(upsampling_rate)\",\"upsampling_rate\")\n",
    "mlb.run(\n",
    "    \"kWaveArray('BLITolerance', bli_tolerance, 'UpsamplingRate', upsampling_rate);\", \n",
    "    \"karray\"\n",
    ")\n",
    "                \n",
    "# set source position and orientation\n",
    "source_pos = [float(kgrid.space_axis[0]._value[0]) + source_x_offset * kgrid.dx[0], 0, 0]\n",
    "focus_pos = [float(kgrid.space_axis[0]._value[-1]), 0, 0]\n",
    "\n",
    "#add bowl shaped element\n",
    "mlb.add(source_pos, \"source_pos\")\n",
    "mlb.add(focus_pos, \"focus_pos\")\n",
    "mlb.add(bowl_roc, \"bowl_roc\")\n",
    "mlb.add(bowl_diameter, \"bowl_diameter\")\n",
    "\n",
    "mlb.run(\"karray.addBowlElement(source_pos, bowl_roc, bowl_diameter, focus_pos)\")"
   ]
  },
  {
   "cell_type": "code",
   "execution_count": 12,
   "id": "binding-sphere",
   "metadata": {},
   "outputs": [],
   "source": [
    "# Get mask and source field (takes a bit)\n",
    "src_mask = mlb.run(\"karray.getArrayBinaryMask(kgrid);\", nargout=1)\n",
    "src_field = mlb.run(\"karray.getArrayGridWeights(kgrid);\", nargout=1)"
   ]
  },
  {
   "cell_type": "markdown",
   "id": "controversial-audience",
   "metadata": {},
   "source": [
    "# Run the simulation in jWave"
   ]
  },
  {
   "cell_type": "code",
   "execution_count": 13,
   "id": "everyday-impression",
   "metadata": {},
   "outputs": [],
   "source": [
    "medium = Medium(\n",
    "    sound_speed=1500.*jnp.ones((Nx,Ny,Ny)),\n",
    "    density=1000,\n",
    "    attenuation=0.0,\n",
    "    pml_size=10\n",
    ")\n",
    "\n",
    "src_field = np.array(src_field).astype(np.complex64)\n",
    "\n",
    "omega = 2*np.pi*source_f0"
   ]
  },
  {
   "cell_type": "code",
   "execution_count": 14,
   "id": "indoor-virgin",
   "metadata": {},
   "outputs": [],
   "source": [
    "field = solve_helmholtz(\n",
    "    kgrid, \n",
    "    medium, \n",
    "    src_field, \n",
    "    omega,\n",
    "    maxiter=10000\n",
    ").block_until_ready()"
   ]
  },
  {
   "cell_type": "markdown",
   "id": "protective-black",
   "metadata": {},
   "source": [
    "The following cell visualizes a volume rendering of the results. This won't be visible in the documention, but only via running the Jupyter Notebook file."
   ]
  },
  {
   "cell_type": "code",
   "execution_count": 15,
   "id": "authorized-cricket",
   "metadata": {},
   "outputs": [
    {
     "data": {
      "application/vnd.jupyter.widget-view+json": {
       "model_id": "165e5ec1efc34de6a2ca1a4ad6d9ff55",
       "version_major": 2,
       "version_minor": 0
      },
      "text/plain": [
       "Output()"
      ]
     },
     "metadata": {},
     "output_type": "display_data"
    }
   ],
   "source": [
    "vol = np.abs(field)\n",
    "vol[vol>4000]=4000\n",
    "\n",
    "volume = k3d.volume(\n",
    "    vol,\n",
    "    alpha_coef=30,\n",
    "    shadow='dynamic',\n",
    "    samples=600,\n",
    "    shadow_res=128,\n",
    "    shadow_delay=50,\n",
    "    color_range=[300,np.amax(vol)]\n",
    ")\n",
    "\n",
    "src = np.abs(src_field)\n",
    "\n",
    "src_volume = k3d.volume(\n",
    "    src,\n",
    "    alpha_coef=1000,\n",
    "    shadow='dynamic',\n",
    "    samples=600,\n",
    "    shadow_res=128,\n",
    "    shadow_delay=50,\n",
    "    color_range=[0.1,10],\n",
    "    color_map=k3d.colormaps.matplotlib_color_maps.Gist_gray\n",
    ")\n",
    "\n",
    "plot = k3d.plot(camera_auto_fit=False, height=1000)\n",
    "plot += src_volume\n",
    "plot += volume\n",
    "plot.lighting = 2\n",
    "plot.display()"
   ]
  }
 ],
 "metadata": {
  "kernelspec": {
   "display_name": "Python 3",
   "language": "python",
   "name": "python3"
  },
  "language_info": {
   "codemirror_mode": {
    "name": "ipython",
    "version": 3
   },
   "file_extension": ".py",
   "mimetype": "text/x-python",
   "name": "python",
   "nbconvert_exporter": "python",
   "pygments_lexer": "ipython3",
   "version": "3.7.10"
  }
 },
 "nbformat": 4,
 "nbformat_minor": 5
}
