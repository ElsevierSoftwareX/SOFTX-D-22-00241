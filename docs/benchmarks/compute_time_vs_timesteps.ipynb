{
 "cells": [
  {
   "cell_type": "markdown",
   "id": "363fba43-9855-43d3-acca-c14b226833af",
   "metadata": {},
   "source": [
    "# Scaling with timesteps"
   ]
  },
  {
   "cell_type": "code",
   "execution_count": 1,
   "id": "dee4bde1-6e33-4848-85ee-491663463baa",
   "metadata": {},
   "outputs": [],
   "source": [
    "from jwave.geometry import Domain\n",
    "from jax import numpy as jnp\n",
    "from jwave.geometry import Medium,TimeAxis,_points_on_circle, Sensors, _circ_mask\n",
    "from jwave.acoustics import ongrid_wave_propagation\n",
    "from timeit import timeit"
   ]
  },
  {
   "cell_type": "code",
   "execution_count": 2,
   "id": "ad6c7238-e626-4c01-84f9-cf1c9c5e2e40",
   "metadata": {},
   "outputs": [],
   "source": [
    "N, dx = (256, 256), (0.1e-3, 0.1e-3)\n",
    "domain = Domain(N, dx)\n",
    "sound_speed = jnp.ones(N)*1500\n",
    "sound_speed = sound_speed.at[30:200,50:80].set(2500.)\n",
    "medium = Medium(domain=domain, sound_speed=sound_speed, pml_size=20)\n",
    "\n",
    "sensors_positions = (jnp.array([35]), jnp.array([40]))\n",
    "sensors = Sensors(positions=sensors_positions)\n",
    "\n",
    "mask1 = _circ_mask(N, 8, (100,100))\n",
    "mask2 = _circ_mask(N, 5, (160,120))\n",
    "mask3 = _circ_mask(N, 10, (128,128))\n",
    "mask4 = _circ_mask(N, 30, (128,128))\n",
    "p0 = 5.*mask1 + 3.*mask2 + 4.*mask3 + 0.5*mask4"
   ]
  },
  {
   "cell_type": "code",
   "execution_count": 72,
   "id": "b86cd47d-678b-448c-b713-40e2a121a5ed",
   "metadata": {},
   "outputs": [],
   "source": [
    "time_axis = TimeAxis.from_medium(medium, cfl=0.3, t_end=.05*1.2e-5)\n",
    "\n",
    "params, j_solver = ongrid_wave_propagation(\n",
    "    medium=medium,\n",
    "    time_array=time_axis,\n",
    "    output_t_axis = time_axis,\n",
    "    sensors=sensors,\n",
    "    backprop=False,\n",
    "    p0 = p0\n",
    ")"
   ]
  },
  {
   "cell_type": "code",
   "execution_count": 73,
   "id": "f70f5407-db45-4f88-96c8-0638b6c595eb",
   "metadata": {},
   "outputs": [
    {
     "data": {
      "text/plain": [
       "(50,)"
      ]
     },
     "execution_count": 73,
     "metadata": {},
     "output_type": "execute_result"
    }
   ],
   "source": [
    "time_axis.to_array().shape"
   ]
  },
  {
   "cell_type": "code",
   "execution_count": 74,
   "id": "5c56c2a7-6459-4fc3-b3a4-a698bc719521",
   "metadata": {},
   "outputs": [],
   "source": [
    "_ = j_solver(params)"
   ]
  },
  {
   "cell_type": "code",
   "execution_count": 75,
   "id": "f6d5a949-3245-4d06-8cb9-52beb59709c4",
   "metadata": {},
   "outputs": [
    {
     "name": "stdout",
     "output_type": "stream",
     "text": [
      "14.1 ms ± 68.8 µs per loop (mean ± std. dev. of 7 runs, 100 loops each)\n"
     ]
    }
   ],
   "source": [
    "%timeit j_solver(params).block_until_ready()"
   ]
  },
  {
   "cell_type": "code",
   "execution_count": 76,
   "id": "3fabf943-bf9e-4451-8d72-f78d77a847e0",
   "metadata": {},
   "outputs": [],
   "source": [
    "steps = [50, 100, 200, 500, 1000, 2000, 5000, 10000]\n",
    "\n",
    "# Times in ms\n",
    "mean_times = [14.1, 20.5, 32,  75,  144, 279, 682, 1340]\n",
    "std_times =  [0.1,  0.3,  0.4, 0.2, 0.5, 1.8, 2.1, 5.27]"
   ]
  },
  {
   "cell_type": "code",
   "execution_count": 77,
   "id": "65e079fd-3786-40c1-9681-7a4859431406",
   "metadata": {},
   "outputs": [
    {
     "name": "stdout",
     "output_type": "stream",
     "text": [
      "Thu Dec  2 19:06:06 2021       \n",
      "+-----------------------------------------------------------------------------+\n",
      "| NVIDIA-SMI 495.44       Driver Version: 495.44       CUDA Version: 11.5     |\n",
      "|-------------------------------+----------------------+----------------------+\n",
      "| GPU  Name        Persistence-M| Bus-Id        Disp.A | Volatile Uncorr. ECC |\n",
      "| Fan  Temp  Perf  Pwr:Usage/Cap|         Memory-Usage | GPU-Util  Compute M. |\n",
      "|                               |                      |               MIG M. |\n",
      "|===============================+======================+======================|\n",
      "|   0  Quadro RTX 4000     Off  | 00000000:01:00.0 Off |                  N/A |\n",
      "| 30%   56C    P8     3W / 125W |   7437MiB /  7973MiB |      0%      Default |\n",
      "|                               |                      |                  N/A |\n",
      "+-------------------------------+----------------------+----------------------+\n",
      "                                                                               \n",
      "+-----------------------------------------------------------------------------+\n",
      "| Processes:                                                                  |\n",
      "|  GPU   GI   CI        PID   Type   Process name                  GPU Memory |\n",
      "|        ID   ID                                                   Usage      |\n",
      "|=============================================================================|\n",
      "|    0   N/A  N/A       926      G   /usr/lib/Xorg                     108MiB |\n",
      "|    0   N/A  N/A       960      G   /usr/bin/gnome-shell                8MiB |\n",
      "|    0   N/A  N/A    177315      C   ...da3/envs/jwave/bin/python     7315MiB |\n",
      "+-----------------------------------------------------------------------------+\n"
     ]
    }
   ],
   "source": [
    "!nvidia-smi"
   ]
  },
  {
   "cell_type": "code",
   "execution_count": 78,
   "id": "af95788a-bb57-468f-a0b4-ecd3c5c0a584",
   "metadata": {},
   "outputs": [
    {
     "data": {
      "image/png": "[encoded data removed]",
      "text/plain": [
       "<Figure size 432x288 with 1 Axes>"
      ]
     },
     "metadata": {
      "needs_background": "light"
     },
     "output_type": "display_data"
    }
   ],
   "source": [
    "from matplotlib import pyplot as plt\n",
    "\n",
    "plt.errorbar(steps, mean_times, yerr=std_times)\n",
    "plt.ylabel(\"ms\")\n",
    "plt.xlabel(\"steps\")\n",
    "plt.xscale(\"log\")\n",
    "plt.yscale(\"log\")"
   ]
  },
  {
   "cell_type": "code",
   "execution_count": null,
   "id": "c7cb673b-64f3-4c43-85b6-7ac5ea902447",
   "metadata": {},
   "outputs": [],
   "source": []
  }
 ],
 "metadata": {
  "kernelspec": {
   "display_name": "Python 3 (ipykernel)",
   "language": "python",
   "name": "python3"
  },
  "language_info": {
   "codemirror_mode": {
    "name": "ipython",
    "version": 3
   },
   "file_extension": ".py",
   "mimetype": "text/x-python",
   "name": "python",
   "nbconvert_exporter": "python",
   "pygments_lexer": "ipython3",
   "version": "3.8.12"
  }
 },
 "nbformat": 4,
 "nbformat_minor": 5
}
