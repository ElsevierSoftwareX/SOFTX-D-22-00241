{
 "cells": [
  {
   "cell_type": "markdown",
   "id": "363fba43-9855-43d3-acca-c14b226833af",
   "metadata": {},
   "source": [
    "# Scaling with domain size 2D"
   ]
  },
  {
   "cell_type": "code",
   "execution_count": 1,
   "id": "dee4bde1-6e33-4848-85ee-491663463baa",
   "metadata": {},
   "outputs": [],
   "source": [
    "from jwave.geometry import Domain\n",
    "from jax import numpy as jnp\n",
    "from jwave.geometry import Medium,TimeAxis,_points_on_circle, Sensors, _circ_mask\n",
    "from jwave.acoustics import simulate_wave_propagation\n",
    "from jwave import FourierSeries\n",
    "from timeit import timeit\n",
    "from jax import jit"
   ]
  },
  {
   "cell_type": "code",
   "execution_count": 8,
   "id": "7da6f5aa-e569-47aa-bd38-29d6d19ddbbd",
   "metadata": {},
   "outputs": [],
   "source": [
    "N0 = 2048"
   ]
  },
  {
   "cell_type": "code",
   "execution_count": 9,
   "id": "ad6c7238-e626-4c01-84f9-cf1c9c5e2e40",
   "metadata": {},
   "outputs": [],
   "source": [
    "N, dx = (N0, N0), (0.1e-3, 0.1e-3)\n",
    "domain = Domain(N, dx)\n",
    "sound_speed = 1500.\n",
    "medium = Medium(domain=domain, sound_speed=sound_speed, pml_size=20)\n",
    "\n",
    "sensors_positions = (jnp.array([35]), jnp.array([40]))\n",
    "sensors = Sensors(positions=sensors_positions)\n",
    "\n",
    "mask1 = _circ_mask(N, 8, (N0//2,N0//2))\n",
    "p0 = FourierSeries(jnp.expand_dims(5.*mask1, -1), domain)"
   ]
  },
  {
   "cell_type": "code",
   "execution_count": 10,
   "id": "b86cd47d-678b-448c-b713-40e2a121a5ed",
   "metadata": {},
   "outputs": [],
   "source": [
    "time_axis = TimeAxis.from_medium(medium, cfl=0.3, t_end=1.998e-5)\n",
    "\n",
    "@jit\n",
    "def solver(p0):\n",
    "    return simulate_wave_propagation(medium, time_axis, p0=p0, sensors=sensors)\n"
   ]
  },
  {
   "cell_type": "code",
   "execution_count": 11,
   "id": "5c56c2a7-6459-4fc3-b3a4-a698bc719521",
   "metadata": {},
   "outputs": [],
   "source": [
    "_ = solver(p0)"
   ]
  },
  {
   "cell_type": "code",
   "execution_count": 12,
   "id": "f6d5a949-3245-4d06-8cb9-52beb59709c4",
   "metadata": {},
   "outputs": [
    {
     "name": "stdout",
     "output_type": "stream",
     "text": [
      "6.37 s ± 27.1 ms per loop (mean ± std. dev. of 7 runs, 1 loop each)\n"
     ]
    }
   ],
   "source": [
    "%timeit solver(p0).block_until_ready()"
   ]
  },
  {
   "cell_type": "code",
   "execution_count": 14,
   "id": "3fabf943-bf9e-4451-8d72-f78d77a847e0",
   "metadata": {},
   "outputs": [],
   "source": [
    "steps = [64, 92, 128, 192, 256, 512, 784, 1024, 2048]\n",
    "\n",
    "# Times in ms\n",
    "mean_times = [64, 80, 72, 94, 95, 329, 1030, 1550, 6370]"
   ]
  },
  {
   "cell_type": "code",
   "execution_count": 15,
   "id": "65e079fd-3786-40c1-9681-7a4859431406",
   "metadata": {},
   "outputs": [
    {
     "name": "stdout",
     "output_type": "stream",
     "text": [
      "Tue Mar 15 13:54:59 2022       \n",
      "+-----------------------------------------------------------------------------+\n",
      "| NVIDIA-SMI 510.54       Driver Version: 510.54       CUDA Version: 11.6     |\n",
      "|-------------------------------+----------------------+----------------------+\n",
      "| GPU  Name        Persistence-M| Bus-Id        Disp.A | Volatile Uncorr. ECC |\n",
      "| Fan  Temp  Perf  Pwr:Usage/Cap|         Memory-Usage | GPU-Util  Compute M. |\n",
      "|                               |                      |               MIG M. |\n",
      "|===============================+======================+======================|\n",
      "|   0  Quadro RTX 4000     Off  | 00000000:01:00.0  On |                  N/A |\n",
      "| 64%   79C    P0    40W / 125W |   7450MiB /  8192MiB |      8%      Default |\n",
      "|                               |                      |                  N/A |\n",
      "+-------------------------------+----------------------+----------------------+\n",
      "                                                                               \n",
      "+-----------------------------------------------------------------------------+\n",
      "| Processes:                                                                  |\n",
      "|  GPU   GI   CI        PID   Type   Process name                  GPU Memory |\n",
      "|        ID   ID                                                   Usage      |\n",
      "|=============================================================================|\n",
      "|    0   N/A  N/A    576348      G   /usr/lib/Xorg                     186MiB |\n",
      "|    0   N/A  N/A    576415      G   /usr/bin/gnome-shell              109MiB |\n",
      "|    0   N/A  N/A    603692      G   ...AAAAAAAAA= --shared-files       16MiB |\n",
      "|    0   N/A  N/A    608052      G   ...veSuggestionsOnlyOnDemand       47MiB |\n",
      "|    0   N/A  N/A    608459      G   /usr/lib/firefox/firefox           64MiB |\n",
      "|    0   N/A  N/A    616330      G   ...166309926380841587,131072       36MiB |\n",
      "|    0   N/A  N/A    618556      C   ...da3/envs/jwave/bin/python     6935MiB |\n",
      "+-----------------------------------------------------------------------------+\n"
     ]
    }
   ],
   "source": [
    "!nvidia-smi"
   ]
  },
  {
   "cell_type": "code",
   "execution_count": 20,
   "id": "0da903eb-b869-432c-86b6-f439f2adb570",
   "metadata": {},
   "outputs": [
    {
     "data": {
      "text/plain": [
       "999"
      ]
     },
     "execution_count": 20,
     "metadata": {},
     "output_type": "execute_result"
    }
   ],
   "source": [
    "len(time_axis.to_array())"
   ]
  },
  {
   "cell_type": "code",
   "execution_count": 19,
   "id": "af95788a-bb57-468f-a0b4-ecd3c5c0a584",
   "metadata": {},
   "outputs": [
    {
     "data": {
      "text/plain": [
       "<matplotlib.legend.Legend at 0x7fb2929ba1f0>"
      ]
     },
     "execution_count": 19,
     "metadata": {},
     "output_type": "execute_result"
    },
    {
     "data": {
      "image/png": "[encoded data removed]",
      "text/plain": [
       "<Figure size 432x288 with 1 Axes>"
      ]
     },
     "metadata": {
      "needs_background": "light"
     },
     "output_type": "display_data"
    }
   ],
   "source": [
    "from matplotlib import pyplot as plt\n",
    "\n",
    "#plt.errorbar(steps, mean_times, yerr=std_times, marker='o')\n",
    "plt.plot(steps, mean_times, marker='o')\n",
    "x_sq = list(map(lambda x: float(x/30)**2, steps[4:]))\n",
    "plt.plot(steps[4:], x_sq, linestyle='--', label=\"k x^2\")\n",
    "\n",
    "plt.ylabel(\"msec\")\n",
    "plt.xlabel(\"Domain size\")\n",
    "plt.xscale(\"log\")\n",
    "plt.yscale(\"log\")\n",
    "plt.legend()"
   ]
  },
  {
   "cell_type": "code",
   "execution_count": null,
   "id": "d32e5589-9dee-4f00-acda-f15259d5035c",
   "metadata": {},
   "outputs": [],
   "source": []
  }
 ],
 "metadata": {
  "kernelspec": {
   "display_name": "Python 3 (ipykernel)",
   "language": "python",
   "name": "python3"
  },
  "language_info": {
   "codemirror_mode": {
    "name": "ipython",
    "version": 3
   },
   "file_extension": ".py",
   "mimetype": "text/x-python",
   "name": "python",
   "nbconvert_exporter": "python",
   "pygments_lexer": "ipython3",
   "version": "3.8.12"
  }
 },
 "nbformat": 4,
 "nbformat_minor": 5
}
