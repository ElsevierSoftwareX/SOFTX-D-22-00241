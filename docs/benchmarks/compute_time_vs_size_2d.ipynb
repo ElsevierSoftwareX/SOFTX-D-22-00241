{
 "cells": [
  {
   "cell_type": "markdown",
   "id": "363fba43-9855-43d3-acca-c14b226833af",
   "metadata": {},
   "source": [
    "# Scaling with domain size 2D"
   ]
  },
  {
   "cell_type": "code",
   "execution_count": 1,
   "id": "dee4bde1-6e33-4848-85ee-491663463baa",
   "metadata": {},
   "outputs": [],
   "source": [
    "from jwave.geometry import Domain\n",
    "from jax import numpy as jnp\n",
    "from jwave.geometry import Medium,TimeAxis,_points_on_circle, Sensors, _circ_mask\n",
    "from jwave.acoustics import ongrid_wave_propagation\n",
    "from timeit import timeit"
   ]
  },
  {
   "cell_type": "code",
   "execution_count": 17,
   "id": "7da6f5aa-e569-47aa-bd38-29d6d19ddbbd",
   "metadata": {},
   "outputs": [],
   "source": [
    "N0 = 2048"
   ]
  },
  {
   "cell_type": "code",
   "execution_count": 18,
   "id": "ad6c7238-e626-4c01-84f9-cf1c9c5e2e40",
   "metadata": {},
   "outputs": [],
   "source": [
    "N, dx = (N0, N0), (0.1e-3, 0.1e-3)\n",
    "domain = Domain(N, dx)\n",
    "sound_speed = jnp.ones(N)*1500\n",
    "medium = Medium(domain=domain, sound_speed=sound_speed, pml_size=20)\n",
    "\n",
    "sensors_positions = (jnp.array([35]), jnp.array([40]))\n",
    "sensors = Sensors(positions=sensors_positions)\n",
    "\n",
    "mask1 = _circ_mask(N, 8, (N0//2,N0//2))\n",
    "p0 = 5.*mask1"
   ]
  },
  {
   "cell_type": "code",
   "execution_count": 19,
   "id": "b86cd47d-678b-448c-b713-40e2a121a5ed",
   "metadata": {},
   "outputs": [],
   "source": [
    "time_axis = TimeAxis.from_medium(medium, cfl=0.3, t_end=1.998e-5)\n",
    "\n",
    "params, j_solver = ongrid_wave_propagation(\n",
    "    medium=medium,\n",
    "    time_array=time_axis,\n",
    "    output_t_axis = time_axis,\n",
    "    sensors=sensors,\n",
    "    backprop=False,\n",
    "    p0 = p0\n",
    ")"
   ]
  },
  {
   "cell_type": "code",
   "execution_count": 20,
   "id": "f70f5407-db45-4f88-96c8-0638b6c595eb",
   "metadata": {},
   "outputs": [
    {
     "data": {
      "text/plain": [
       "(1000,)"
      ]
     },
     "execution_count": 20,
     "metadata": {},
     "output_type": "execute_result"
    }
   ],
   "source": [
    "time_axis.to_array().shape"
   ]
  },
  {
   "cell_type": "code",
   "execution_count": 21,
   "id": "5c56c2a7-6459-4fc3-b3a4-a698bc719521",
   "metadata": {},
   "outputs": [],
   "source": [
    "_ = j_solver(params)"
   ]
  },
  {
   "cell_type": "code",
   "execution_count": 22,
   "id": "f6d5a949-3245-4d06-8cb9-52beb59709c4",
   "metadata": {},
   "outputs": [
    {
     "name": "stdout",
     "output_type": "stream",
     "text": [
      "6.66 s ± 45.1 ms per loop (mean ± std. dev. of 7 runs, 1 loop each)\n"
     ]
    }
   ],
   "source": [
    "%timeit j_solver(params).block_until_ready()"
   ]
  },
  {
   "cell_type": "code",
   "execution_count": 23,
   "id": "3fabf943-bf9e-4451-8d72-f78d77a847e0",
   "metadata": {},
   "outputs": [],
   "source": [
    "steps = [64, 92, 128, 192, 256, 512, 784, 1024, 2048]\n",
    "\n",
    "# Times in ms\n",
    "mean_times = [101, 119, 112, 119, 143, 387,  1080, 1660, 6660]\n",
    "std_times =  [.45, .66, .43, .66, .39, 1.16, 1.33, 2.11, 45]"
   ]
  },
  {
   "cell_type": "code",
   "execution_count": 24,
   "id": "65e079fd-3786-40c1-9681-7a4859431406",
   "metadata": {},
   "outputs": [
    {
     "name": "stdout",
     "output_type": "stream",
     "text": [
      "Thu Dec  2 20:07:14 2021       \n",
      "+-----------------------------------------------------------------------------+\n",
      "| NVIDIA-SMI 495.44       Driver Version: 495.44       CUDA Version: 11.5     |\n",
      "|-------------------------------+----------------------+----------------------+\n",
      "| GPU  Name        Persistence-M| Bus-Id        Disp.A | Volatile Uncorr. ECC |\n",
      "| Fan  Temp  Perf  Pwr:Usage/Cap|         Memory-Usage | GPU-Util  Compute M. |\n",
      "|                               |                      |               MIG M. |\n",
      "|===============================+======================+======================|\n",
      "|   0  Quadro RTX 4000     Off  | 00000000:01:00.0 Off |                  N/A |\n",
      "| 60%   73C    P0    38W / 125W |   7432MiB /  7973MiB |      0%      Default |\n",
      "|                               |                      |                  N/A |\n",
      "+-------------------------------+----------------------+----------------------+\n",
      "                                                                               \n",
      "+-----------------------------------------------------------------------------+\n",
      "| Processes:                                                                  |\n",
      "|  GPU   GI   CI        PID   Type   Process name                  GPU Memory |\n",
      "|        ID   ID                                                   Usage      |\n",
      "|=============================================================================|\n",
      "|    0   N/A  N/A       926      G   /usr/lib/Xorg                     108MiB |\n",
      "|    0   N/A  N/A       960      G   /usr/bin/gnome-shell                6MiB |\n",
      "|    0   N/A  N/A    208176      C   ...da3/envs/jwave/bin/python     7313MiB |\n",
      "+-----------------------------------------------------------------------------+\n"
     ]
    }
   ],
   "source": [
    "!nvidia-smi"
   ]
  },
  {
   "cell_type": "code",
   "execution_count": 30,
   "id": "af95788a-bb57-468f-a0b4-ecd3c5c0a584",
   "metadata": {},
   "outputs": [
    {
     "data": {
      "text/plain": [
       "<matplotlib.legend.Legend at 0x7f4d4127ec70>"
      ]
     },
     "execution_count": 30,
     "metadata": {},
     "output_type": "execute_result"
    },
    {
     "data": {
      "image/png": "[encoded data removed]",
      "text/plain": [
       "<Figure size 432x288 with 1 Axes>"
      ]
     },
     "metadata": {
      "needs_background": "light"
     },
     "output_type": "display_data"
    }
   ],
   "source": [
    "from matplotlib import pyplot as plt\n",
    "\n",
    "plt.errorbar(steps, mean_times, yerr=std_times, marker='o')\n",
    "x_sq = list(map(lambda x: float(x/30)**2, steps[4:]))\n",
    "plt.plot(steps[4:], x_sq, linestyle='--', label=\"k x^2\")\n",
    "\n",
    "plt.ylabel(\"sec\")\n",
    "plt.xlabel(\"Domain size\")\n",
    "plt.xscale(\"log\")\n",
    "plt.yscale(\"log\")\n",
    "plt.legend()"
   ]
  }
 ],
 "metadata": {
  "kernelspec": {
   "display_name": "Python 3 (ipykernel)",
   "language": "python",
   "name": "python3"
  },
  "language_info": {
   "codemirror_mode": {
    "name": "ipython",
    "version": 3
   },
   "file_extension": ".py",
   "mimetype": "text/x-python",
   "name": "python",
   "nbconvert_exporter": "python",
   "pygments_lexer": "ipython3",
   "version": "3.8.12"
  }
 },
 "nbformat": 4,
 "nbformat_minor": 5
}
