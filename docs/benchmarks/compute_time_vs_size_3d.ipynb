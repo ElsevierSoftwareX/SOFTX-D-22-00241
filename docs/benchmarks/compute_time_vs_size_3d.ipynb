{
 "cells": [
  {
   "cell_type": "markdown",
   "id": "363fba43-9855-43d3-acca-c14b226833af",
   "metadata": {},
   "source": [
    "# Scaling with domain size 3"
   ]
  },
  {
   "cell_type": "code",
   "execution_count": 1,
   "id": "dee4bde1-6e33-4848-85ee-491663463baa",
   "metadata": {},
   "outputs": [],
   "source": [
    "from jwave.geometry import Domain\n",
    "from jax import numpy as jnp\n",
    "from jwave.geometry import Medium,TimeAxis,_points_on_circle, Sensors, _sphere_mask\n",
    "from jwave.acoustics import ongrid_wave_propagation\n",
    "from timeit import timeit\n",
    "from matplotlib import pyplot as plt"
   ]
  },
  {
   "cell_type": "code",
   "execution_count": 32,
   "id": "7da6f5aa-e569-47aa-bd38-29d6d19ddbbd",
   "metadata": {},
   "outputs": [],
   "source": [
    "N0 = 256"
   ]
  },
  {
   "cell_type": "code",
   "execution_count": 33,
   "id": "ad6c7238-e626-4c01-84f9-cf1c9c5e2e40",
   "metadata": {},
   "outputs": [],
   "source": [
    "N, dx = (N0, N0, N0), (0.1e-3, 0.1e-3, 0.1e-3)\n",
    "domain = Domain(N, dx)\n",
    "sound_speed = jnp.ones(N)*1500\n",
    "medium = Medium(domain=domain, sound_speed=sound_speed, pml_size=15)\n",
    "\n",
    "sensors_positions = (jnp.array([25]), jnp.array([25]), jnp.array([25]))\n",
    "sensors = Sensors(positions=sensors_positions)\n",
    "\n",
    "mask1 = _sphere_mask(N, 8, (N0//2,N0//2,N0//2))\n",
    "p0 = 5.*mask1"
   ]
  },
  {
   "cell_type": "code",
   "execution_count": 34,
   "id": "b86cd47d-678b-448c-b713-40e2a121a5ed",
   "metadata": {},
   "outputs": [],
   "source": [
    "time_axis = TimeAxis.from_medium(medium, cfl=0.3, t_end=0.25*1.998e-5)\n",
    "\n",
    "params, j_solver = ongrid_wave_propagation(\n",
    "    medium=medium,\n",
    "    time_array=time_axis,\n",
    "    output_t_axis = time_axis,\n",
    "    sensors=sensors,\n",
    "    backprop=False,\n",
    "    p0 = p0\n",
    ")"
   ]
  },
  {
   "cell_type": "code",
   "execution_count": 35,
   "id": "f70f5407-db45-4f88-96c8-0638b6c595eb",
   "metadata": {},
   "outputs": [
    {
     "data": {
      "text/plain": [
       "(250,)"
      ]
     },
     "execution_count": 35,
     "metadata": {},
     "output_type": "execute_result"
    }
   ],
   "source": [
    "time_axis.to_array().shape"
   ]
  },
  {
   "cell_type": "code",
   "execution_count": 36,
   "id": "f097fca2-b95f-4c10-8542-ea9f21e21a2d",
   "metadata": {},
   "outputs": [],
   "source": [
    "p = j_solver(params)"
   ]
  },
  {
   "cell_type": "code",
   "execution_count": 37,
   "id": "f6d5a949-3245-4d06-8cb9-52beb59709c4",
   "metadata": {},
   "outputs": [
    {
     "name": "stdout",
     "output_type": "stream",
     "text": [
      "10.7 s ± 8.1 ms per loop (mean ± std. dev. of 7 runs, 1 loop each)\n"
     ]
    }
   ],
   "source": [
    "%timeit j_solver(params).block_until_ready()"
   ]
  },
  {
   "cell_type": "code",
   "execution_count": 38,
   "id": "3fabf943-bf9e-4451-8d72-f78d77a847e0",
   "metadata": {},
   "outputs": [],
   "source": [
    "steps = [48, 64, 96, 128, 192, 256]\n",
    "\n",
    "# Times in ms\n",
    "mean_times = [.083,   .153,  .608, 1.390, 4.69, 10.7]\n",
    "std_times =  [.3e-3, .5e-3, .5e-3, .8e-3,  .02, .008]"
   ]
  },
  {
   "cell_type": "code",
   "execution_count": 39,
   "id": "65e079fd-3786-40c1-9681-7a4859431406",
   "metadata": {},
   "outputs": [
    {
     "name": "stdout",
     "output_type": "stream",
     "text": [
      "Thu Dec  2 20:01:28 2021       \n",
      "+-----------------------------------------------------------------------------+\n",
      "| NVIDIA-SMI 495.44       Driver Version: 495.44       CUDA Version: 11.5     |\n",
      "|-------------------------------+----------------------+----------------------+\n",
      "| GPU  Name        Persistence-M| Bus-Id        Disp.A | Volatile Uncorr. ECC |\n",
      "| Fan  Temp  Perf  Pwr:Usage/Cap|         Memory-Usage | GPU-Util  Compute M. |\n",
      "|                               |                      |               MIG M. |\n",
      "|===============================+======================+======================|\n",
      "|   0  Quadro RTX 4000     Off  | 00000000:01:00.0 Off |                  N/A |\n",
      "| 65%   77C    P0    39W / 125W |   7436MiB /  7973MiB |      0%      Default |\n",
      "|                               |                      |                  N/A |\n",
      "+-------------------------------+----------------------+----------------------+\n",
      "                                                                               \n",
      "+-----------------------------------------------------------------------------+\n",
      "| Processes:                                                                  |\n",
      "|  GPU   GI   CI        PID   Type   Process name                  GPU Memory |\n",
      "|        ID   ID                                                   Usage      |\n",
      "|=============================================================================|\n",
      "|    0   N/A  N/A       926      G   /usr/lib/Xorg                     108MiB |\n",
      "|    0   N/A  N/A       960      G   /usr/bin/gnome-shell                6MiB |\n",
      "|    0   N/A  N/A    203378      C   ...da3/envs/jwave/bin/python     7317MiB |\n",
      "+-----------------------------------------------------------------------------+\n"
     ]
    }
   ],
   "source": [
    "!nvidia-smi"
   ]
  },
  {
   "cell_type": "code",
   "execution_count": 51,
   "id": "af95788a-bb57-468f-a0b4-ecd3c5c0a584",
   "metadata": {},
   "outputs": [
    {
     "data": {
      "text/plain": [
       "<matplotlib.legend.Legend at 0x7f42b075fb20>"
      ]
     },
     "execution_count": 51,
     "metadata": {},
     "output_type": "execute_result"
    },
    {
     "data": {
      "image/png": "[encoded data removed]",
      "text/plain": [
       "<Figure size 432x288 with 1 Axes>"
      ]
     },
     "metadata": {
      "needs_background": "light"
     },
     "output_type": "display_data"
    }
   ],
   "source": [
    "plt.errorbar(steps, mean_times, yerr=std_times, marker='o')\n",
    "x_cube = list(map(lambda x: float(x/112)**3, steps))\n",
    "plt.plot(steps, x_cube, linestyle='--', label=\"k x^3\")\n",
    "\n",
    "plt.ylabel(\"sec\")\n",
    "plt.xlabel(\"Domain size\")\n",
    "plt.xscale(\"log\")\n",
    "plt.yscale(\"log\")\n",
    "plt.legend()"
   ]
  },
  {
   "cell_type": "code",
   "execution_count": null,
   "id": "c7cb673b-64f3-4c43-85b6-7ac5ea902447",
   "metadata": {},
   "outputs": [],
   "source": []
  }
 ],
 "metadata": {
  "kernelspec": {
   "display_name": "Python 3 (ipykernel)",
   "language": "python",
   "name": "python3"
  },
  "language_info": {
   "codemirror_mode": {
    "name": "ipython",
    "version": 3
   },
   "file_extension": ".py",
   "mimetype": "text/x-python",
   "name": "python",
   "nbconvert_exporter": "python",
   "pygments_lexer": "ipython3",
   "version": "3.8.12"
  }
 },
 "nbformat": 4,
 "nbformat_minor": 5
}
