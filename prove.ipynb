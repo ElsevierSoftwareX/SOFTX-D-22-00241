{
 "cells": [
  {
   "cell_type": "code",
   "execution_count": 12,
   "id": "4aedf5af-15b3-436c-9a02-cf3541744c92",
   "metadata": {},
   "outputs": [],
   "source": [
    "class Globals(dict):\n",
    "    def __init__(self):\n",
    "        self.dict = {}\n",
    "        \n",
    "    def __getitem__(self, key):\n",
    "        return self.dict[key]\n",
    "        \n",
    "    def keys(self):\n",
    "        return self.dict.keys()\n",
    "    \n",
    "    def __setitem__(self, key, value):\n",
    "        if key not in self.dict.keys():\n",
    "            self.dict[key] = value\n",
    "        else:\n",
    "            print(f\"{} already exists )\n",
    "    \n",
    "    def items(self):\n",
    "        return self.dict.items()"
   ]
  },
  {
   "cell_type": "code",
   "execution_count": 13,
   "id": "cf51c818-8c70-4db8-88ae-50d44b6a3d6f",
   "metadata": {},
   "outputs": [],
   "source": [
    "a = Globals()"
   ]
  },
  {
   "cell_type": "code",
   "execution_count": 14,
   "id": "4a4eb204-b812-4365-a5c0-e020c57323eb",
   "metadata": {},
   "outputs": [
    {
     "data": {
      "text/plain": [
       "{}"
      ]
     },
     "execution_count": 14,
     "metadata": {},
     "output_type": "execute_result"
    }
   ],
   "source": [
    "a"
   ]
  },
  {
   "cell_type": "code",
   "execution_count": 15,
   "id": "377a1aeb-df13-42c9-81fb-78bb5597036f",
   "metadata": {},
   "outputs": [],
   "source": [
    "a['mario'] = 3"
   ]
  },
  {
   "cell_type": "code",
   "execution_count": 16,
   "id": "389e1db7-ff29-49d9-ba9c-3f2217c0302e",
   "metadata": {},
   "outputs": [
    {
     "data": {
      "text/plain": [
       "{'mario': 3}"
      ]
     },
     "execution_count": 16,
     "metadata": {},
     "output_type": "execute_result"
    }
   ],
   "source": [
    "a"
   ]
  },
  {
   "cell_type": "code",
   "execution_count": 17,
   "id": "5bb28834-3966-42fc-80c3-a964c2ead79d",
   "metadata": {},
   "outputs": [],
   "source": [
    "a['enzo'] = 3"
   ]
  },
  {
   "cell_type": "code",
   "execution_count": 18,
   "id": "e6353665-676d-4ba7-88cf-61fbf2162f9d",
   "metadata": {},
   "outputs": [
    {
     "data": {
      "text/plain": [
       "{'mario': 3, 'enzo': 3}"
      ]
     },
     "execution_count": 18,
     "metadata": {},
     "output_type": "execute_result"
    }
   ],
   "source": [
    "a"
   ]
  },
  {
   "cell_type": "code",
   "execution_count": 21,
   "id": "7de40ba9-81a9-47d5-8e12-1ddd2a810925",
   "metadata": {},
   "outputs": [],
   "source": [
    "a['mario'] = 4"
   ]
  },
  {
   "cell_type": "code",
   "execution_count": 22,
   "id": "13cede45-3122-4ff0-ba54-27f628c6085d",
   "metadata": {},
   "outputs": [
    {
     "data": {
      "text/plain": [
       "{'mario': 3, 'enzo': 3}"
      ]
     },
     "execution_count": 22,
     "metadata": {},
     "output_type": "execute_result"
    }
   ],
   "source": [
    "a"
   ]
  },
  {
   "cell_type": "code",
   "execution_count": null,
   "id": "bb724a79-13fb-462a-98dd-fba3be5ffbad",
   "metadata": {},
   "outputs": [],
   "source": []
  }
 ],
 "metadata": {
  "kernelspec": {
   "display_name": "Python 3",
   "language": "python",
   "name": "python3"
  },
  "language_info": {
   "codemirror_mode": {
    "name": "ipython",
    "version": 3
   },
   "file_extension": ".py",
   "mimetype": "text/x-python",
   "name": "python",
   "nbconvert_exporter": "python",
   "pygments_lexer": "ipython3",
   "version": "3.7.10"
  }
 },
 "nbformat": 4,
 "nbformat_minor": 5
}
